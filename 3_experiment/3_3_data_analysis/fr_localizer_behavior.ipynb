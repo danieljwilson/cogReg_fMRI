{
 "cells": [
  {
   "cell_type": "markdown",
   "metadata": {
    "toc-hr-collapsed": false
   },
   "source": [
    "---\n",
    "# Setup\n",
    "---"
   ]
  },
  {
   "cell_type": "markdown",
   "metadata": {},
   "source": [
    "## Imports"
   ]
  },
  {
   "cell_type": "code",
   "execution_count": 6,
   "metadata": {},
   "outputs": [
    {
     "name": "stderr",
     "output_type": "stream",
     "text": [
      "── Attaching packages ─────────────────────────────────────── tidyverse 1.2.1 ──\n",
      "✔ ggplot2 3.1.1       ✔ purrr   0.3.2  \n",
      "✔ tibble  2.1.1       ✔ dplyr   0.8.0.1\n",
      "✔ tidyr   0.8.3       ✔ stringr 1.4.0  \n",
      "✔ readr   1.3.1       ✔ forcats 0.4.0  \n",
      "── Conflicts ────────────────────────────────────────── tidyverse_conflicts() ──\n",
      "✖ dplyr::arrange()   masks plyr::arrange()\n",
      "✖ purrr::compact()   masks plyr::compact()\n",
      "✖ dplyr::count()     masks plyr::count()\n",
      "✖ dplyr::failwith()  masks plyr::failwith()\n",
      "✖ dplyr::filter()    masks stats::filter()\n",
      "✖ dplyr::id()        masks plyr::id()\n",
      "✖ dplyr::lag()       masks stats::lag()\n",
      "✖ dplyr::mutate()    masks plyr::mutate()\n",
      "✖ dplyr::rename()    masks plyr::rename()\n",
      "✖ dplyr::summarise() masks plyr::summarise()\n",
      "✖ dplyr::summarize() masks plyr::summarize()\n",
      "Loading required package: Matrix\n",
      "\n",
      "Attaching package: ‘Matrix’\n",
      "\n",
      "The following object is masked from ‘package:tidyr’:\n",
      "\n",
      "    expand\n",
      "\n",
      "Loading required package: carData\n",
      "\n",
      "Attaching package: ‘car’\n",
      "\n",
      "The following object is masked from ‘package:dplyr’:\n",
      "\n",
      "    recode\n",
      "\n",
      "The following object is masked from ‘package:purrr’:\n",
      "\n",
      "    some\n",
      "\n",
      "\n",
      "Attaching package: ‘lmerTest’\n",
      "\n",
      "The following object is masked from ‘package:lme4’:\n",
      "\n",
      "    lmer\n",
      "\n",
      "The following object is masked from ‘package:stats’:\n",
      "\n",
      "    step\n",
      "\n",
      "\n",
      "Attaching package: ‘data.table’\n",
      "\n",
      "The following objects are masked from ‘package:dplyr’:\n",
      "\n",
      "    between, first, last\n",
      "\n",
      "The following object is masked from ‘package:purrr’:\n",
      "\n",
      "    transpose\n",
      "\n"
     ]
    }
   ],
   "source": [
    "# Import Libraries\n",
    "library(plyr)\n",
    "library(tidyverse)\n",
    "library(lme4)\n",
    "library(car)\n",
    "library(ggplot2)\n",
    "library(lmerTest)\n",
    "library(broom)\n",
    "library(data.table)\n",
    "library(pander)\n",
    "library(emmeans)\n",
    "library(ggsignif)\n",
    "\n",
    "# Load helper functions\n",
    "source(\"r_scripts/helper_functions.R\")\n",
    "\n",
    "## set universal plot size:\n",
    "options(repr.plot.width=7, repr.plot.height=3.5)\n",
    "\n",
    "# avoids scientific notation\n",
    "options(scipen=999) "
   ]
  },
  {
   "cell_type": "markdown",
   "metadata": {},
   "source": [
    "---\n",
    "# Behavior\n",
    "---"
   ]
  },
  {
   "cell_type": "markdown",
   "metadata": {},
   "source": [
    "## Load and manipulate data"
   ]
  },
  {
   "cell_type": "code",
   "execution_count": 7,
   "metadata": {},
   "outputs": [],
   "source": [
    "all_subjects = c(101:164)\n",
    "good_subjects = c(101:104, 106:112, 114, 116, 118:121, 123:126, 129:137, 139:140, 142:148, 150, 152:158, 162:164)"
   ]
  },
  {
   "cell_type": "code",
   "execution_count": 8,
   "metadata": {},
   "outputs": [],
   "source": [
    "# No localizer data for subs 101, 117, 132, 138, 141, 151\n",
    "no_localizer_subs = c(101,117,132,138,141,151)\n",
    "all_subjects = setdiff(all_subjects, no_localizer_subs)\n",
    "good_subjects = setdiff(good_subjects, no_localizer_subs)"
   ]
  },
  {
   "cell_type": "code",
   "execution_count": 9,
   "metadata": {},
   "outputs": [],
   "source": [
    "root_dir = '/Volumes/DJW_Lacie_01/PROJECTS/2018_Food_Reg_fMRI/09_DATA/food_reg_fmri_01/trial_data/'"
   ]
  },
  {
   "cell_type": "code",
   "execution_count": 5,
   "metadata": {},
   "outputs": [
    {
     "ename": "ERROR",
     "evalue": "Error in parse(text = x, srcfile = src): <text>:10:18: unexpected symbol\n9:     for (file in gng){\n10:         read_csv of\n                     ^\n",
     "output_type": "error",
     "traceback": [
      "Error in parse(text = x, srcfile = src): <text>:10:18: unexpected symbol\n9:     for (file in gng){\n10:         read_csv of\n                     ^\nTraceback:\n"
     ]
    }
   ],
   "source": [
    "# loop through csv files\n",
    "for (subject in good_subjects){\n",
    "    \n",
    "    sub_dir = paste0(root_dir, as.character(subject), '/')\n",
    "    \n",
    "    gng = list.files(sub_dir, pattern=\"*gonogo.csv\")\n",
    "    house_face = list.files(sub_dir, pattern=\"*shiftingLetterNumber.csv\")\n",
    "    \n",
    "    for (file in gng){\n",
    "        read_csv of file to df\n",
    "        append to gng df\n",
    "    }\n",
    "    \n",
    "    read_sv of hous_face to df\n",
    "    append to house_face df\n",
    "}"
   ]
  },
  {
   "cell_type": "code",
   "execution_count": 10,
   "metadata": {},
   "outputs": [],
   "source": [
    "# Load Data\n",
    "load(\"data/FoodRegfMRI_dt.RData\")\n",
    "dt = full_dt"
   ]
  },
  {
   "cell_type": "code",
   "execution_count": null,
   "metadata": {},
   "outputs": [],
   "source": []
  }
 ],
 "metadata": {
  "kernelspec": {
   "display_name": "R",
   "language": "R",
   "name": "ir"
  },
  "language_info": {
   "codemirror_mode": "r",
   "file_extension": ".r",
   "mimetype": "text/x-r-source",
   "name": "R",
   "pygments_lexer": "r",
   "version": "3.5.2"
  },
  "toc-autonumbering": true,
  "toc-showcode": false,
  "toc-showmarkdowntxt": false
 },
 "nbformat": 4,
 "nbformat_minor": 2
}
