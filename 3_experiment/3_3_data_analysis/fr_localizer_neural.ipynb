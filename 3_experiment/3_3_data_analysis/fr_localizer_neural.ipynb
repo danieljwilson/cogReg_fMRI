{
 "cells": [
  {
   "cell_type": "markdown",
   "metadata": {
    "toc-hr-collapsed": false
   },
   "source": [
    "---\n",
    "# Setup\n",
    "---"
   ]
  },
  {
   "cell_type": "markdown",
   "metadata": {},
   "source": [
    "## Imports"
   ]
  },
  {
   "cell_type": "code",
   "execution_count": 3,
   "metadata": {},
   "outputs": [],
   "source": [
    "import numpy as np\n",
    "import pandas as pd\n",
    "import glob\n",
    "\n",
    "import matplotlib.pyplot as plt \n",
    "%matplotlib inline "
   ]
  },
  {
   "cell_type": "markdown",
   "metadata": {},
   "source": [
    "---\n",
    "# Trial Data\n",
    "---"
   ]
  },
  {
   "cell_type": "markdown",
   "metadata": {},
   "source": [
    "## Load and manipulate data"
   ]
  },
  {
   "cell_type": "markdown",
   "metadata": {},
   "source": [
    "Path to `trial_data`"
   ]
  },
  {
   "cell_type": "code",
   "execution_count": 157,
   "metadata": {},
   "outputs": [],
   "source": [
    "root_dir = '/Volumes/DJW_Lacie_01/PROJECTS/2018_Food_Reg_fMRI/09_DATA/food_reg_fmri_01/'"
   ]
  },
  {
   "cell_type": "markdown",
   "metadata": {},
   "source": [
    "Only **good subjects** were included in analyses"
   ]
  },
  {
   "cell_type": "code",
   "execution_count": 158,
   "metadata": {},
   "outputs": [],
   "source": [
    "good_subjects = list(range(101,105)) + list(range(106,113)) + [114, 116] + list(range(118,122)) + list(range(123,127)) + list(range(129,138)) + [139, 140] + list(range(142,149)) + [150] + list(range(152,159)) + list(range(162,165))\n",
    "all_subjects = list(range(101,165)) "
   ]
  },
  {
   "cell_type": "markdown",
   "metadata": {},
   "source": [
    "Limit to subjects that have localizer data"
   ]
  },
  {
   "cell_type": "code",
   "execution_count": 159,
   "metadata": {},
   "outputs": [],
   "source": [
    "# No localizer data for subs 101, 117, 132, 138, 141, 151\n",
    "no_localizer_subs = [101,117,132,138,141,151]\n",
    "all_subjects = list(set(all_subjects) - (set(no_localizer_subs)))\n",
    "good_subjects = list(set(good_subjects) - (set(no_localizer_subs)))"
   ]
  },
  {
   "cell_type": "code",
   "execution_count": 160,
   "metadata": {},
   "outputs": [],
   "source": [
    "good_subjects = np.sort(good_subjects)"
   ]
  },
  {
   "cell_type": "markdown",
   "metadata": {},
   "source": [
    "### Create Localizer DFs"
   ]
  },
  {
   "cell_type": "code",
   "execution_count": 161,
   "metadata": {},
   "outputs": [],
   "source": [
    "gng_df = []\n",
    "switch_df = []\n",
    "\n",
    "# loop through csv files\n",
    "for subject in good_subjects:\n",
    "    \n",
    "    sub_dir = root_dir + 'trial_data/' + str(subject) + '/'\n",
    "    \n",
    "    # get list of files\n",
    "    gng = glob.glob(sub_dir + '*gonogo.csv')\n",
    "    switch = glob.glob(sub_dir + '*shiftingLetterNumber.csv')\n",
    "    \n",
    "    # append gng runs\n",
    "    gng_sub = []\n",
    "    for file in gng:\n",
    "        df = pd.read_csv(file)\n",
    "        gng_sub.append(df)\n",
    "    gng_sub = pd.concat(gng_sub, axis=0).reset_index(drop=True)\n",
    "    gng_df.append(gng_sub)\n",
    "    \n",
    "    # only one switch run\n",
    "    switch_sub = pd.read_csv(switch[0])\n",
    "    switch_df.append(switch_sub)\n",
    "\n",
    "# join all subjects\n",
    "gng_df = pd.concat(gng_df, axis=0).reset_index(drop=True)\n",
    "switch_df = pd.concat(switch_df, axis=0).reset_index(drop=True)"
   ]
  },
  {
   "cell_type": "code",
   "execution_count": 162,
   "metadata": {},
   "outputs": [
    {
     "data": {
      "text/plain": [
       "Index(['participant', 'scriptDate', 'trialNo', 'blockType', 'task',\n",
       "       'fixationFrames', 'postFixationFrames', 'targetFrames', 'startTime',\n",
       "       'endTime', 'firstTR', 'blockNumber', 'elapsedTime', 'resp', 'rt', 'iti',\n",
       "       'responseTTL', 'choice', 'overallTrialNum', 'acc', 'creditsEarned',\n",
       "       'letternumber', 'trials', 'switchProportion', 'switches', 'switch',\n",
       "       'question', 'colourCue', 'correctAnswer', 'correctKey'],\n",
       "      dtype='object')"
      ]
     },
     "execution_count": 162,
     "metadata": {},
     "output_type": "execute_result"
    }
   ],
   "source": [
    "switch_df.columns"
   ]
  },
  {
   "cell_type": "markdown",
   "metadata": {},
   "source": [
    "---\n",
    "### Basic Pyschometrics"
   ]
  },
  {
   "cell_type": "code",
   "execution_count": 163,
   "metadata": {},
   "outputs": [
    {
     "data": {
      "text/html": [
       "<div>\n",
       "<style scoped>\n",
       "    .dataframe tbody tr th:only-of-type {\n",
       "        vertical-align: middle;\n",
       "    }\n",
       "\n",
       "    .dataframe tbody tr th {\n",
       "        vertical-align: top;\n",
       "    }\n",
       "\n",
       "    .dataframe thead th {\n",
       "        text-align: right;\n",
       "    }\n",
       "</style>\n",
       "<table border=\"1\" class=\"dataframe\">\n",
       "  <thead>\n",
       "    <tr style=\"text-align: right;\">\n",
       "      <th></th>\n",
       "      <th>rt</th>\n",
       "      <th>acc</th>\n",
       "    </tr>\n",
       "    <tr>\n",
       "      <th>participant</th>\n",
       "      <th></th>\n",
       "      <th></th>\n",
       "    </tr>\n",
       "  </thead>\n",
       "  <tbody>\n",
       "    <tr>\n",
       "      <th>102</th>\n",
       "      <td>0.703756</td>\n",
       "      <td>0.6375</td>\n",
       "    </tr>\n",
       "    <tr>\n",
       "      <th>103</th>\n",
       "      <td>0.578992</td>\n",
       "      <td>0.3625</td>\n",
       "    </tr>\n",
       "    <tr>\n",
       "      <th>104</th>\n",
       "      <td>0.843213</td>\n",
       "      <td>0.3000</td>\n",
       "    </tr>\n",
       "    <tr>\n",
       "      <th>106</th>\n",
       "      <td>0.787512</td>\n",
       "      <td>0.6000</td>\n",
       "    </tr>\n",
       "    <tr>\n",
       "      <th>107</th>\n",
       "      <td>0.748620</td>\n",
       "      <td>0.6750</td>\n",
       "    </tr>\n",
       "  </tbody>\n",
       "</table>\n",
       "</div>"
      ],
      "text/plain": [
       "                   rt     acc\n",
       "participant                  \n",
       "102          0.703756  0.6375\n",
       "103          0.578992  0.3625\n",
       "104          0.843213  0.3000\n",
       "106          0.787512  0.6000\n",
       "107          0.748620  0.6750"
      ]
     },
     "execution_count": 163,
     "metadata": {},
     "output_type": "execute_result"
    }
   ],
   "source": [
    "# rt and accuracy for each subject\n",
    "switch_df.groupby('participant')[['rt', 'acc']].mean().head()"
   ]
  },
  {
   "cell_type": "code",
   "execution_count": 164,
   "metadata": {},
   "outputs": [
    {
     "data": {
      "text/html": [
       "<div>\n",
       "<style scoped>\n",
       "    .dataframe tbody tr th:only-of-type {\n",
       "        vertical-align: middle;\n",
       "    }\n",
       "\n",
       "    .dataframe tbody tr th {\n",
       "        vertical-align: top;\n",
       "    }\n",
       "\n",
       "    .dataframe thead th {\n",
       "        text-align: right;\n",
       "    }\n",
       "</style>\n",
       "<table border=\"1\" class=\"dataframe\">\n",
       "  <thead>\n",
       "    <tr style=\"text-align: right;\">\n",
       "      <th></th>\n",
       "      <th>rt</th>\n",
       "      <th>acc</th>\n",
       "    </tr>\n",
       "    <tr>\n",
       "      <th>correctAnswer</th>\n",
       "      <th></th>\n",
       "      <th></th>\n",
       "    </tr>\n",
       "  </thead>\n",
       "  <tbody>\n",
       "    <tr>\n",
       "      <th>female</th>\n",
       "      <td>0.670152</td>\n",
       "      <td>0.605025</td>\n",
       "    </tr>\n",
       "    <tr>\n",
       "      <th>male</th>\n",
       "      <td>0.697437</td>\n",
       "      <td>0.542888</td>\n",
       "    </tr>\n",
       "    <tr>\n",
       "      <th>new</th>\n",
       "      <td>0.693298</td>\n",
       "      <td>0.389006</td>\n",
       "    </tr>\n",
       "    <tr>\n",
       "      <th>old</th>\n",
       "      <td>0.702082</td>\n",
       "      <td>0.401840</td>\n",
       "    </tr>\n",
       "  </tbody>\n",
       "</table>\n",
       "</div>"
      ],
      "text/plain": [
       "                     rt       acc\n",
       "correctAnswer                    \n",
       "female         0.670152  0.605025\n",
       "male           0.697437  0.542888\n",
       "new            0.693298  0.389006\n",
       "old            0.702082  0.401840"
      ]
     },
     "execution_count": 164,
     "metadata": {},
     "output_type": "execute_result"
    }
   ],
   "source": [
    "# more accurate on faces than houses\n",
    "switch_df.groupby('correctAnswer')[['rt', 'acc']].mean()"
   ]
  },
  {
   "cell_type": "code",
   "execution_count": 165,
   "metadata": {},
   "outputs": [
    {
     "data": {
      "text/html": [
       "<div>\n",
       "<style scoped>\n",
       "    .dataframe tbody tr th:only-of-type {\n",
       "        vertical-align: middle;\n",
       "    }\n",
       "\n",
       "    .dataframe tbody tr th {\n",
       "        vertical-align: top;\n",
       "    }\n",
       "\n",
       "    .dataframe thead th {\n",
       "        text-align: right;\n",
       "    }\n",
       "</style>\n",
       "<table border=\"1\" class=\"dataframe\">\n",
       "  <thead>\n",
       "    <tr style=\"text-align: right;\">\n",
       "      <th></th>\n",
       "      <th>rt</th>\n",
       "      <th>acc</th>\n",
       "    </tr>\n",
       "    <tr>\n",
       "      <th>switch</th>\n",
       "      <th></th>\n",
       "      <th></th>\n",
       "    </tr>\n",
       "  </thead>\n",
       "  <tbody>\n",
       "    <tr>\n",
       "      <th>0</th>\n",
       "      <td>0.678389</td>\n",
       "      <td>0.551042</td>\n",
       "    </tr>\n",
       "    <tr>\n",
       "      <th>1</th>\n",
       "      <td>0.702879</td>\n",
       "      <td>0.419271</td>\n",
       "    </tr>\n",
       "  </tbody>\n",
       "</table>\n",
       "</div>"
      ],
      "text/plain": [
       "              rt       acc\n",
       "switch                    \n",
       "0       0.678389  0.551042\n",
       "1       0.702879  0.419271"
      ]
     },
     "execution_count": 165,
     "metadata": {},
     "output_type": "execute_result"
    }
   ],
   "source": [
    "# much worse accuracy when switching\n",
    "switch_df.groupby('switch')[['rt', 'acc']].mean()"
   ]
  },
  {
   "cell_type": "markdown",
   "metadata": {},
   "source": [
    "## Stimulus Presentations"
   ]
  },
  {
   "cell_type": "code",
   "execution_count": 166,
   "metadata": {},
   "outputs": [
    {
     "data": {
      "text/plain": [
       "Index(['participant', 'scriptDate', 'trialNo', 'blockType', 'task',\n",
       "       'fixationFrames', 'postFixationFrames', 'targetFrames', 'startTime',\n",
       "       'endTime', 'firstTR', 'blockNumber', 'elapsedTime', 'resp', 'rt', 'iti',\n",
       "       'responseTTL', 'choice', 'overallTrialNum', 'acc', 'creditsEarned',\n",
       "       'letternumber', 'trials', 'switchProportion', 'switches', 'switch',\n",
       "       'question', 'colourCue', 'correctAnswer', 'correctKey'],\n",
       "      dtype='object')"
      ]
     },
     "execution_count": 166,
     "metadata": {},
     "output_type": "execute_result"
    }
   ],
   "source": [
    "switch_df.columns"
   ]
  },
  {
   "cell_type": "markdown",
   "metadata": {},
   "source": [
    "### Missed Trials"
   ]
  },
  {
   "cell_type": "code",
   "execution_count": 167,
   "metadata": {},
   "outputs": [
    {
     "name": "stdout",
     "output_type": "stream",
     "text": [
      "3840 total trials.\n",
      "827 trials missed.\n",
      "\n",
      "Responses for 78.46% of all trials\n"
     ]
    }
   ],
   "source": [
    "missed_trials = switch_df.resp.isnull().sum()\n",
    "total_trials = len(switch_df.trialNo)\n",
    "\n",
    "print('{} total trials.\\n{} trials missed.\\n\\nResponses for {:.2f}% of all trials'.\n",
    "      format(total_trials, missed_trials,(1-missed_trials/total_trials)*100))"
   ]
  },
  {
   "cell_type": "markdown",
   "metadata": {},
   "source": [
    "---\n",
    "## Timing\n",
    "---"
   ]
  },
  {
   "cell_type": "markdown",
   "metadata": {},
   "source": [
    "### First TR & Start Time\n",
    "---"
   ]
  },
  {
   "cell_type": "code",
   "execution_count": 168,
   "metadata": {},
   "outputs": [
    {
     "data": {
      "text/html": [
       "<div>\n",
       "<style scoped>\n",
       "    .dataframe tbody tr th:only-of-type {\n",
       "        vertical-align: middle;\n",
       "    }\n",
       "\n",
       "    .dataframe tbody tr th {\n",
       "        vertical-align: top;\n",
       "    }\n",
       "\n",
       "    .dataframe thead th {\n",
       "        text-align: right;\n",
       "    }\n",
       "</style>\n",
       "<table border=\"1\" class=\"dataframe\">\n",
       "  <thead>\n",
       "    <tr style=\"text-align: right;\">\n",
       "      <th></th>\n",
       "      <th>firstTR</th>\n",
       "      <th>startTime</th>\n",
       "    </tr>\n",
       "  </thead>\n",
       "  <tbody>\n",
       "    <tr>\n",
       "      <th>0</th>\n",
       "      <td>11.223341</td>\n",
       "      <td>17.227076</td>\n",
       "    </tr>\n",
       "    <tr>\n",
       "      <th>80</th>\n",
       "      <td>11.767859</td>\n",
       "      <td>17.771577</td>\n",
       "    </tr>\n",
       "    <tr>\n",
       "      <th>160</th>\n",
       "      <td>38.789602</td>\n",
       "      <td>44.794762</td>\n",
       "    </tr>\n",
       "    <tr>\n",
       "      <th>240</th>\n",
       "      <td>0.000846</td>\n",
       "      <td>19.777737</td>\n",
       "    </tr>\n",
       "    <tr>\n",
       "      <th>320</th>\n",
       "      <td>16.502568</td>\n",
       "      <td>22.511289</td>\n",
       "    </tr>\n",
       "  </tbody>\n",
       "</table>\n",
       "</div>"
      ],
      "text/plain": [
       "       firstTR  startTime\n",
       "0    11.223341  17.227076\n",
       "80   11.767859  17.771577\n",
       "160  38.789602  44.794762\n",
       "240   0.000846  19.777737\n",
       "320  16.502568  22.511289"
      ]
     },
     "execution_count": 168,
     "metadata": {},
     "output_type": "execute_result"
    }
   ],
   "source": [
    "switch_df.loc[switch_df.trialNo==1, ['firstTR', 'startTime']].head()"
   ]
  },
  {
   "cell_type": "code",
   "execution_count": 169,
   "metadata": {},
   "outputs": [
    {
     "data": {
      "text/plain": [
       "array([ 6.00373474,  6.00371812,  6.00515963, 19.77689017,  6.00872083,\n",
       "        6.00303563,  6.00784353,  6.00378465,  6.00206359,  6.00937048])"
      ]
     },
     "execution_count": 169,
     "metadata": {},
     "output_type": "execute_result"
    }
   ],
   "source": [
    "# first TR seems to be about 6 seconds (3TRs before first trial)\n",
    "np.array(switch_df.loc[switch_df.trialNo==1,:].startTime[0:10])\\\n",
    "- np.array(switch_df.loc[switch_df.trialNo==1,:].firstTR[0:10])"
   ]
  },
  {
   "cell_type": "markdown",
   "metadata": {},
   "source": [
    "---\n",
    "### Check Run Timing\n",
    "---"
   ]
  },
  {
   "cell_type": "code",
   "execution_count": 170,
   "metadata": {},
   "outputs": [
    {
     "name": "stdout",
     "output_type": "stream",
     "text": [
      "Start Times\n",
      "[17.227075865692314, 22.325896539383393, 27.425062552829328, 33.52433864492559, 35.623429651295744]\n",
      "\n",
      "Durations\n",
      "[1.100010803067562, 1.1000105470702692, 1.1000105470702728, 1.100014899016962, 1.1000123390476801]\n",
      "\n",
      "ITI Duration\n",
      "[4.0, 4.0, 5.0, 1.0, 4.0]\n",
      "\n",
      "Calculated Duration\n",
      "[5.100010803067562, 5.100010547070269, 6.100010547070273, 2.100014899016962, 5.10001233904768]\n",
      "\n",
      "Actual Duration\n",
      "[5.09882067369108, 5.0991660134459345, 6.0992760920962645, 2.099091006370152, 5.099223356744901]\n"
     ]
    }
   ],
   "source": [
    "# 101 did NOT do localizer\n",
    "participant_num = 102\n",
    "\n",
    "print(\"Start Times\")\n",
    "print(list(switch_df.loc[switch_df.participant==participant_num, 'startTime'])[0:5])\n",
    "\n",
    "print(\"\\nDurations\")\n",
    "print(list(switch_df.loc[switch_df.participant==participant_num, 'endTime'][0:5] - switch_df.loc[switch_df.participant==participant_num, 'startTime'][0:5]))\n",
    "\n",
    "print(\"\\nITI Duration\")\n",
    "print(list(switch_df.loc[switch_df.participant==participant_num, 'iti'])[0:5])\n",
    "\n",
    "print(\"\\nCalculated Duration\")\n",
    "print(list(switch_df.loc[switch_df.participant==participant_num, 'iti'][0:5] \\\n",
    "           + switch_df.loc[switch_df.participant==participant_num, 'endTime'][0:5]\\\n",
    "           - switch_df.loc[switch_df.participant==participant_num, 'startTime'][0:5]))\n",
    "\n",
    "print(\"\\nActual Duration\")\n",
    "print(list(np.array(switch_df.loc[switch_df.participant==participant_num, 'startTime'][1:6])\\\n",
    "           - np.array(switch_df.loc[switch_df.participant==participant_num, 'startTime'][0:5])))\n"
   ]
  },
  {
   "cell_type": "code",
   "execution_count": 171,
   "metadata": {},
   "outputs": [
    {
     "data": {
      "text/plain": [
       "array([0.00119013, 0.00084453, 0.00073445, 0.00092389, 0.00078898])"
      ]
     },
     "execution_count": 171,
     "metadata": {},
     "output_type": "execute_result"
    }
   ],
   "source": [
    "# difference between calculated and actual\n",
    "np.array([5.100010803067562, 5.100010547070269, 6.100010547070273, 2.100014899016962, 5.10001233904768])\\\n",
    "- np.array([5.09882067369108, 5.0991660134459345, 6.0992760920962645, 2.099091006370152, 5.099223356744901])"
   ]
  },
  {
   "cell_type": "markdown",
   "metadata": {},
   "source": [
    "# To Dos\n",
    "\n",
    "> Need to align TRs with trial data\n",
    "> 1. Start time of each trial\n",
    "> 2. End time of each trial\n",
    "> 3. ITI duration"
   ]
  },
  {
   "cell_type": "code",
   "execution_count": 172,
   "metadata": {},
   "outputs": [
    {
     "data": {
      "text/html": [
       "<div>\n",
       "<style scoped>\n",
       "    .dataframe tbody tr th:only-of-type {\n",
       "        vertical-align: middle;\n",
       "    }\n",
       "\n",
       "    .dataframe tbody tr th {\n",
       "        vertical-align: top;\n",
       "    }\n",
       "\n",
       "    .dataframe thead th {\n",
       "        text-align: right;\n",
       "    }\n",
       "</style>\n",
       "<table border=\"1\" class=\"dataframe\">\n",
       "  <thead>\n",
       "    <tr style=\"text-align: right;\">\n",
       "      <th></th>\n",
       "      <th>participant</th>\n",
       "      <th>scriptDate</th>\n",
       "      <th>trialNo</th>\n",
       "      <th>blockType</th>\n",
       "      <th>task</th>\n",
       "      <th>fixationFrames</th>\n",
       "      <th>postFixationFrames</th>\n",
       "      <th>targetFrames</th>\n",
       "      <th>startTime</th>\n",
       "      <th>endTime</th>\n",
       "      <th>...</th>\n",
       "      <th>creditsEarned</th>\n",
       "      <th>letternumber</th>\n",
       "      <th>trials</th>\n",
       "      <th>switchProportion</th>\n",
       "      <th>switches</th>\n",
       "      <th>switch</th>\n",
       "      <th>question</th>\n",
       "      <th>colourCue</th>\n",
       "      <th>correctAnswer</th>\n",
       "      <th>correctKey</th>\n",
       "    </tr>\n",
       "  </thead>\n",
       "  <tbody>\n",
       "    <tr>\n",
       "      <th>0</th>\n",
       "      <td>102</td>\n",
       "      <td>2018_06_27</td>\n",
       "      <td>1</td>\n",
       "      <td>actual</td>\n",
       "      <td>shiftingLetterNumber</td>\n",
       "      <td>30</td>\n",
       "      <td>NaN</td>\n",
       "      <td>120</td>\n",
       "      <td>17.227076</td>\n",
       "      <td>18.327087</td>\n",
       "      <td>...</td>\n",
       "      <td>0</td>\n",
       "      <td>p1</td>\n",
       "      <td>80</td>\n",
       "      <td>0.5</td>\n",
       "      <td>40</td>\n",
       "      <td>0</td>\n",
       "      <td>face</td>\n",
       "      <td>blue</td>\n",
       "      <td>male</td>\n",
       "      <td>2</td>\n",
       "    </tr>\n",
       "    <tr>\n",
       "      <th>1</th>\n",
       "      <td>102</td>\n",
       "      <td>2018_06_27</td>\n",
       "      <td>2</td>\n",
       "      <td>actual</td>\n",
       "      <td>shiftingLetterNumber</td>\n",
       "      <td>30</td>\n",
       "      <td>NaN</td>\n",
       "      <td>120</td>\n",
       "      <td>22.325897</td>\n",
       "      <td>23.425907</td>\n",
       "      <td>...</td>\n",
       "      <td>0</td>\n",
       "      <td>p7</td>\n",
       "      <td>80</td>\n",
       "      <td>0.5</td>\n",
       "      <td>40</td>\n",
       "      <td>1</td>\n",
       "      <td>house</td>\n",
       "      <td>white</td>\n",
       "      <td>new</td>\n",
       "      <td>3</td>\n",
       "    </tr>\n",
       "    <tr>\n",
       "      <th>2</th>\n",
       "      <td>102</td>\n",
       "      <td>2018_06_27</td>\n",
       "      <td>3</td>\n",
       "      <td>actual</td>\n",
       "      <td>shiftingLetterNumber</td>\n",
       "      <td>30</td>\n",
       "      <td>NaN</td>\n",
       "      <td>120</td>\n",
       "      <td>27.425063</td>\n",
       "      <td>28.525073</td>\n",
       "      <td>...</td>\n",
       "      <td>0</td>\n",
       "      <td>p1</td>\n",
       "      <td>80</td>\n",
       "      <td>0.5</td>\n",
       "      <td>40</td>\n",
       "      <td>0</td>\n",
       "      <td>house</td>\n",
       "      <td>white</td>\n",
       "      <td>old</td>\n",
       "      <td>4</td>\n",
       "    </tr>\n",
       "    <tr>\n",
       "      <th>3</th>\n",
       "      <td>102</td>\n",
       "      <td>2018_06_27</td>\n",
       "      <td>4</td>\n",
       "      <td>actual</td>\n",
       "      <td>shiftingLetterNumber</td>\n",
       "      <td>30</td>\n",
       "      <td>NaN</td>\n",
       "      <td>120</td>\n",
       "      <td>33.524339</td>\n",
       "      <td>34.624354</td>\n",
       "      <td>...</td>\n",
       "      <td>0</td>\n",
       "      <td>f1</td>\n",
       "      <td>80</td>\n",
       "      <td>0.5</td>\n",
       "      <td>40</td>\n",
       "      <td>0</td>\n",
       "      <td>house</td>\n",
       "      <td>white</td>\n",
       "      <td>old</td>\n",
       "      <td>4</td>\n",
       "    </tr>\n",
       "    <tr>\n",
       "      <th>4</th>\n",
       "      <td>102</td>\n",
       "      <td>2018_06_27</td>\n",
       "      <td>5</td>\n",
       "      <td>actual</td>\n",
       "      <td>shiftingLetterNumber</td>\n",
       "      <td>30</td>\n",
       "      <td>NaN</td>\n",
       "      <td>120</td>\n",
       "      <td>35.623430</td>\n",
       "      <td>36.723442</td>\n",
       "      <td>...</td>\n",
       "      <td>0</td>\n",
       "      <td>o1</td>\n",
       "      <td>80</td>\n",
       "      <td>0.5</td>\n",
       "      <td>40</td>\n",
       "      <td>0</td>\n",
       "      <td>house</td>\n",
       "      <td>white</td>\n",
       "      <td>old</td>\n",
       "      <td>4</td>\n",
       "    </tr>\n",
       "  </tbody>\n",
       "</table>\n",
       "<p>5 rows × 30 columns</p>\n",
       "</div>"
      ],
      "text/plain": [
       "   participant  scriptDate  trialNo blockType                  task  \\\n",
       "0          102  2018_06_27        1    actual  shiftingLetterNumber   \n",
       "1          102  2018_06_27        2    actual  shiftingLetterNumber   \n",
       "2          102  2018_06_27        3    actual  shiftingLetterNumber   \n",
       "3          102  2018_06_27        4    actual  shiftingLetterNumber   \n",
       "4          102  2018_06_27        5    actual  shiftingLetterNumber   \n",
       "\n",
       "   fixationFrames  postFixationFrames  targetFrames  startTime    endTime  \\\n",
       "0              30                 NaN           120  17.227076  18.327087   \n",
       "1              30                 NaN           120  22.325897  23.425907   \n",
       "2              30                 NaN           120  27.425063  28.525073   \n",
       "3              30                 NaN           120  33.524339  34.624354   \n",
       "4              30                 NaN           120  35.623430  36.723442   \n",
       "\n",
       "      ...      creditsEarned  letternumber  trials  switchProportion  \\\n",
       "0     ...                  0            p1      80               0.5   \n",
       "1     ...                  0            p7      80               0.5   \n",
       "2     ...                  0            p1      80               0.5   \n",
       "3     ...                  0            f1      80               0.5   \n",
       "4     ...                  0            o1      80               0.5   \n",
       "\n",
       "   switches  switch  question  colourCue  correctAnswer  correctKey  \n",
       "0        40       0      face       blue           male           2  \n",
       "1        40       1     house      white            new           3  \n",
       "2        40       0     house      white            old           4  \n",
       "3        40       0     house      white            old           4  \n",
       "4        40       0     house      white            old           4  \n",
       "\n",
       "[5 rows x 30 columns]"
      ]
     },
     "execution_count": 172,
     "metadata": {},
     "output_type": "execute_result"
    }
   ],
   "source": [
    "switch_df.head()"
   ]
  },
  {
   "cell_type": "markdown",
   "metadata": {},
   "source": [
    "## get number of TRs from confounds file\n"
   ]
  },
  {
   "cell_type": "markdown",
   "metadata": {},
   "source": [
    "### Switch"
   ]
  },
  {
   "cell_type": "code",
   "execution_count": 186,
   "metadata": {},
   "outputs": [],
   "source": [
    "TR_num = np.zeros((len(good_subjects), 2))\n",
    "\n",
    "i = 0\n",
    "for sub in good_subjects:\n",
    "    df = pd.read_csv(root_dir + 'derivatives/fmriprep/sub-' + str(sub) + '/func/sub-' + str(sub) +\\\n",
    "                     '_task-switch_desc-confounds_regressors.tsv', sep=\"\\t\")\n",
    "    TR_num[i,0] = sub\n",
    "    TR_num[i,1] = (df.shape[0])\n",
    "    i+=1\n",
    "    "
   ]
  },
  {
   "cell_type": "code",
   "execution_count": 187,
   "metadata": {},
   "outputs": [],
   "source": [
    "TR_num_df = pd.DataFrame(TR_num, columns=['participant', 'TR_num'], dtype=int)"
   ]
  },
  {
   "cell_type": "code",
   "execution_count": 188,
   "metadata": {},
   "outputs": [],
   "source": [
    "switch_df = pd.merge(switch_df,\n",
    "                     TR_num_df,\n",
    "                     on='participant')"
   ]
  },
  {
   "cell_type": "code",
   "execution_count": 190,
   "metadata": {},
   "outputs": [
    {
     "data": {
      "text/html": [
       "<div>\n",
       "<style scoped>\n",
       "    .dataframe tbody tr th:only-of-type {\n",
       "        vertical-align: middle;\n",
       "    }\n",
       "\n",
       "    .dataframe tbody tr th {\n",
       "        vertical-align: top;\n",
       "    }\n",
       "\n",
       "    .dataframe thead th {\n",
       "        text-align: right;\n",
       "    }\n",
       "</style>\n",
       "<table border=\"1\" class=\"dataframe\">\n",
       "  <thead>\n",
       "    <tr style=\"text-align: right;\">\n",
       "      <th></th>\n",
       "      <th>participant</th>\n",
       "      <th>scriptDate</th>\n",
       "      <th>trialNo</th>\n",
       "      <th>blockType</th>\n",
       "      <th>task</th>\n",
       "      <th>fixationFrames</th>\n",
       "      <th>postFixationFrames</th>\n",
       "      <th>targetFrames</th>\n",
       "      <th>startTime</th>\n",
       "      <th>endTime</th>\n",
       "      <th>...</th>\n",
       "      <th>letternumber</th>\n",
       "      <th>trials</th>\n",
       "      <th>switchProportion</th>\n",
       "      <th>switches</th>\n",
       "      <th>switch</th>\n",
       "      <th>question</th>\n",
       "      <th>colourCue</th>\n",
       "      <th>correctAnswer</th>\n",
       "      <th>correctKey</th>\n",
       "      <th>TR_num</th>\n",
       "    </tr>\n",
       "  </thead>\n",
       "  <tbody>\n",
       "    <tr>\n",
       "      <th>0</th>\n",
       "      <td>102</td>\n",
       "      <td>2018_06_27</td>\n",
       "      <td>1</td>\n",
       "      <td>actual</td>\n",
       "      <td>shiftingLetterNumber</td>\n",
       "      <td>30</td>\n",
       "      <td>NaN</td>\n",
       "      <td>120</td>\n",
       "      <td>17.227076</td>\n",
       "      <td>18.327087</td>\n",
       "      <td>...</td>\n",
       "      <td>p1</td>\n",
       "      <td>80</td>\n",
       "      <td>0.5</td>\n",
       "      <td>40</td>\n",
       "      <td>0</td>\n",
       "      <td>face</td>\n",
       "      <td>blue</td>\n",
       "      <td>male</td>\n",
       "      <td>2</td>\n",
       "      <td>185</td>\n",
       "    </tr>\n",
       "    <tr>\n",
       "      <th>1</th>\n",
       "      <td>102</td>\n",
       "      <td>2018_06_27</td>\n",
       "      <td>2</td>\n",
       "      <td>actual</td>\n",
       "      <td>shiftingLetterNumber</td>\n",
       "      <td>30</td>\n",
       "      <td>NaN</td>\n",
       "      <td>120</td>\n",
       "      <td>22.325897</td>\n",
       "      <td>23.425907</td>\n",
       "      <td>...</td>\n",
       "      <td>p7</td>\n",
       "      <td>80</td>\n",
       "      <td>0.5</td>\n",
       "      <td>40</td>\n",
       "      <td>1</td>\n",
       "      <td>house</td>\n",
       "      <td>white</td>\n",
       "      <td>new</td>\n",
       "      <td>3</td>\n",
       "      <td>185</td>\n",
       "    </tr>\n",
       "    <tr>\n",
       "      <th>2</th>\n",
       "      <td>102</td>\n",
       "      <td>2018_06_27</td>\n",
       "      <td>3</td>\n",
       "      <td>actual</td>\n",
       "      <td>shiftingLetterNumber</td>\n",
       "      <td>30</td>\n",
       "      <td>NaN</td>\n",
       "      <td>120</td>\n",
       "      <td>27.425063</td>\n",
       "      <td>28.525073</td>\n",
       "      <td>...</td>\n",
       "      <td>p1</td>\n",
       "      <td>80</td>\n",
       "      <td>0.5</td>\n",
       "      <td>40</td>\n",
       "      <td>0</td>\n",
       "      <td>house</td>\n",
       "      <td>white</td>\n",
       "      <td>old</td>\n",
       "      <td>4</td>\n",
       "      <td>185</td>\n",
       "    </tr>\n",
       "    <tr>\n",
       "      <th>3</th>\n",
       "      <td>102</td>\n",
       "      <td>2018_06_27</td>\n",
       "      <td>4</td>\n",
       "      <td>actual</td>\n",
       "      <td>shiftingLetterNumber</td>\n",
       "      <td>30</td>\n",
       "      <td>NaN</td>\n",
       "      <td>120</td>\n",
       "      <td>33.524339</td>\n",
       "      <td>34.624354</td>\n",
       "      <td>...</td>\n",
       "      <td>f1</td>\n",
       "      <td>80</td>\n",
       "      <td>0.5</td>\n",
       "      <td>40</td>\n",
       "      <td>0</td>\n",
       "      <td>house</td>\n",
       "      <td>white</td>\n",
       "      <td>old</td>\n",
       "      <td>4</td>\n",
       "      <td>185</td>\n",
       "    </tr>\n",
       "    <tr>\n",
       "      <th>4</th>\n",
       "      <td>102</td>\n",
       "      <td>2018_06_27</td>\n",
       "      <td>5</td>\n",
       "      <td>actual</td>\n",
       "      <td>shiftingLetterNumber</td>\n",
       "      <td>30</td>\n",
       "      <td>NaN</td>\n",
       "      <td>120</td>\n",
       "      <td>35.623430</td>\n",
       "      <td>36.723442</td>\n",
       "      <td>...</td>\n",
       "      <td>o1</td>\n",
       "      <td>80</td>\n",
       "      <td>0.5</td>\n",
       "      <td>40</td>\n",
       "      <td>0</td>\n",
       "      <td>house</td>\n",
       "      <td>white</td>\n",
       "      <td>old</td>\n",
       "      <td>4</td>\n",
       "      <td>185</td>\n",
       "    </tr>\n",
       "  </tbody>\n",
       "</table>\n",
       "<p>5 rows × 31 columns</p>\n",
       "</div>"
      ],
      "text/plain": [
       "   participant  scriptDate  trialNo blockType                  task  \\\n",
       "0          102  2018_06_27        1    actual  shiftingLetterNumber   \n",
       "1          102  2018_06_27        2    actual  shiftingLetterNumber   \n",
       "2          102  2018_06_27        3    actual  shiftingLetterNumber   \n",
       "3          102  2018_06_27        4    actual  shiftingLetterNumber   \n",
       "4          102  2018_06_27        5    actual  shiftingLetterNumber   \n",
       "\n",
       "   fixationFrames  postFixationFrames  targetFrames  startTime    endTime  \\\n",
       "0              30                 NaN           120  17.227076  18.327087   \n",
       "1              30                 NaN           120  22.325897  23.425907   \n",
       "2              30                 NaN           120  27.425063  28.525073   \n",
       "3              30                 NaN           120  33.524339  34.624354   \n",
       "4              30                 NaN           120  35.623430  36.723442   \n",
       "\n",
       "    ...    letternumber  trials  switchProportion  switches  switch  question  \\\n",
       "0   ...              p1      80               0.5        40       0      face   \n",
       "1   ...              p7      80               0.5        40       1     house   \n",
       "2   ...              p1      80               0.5        40       0     house   \n",
       "3   ...              f1      80               0.5        40       0     house   \n",
       "4   ...              o1      80               0.5        40       0     house   \n",
       "\n",
       "   colourCue  correctAnswer  correctKey  TR_num  \n",
       "0       blue           male           2     185  \n",
       "1      white            new           3     185  \n",
       "2      white            old           4     185  \n",
       "3      white            old           4     185  \n",
       "4      white            old           4     185  \n",
       "\n",
       "[5 rows x 31 columns]"
      ]
     },
     "execution_count": 190,
     "metadata": {},
     "output_type": "execute_result"
    }
   ],
   "source": [
    "switch_df.head()"
   ]
  },
  {
   "cell_type": "markdown",
   "metadata": {},
   "source": [
    "### GoNoGo"
   ]
  },
  {
   "cell_type": "code",
   "execution_count": 191,
   "metadata": {},
   "outputs": [],
   "source": [
    "TR_num = np.zeros((len(good_subjects), 2))\n",
    "\n",
    "i = 0\n",
    "for sub in good_subjects:\n",
    "    df = pd.read_csv(root_dir + 'derivatives/fmriprep/sub-' + str(sub) + '/func/sub-' + str(sub) +\\\n",
    "                     '_task-gonogo_run-01_desc-confounds_regressors.tsv', sep=\"\\t\")\n",
    "    TR_num[i,0] = sub\n",
    "    TR_num[i,1] = df.shape[0] * 2\n",
    "    i+=1"
   ]
  },
  {
   "cell_type": "code",
   "execution_count": 192,
   "metadata": {},
   "outputs": [],
   "source": [
    "TR_num_df = pd.DataFrame(TR_num, columns=['participant', 'TR_num'], dtype=int)"
   ]
  },
  {
   "cell_type": "code",
   "execution_count": 193,
   "metadata": {},
   "outputs": [],
   "source": [
    "gng_df = pd.merge(gng_df,\n",
    "                  TR_num_df,\n",
    "                  on='participant')"
   ]
  },
  {
   "cell_type": "code",
   "execution_count": 194,
   "metadata": {},
   "outputs": [
    {
     "data": {
      "text/html": [
       "<div>\n",
       "<style scoped>\n",
       "    .dataframe tbody tr th:only-of-type {\n",
       "        vertical-align: middle;\n",
       "    }\n",
       "\n",
       "    .dataframe tbody tr th {\n",
       "        vertical-align: top;\n",
       "    }\n",
       "\n",
       "    .dataframe thead th {\n",
       "        text-align: right;\n",
       "    }\n",
       "</style>\n",
       "<table border=\"1\" class=\"dataframe\">\n",
       "  <thead>\n",
       "    <tr style=\"text-align: right;\">\n",
       "      <th></th>\n",
       "      <th>stimulus</th>\n",
       "      <th>trialType</th>\n",
       "      <th>TTLStim</th>\n",
       "      <th>participant</th>\n",
       "      <th>trialNo</th>\n",
       "      <th>blockType</th>\n",
       "      <th>noGoFreq</th>\n",
       "      <th>goLetter</th>\n",
       "      <th>task</th>\n",
       "      <th>fixationFrames</th>\n",
       "      <th>...</th>\n",
       "      <th>blockNumber</th>\n",
       "      <th>elapsedTime</th>\n",
       "      <th>resp</th>\n",
       "      <th>rt</th>\n",
       "      <th>iti</th>\n",
       "      <th>responseTTL</th>\n",
       "      <th>choice</th>\n",
       "      <th>overallTrialNum</th>\n",
       "      <th>acc</th>\n",
       "      <th>TR_num</th>\n",
       "    </tr>\n",
       "  </thead>\n",
       "  <tbody>\n",
       "    <tr>\n",
       "      <th>0</th>\n",
       "      <td>w</td>\n",
       "      <td>go</td>\n",
       "      <td>11</td>\n",
       "      <td>102</td>\n",
       "      <td>1</td>\n",
       "      <td>actual</td>\n",
       "      <td>low</td>\n",
       "      <td>w</td>\n",
       "      <td>gonogo</td>\n",
       "      <td>58</td>\n",
       "      <td>...</td>\n",
       "      <td>1</td>\n",
       "      <td>NaN</td>\n",
       "      <td>1.0</td>\n",
       "      <td>0.342222</td>\n",
       "      <td>1.0</td>\n",
       "      <td>15.0</td>\n",
       "      <td>NaN</td>\n",
       "      <td>1</td>\n",
       "      <td>1.0</td>\n",
       "      <td>190</td>\n",
       "    </tr>\n",
       "    <tr>\n",
       "      <th>1</th>\n",
       "      <td>w</td>\n",
       "      <td>go</td>\n",
       "      <td>11</td>\n",
       "      <td>102</td>\n",
       "      <td>2</td>\n",
       "      <td>actual</td>\n",
       "      <td>low</td>\n",
       "      <td>w</td>\n",
       "      <td>gonogo</td>\n",
       "      <td>58</td>\n",
       "      <td>...</td>\n",
       "      <td>1</td>\n",
       "      <td>NaN</td>\n",
       "      <td>1.0</td>\n",
       "      <td>0.283930</td>\n",
       "      <td>1.0</td>\n",
       "      <td>15.0</td>\n",
       "      <td>NaN</td>\n",
       "      <td>2</td>\n",
       "      <td>1.0</td>\n",
       "      <td>190</td>\n",
       "    </tr>\n",
       "    <tr>\n",
       "      <th>2</th>\n",
       "      <td>m</td>\n",
       "      <td>nogo</td>\n",
       "      <td>12</td>\n",
       "      <td>102</td>\n",
       "      <td>3</td>\n",
       "      <td>actual</td>\n",
       "      <td>low</td>\n",
       "      <td>w</td>\n",
       "      <td>gonogo</td>\n",
       "      <td>58</td>\n",
       "      <td>...</td>\n",
       "      <td>1</td>\n",
       "      <td>NaN</td>\n",
       "      <td>NaN</td>\n",
       "      <td>NaN</td>\n",
       "      <td>1.0</td>\n",
       "      <td>19.0</td>\n",
       "      <td>NaN</td>\n",
       "      <td>3</td>\n",
       "      <td>1.0</td>\n",
       "      <td>190</td>\n",
       "    </tr>\n",
       "    <tr>\n",
       "      <th>3</th>\n",
       "      <td>w</td>\n",
       "      <td>go</td>\n",
       "      <td>11</td>\n",
       "      <td>102</td>\n",
       "      <td>4</td>\n",
       "      <td>actual</td>\n",
       "      <td>low</td>\n",
       "      <td>w</td>\n",
       "      <td>gonogo</td>\n",
       "      <td>58</td>\n",
       "      <td>...</td>\n",
       "      <td>1</td>\n",
       "      <td>NaN</td>\n",
       "      <td>1.0</td>\n",
       "      <td>0.275594</td>\n",
       "      <td>1.0</td>\n",
       "      <td>15.0</td>\n",
       "      <td>NaN</td>\n",
       "      <td>4</td>\n",
       "      <td>1.0</td>\n",
       "      <td>190</td>\n",
       "    </tr>\n",
       "    <tr>\n",
       "      <th>4</th>\n",
       "      <td>w</td>\n",
       "      <td>go</td>\n",
       "      <td>11</td>\n",
       "      <td>102</td>\n",
       "      <td>5</td>\n",
       "      <td>actual</td>\n",
       "      <td>low</td>\n",
       "      <td>w</td>\n",
       "      <td>gonogo</td>\n",
       "      <td>58</td>\n",
       "      <td>...</td>\n",
       "      <td>1</td>\n",
       "      <td>NaN</td>\n",
       "      <td>1.0</td>\n",
       "      <td>0.342222</td>\n",
       "      <td>1.0</td>\n",
       "      <td>15.0</td>\n",
       "      <td>NaN</td>\n",
       "      <td>5</td>\n",
       "      <td>1.0</td>\n",
       "      <td>190</td>\n",
       "    </tr>\n",
       "  </tbody>\n",
       "</table>\n",
       "<p>5 rows × 26 columns</p>\n",
       "</div>"
      ],
      "text/plain": [
       "  stimulus trialType  TTLStim  participant  trialNo blockType noGoFreq  \\\n",
       "0        w        go       11          102        1    actual      low   \n",
       "1        w        go       11          102        2    actual      low   \n",
       "2        m      nogo       12          102        3    actual      low   \n",
       "3        w        go       11          102        4    actual      low   \n",
       "4        w        go       11          102        5    actual      low   \n",
       "\n",
       "  goLetter    task  fixationFrames   ...    blockNumber  elapsedTime  resp  \\\n",
       "0        w  gonogo              58   ...              1          NaN   1.0   \n",
       "1        w  gonogo              58   ...              1          NaN   1.0   \n",
       "2        w  gonogo              58   ...              1          NaN   NaN   \n",
       "3        w  gonogo              58   ...              1          NaN   1.0   \n",
       "4        w  gonogo              58   ...              1          NaN   1.0   \n",
       "\n",
       "         rt  iti  responseTTL  choice  overallTrialNum  acc  TR_num  \n",
       "0  0.342222  1.0         15.0     NaN                1  1.0     190  \n",
       "1  0.283930  1.0         15.0     NaN                2  1.0     190  \n",
       "2       NaN  1.0         19.0     NaN                3  1.0     190  \n",
       "3  0.275594  1.0         15.0     NaN                4  1.0     190  \n",
       "4  0.342222  1.0         15.0     NaN                5  1.0     190  \n",
       "\n",
       "[5 rows x 26 columns]"
      ]
     },
     "execution_count": 194,
     "metadata": {},
     "output_type": "execute_result"
    }
   ],
   "source": [
    "gng_df.head()"
   ]
  },
  {
   "cell_type": "code",
   "execution_count": null,
   "metadata": {},
   "outputs": [],
   "source": []
  },
  {
   "cell_type": "code",
   "execution_count": 67,
   "metadata": {},
   "outputs": [],
   "source": [
    "# Load a bold run...count TRs (for bot tasks)"
   ]
  },
  {
   "cell_type": "code",
   "execution_count": null,
   "metadata": {},
   "outputs": [],
   "source": [
    "# GLM\n",
    "    # beta per condition per participant, per run? Or just per participant, per  bcondition?\n",
    "    # Highest Power (avoids slow and fast noise):\n",
    "        # blocks between 16-24 seconds\n",
    "        # repeat at least 4 times within 5 min run\n",
    "    \n",
    "# minimum: regressor for each condition\n",
    "# plus nuisance regressors\n",
    "\n",
    "# ARTIFACTS\n",
    "    ## e.g. sneeze: whole image goes bright\n",
    "    ## fit one time point, amplitude corresponding to value of spike\n",
    "    "
   ]
  },
  {
   "cell_type": "code",
   "execution_count": null,
   "metadata": {},
   "outputs": [],
   "source": [
    "# Univariate analysis\n",
    "    ## Subject\n",
    "        ## GLM (calculate beta)\n",
    "        ## Calculate contrasts\n",
    "    ## Whole brain Group analysis\n",
    "        ## Compare contrasts across subjects (t-map), average the magnitude accounting for variance\n",
    "        \n",
    "# FUNCTIONAL LOCALIZATION/ROI SELECTION\n",
    "\n"
   ]
  },
  {
   "cell_type": "markdown",
   "metadata": {},
   "source": [
    "---\n",
    "# Multivariate Analysis\n",
    "---\n",
    "* Voxels = points in multidimensional space based on beta values\n",
    "* Don't see spatial relationships anymore...\n",
    "* 50-100 voxels typically\n",
    "\n",
    "## Can be done using:\n",
    "* **A priori feature selection (or functional localizer)**\n",
    "    * anatomy\n",
    "    * function (contiguous regions w/ large response in contrast)\n",
    "    * function (pick n, f-value)\n",
    "* **searchlight**\n",
    "    \n",
    "## Use cases\n",
    "* Classification\n",
    "* Generalization\n",
    "     * Near/Far\n",
    "* Representational Dissimilarity Matrix\n",
    "    \n",
    "    \n",
    "## MVPA Questions\n",
    "* **Which Voxels?**\n",
    "    * Relevant unit of analysis\n",
    "        * Local region\n",
    "        * Functional network \n",
    "            * Does not have to be continuous (e.g. right and left amygdala)\n",
    "        * Info could be completely non-local!!\n",
    "\n",
    "## Good to constrain area of analysis...\n",
    "* becuase larger number of dimensions increases noise...higher rise of overfitting...\n",
    "* in fMRI we have many dimensions in comparison to data points...\n",
    "* 100 voxels a bit of a rule of thumb...\n",
    "* Can also classify as a function of the number of features!\n",
    "\n",
    "# Cross validation\n",
    "* Typically use runs for folds\n",
    "    * Runs should have equal numbers of each condition/stim"
   ]
  },
  {
   "cell_type": "markdown",
   "metadata": {},
   "source": [
    "---\n",
    "# Representational Similarity\n",
    "---\n",
    "[Saxe Tutorial](https://cbmm.mit.edu/video/fmri-bootcamp-part-7-representational-similarity-4755)\n",
    "* Essentially same as classification except with more than two conditions\n",
    "\n",
    "## What is a question that we could ask with a RSD \n",
    "(think about features...amount, tasty/healthy, pre-liking)\n",
    "\n",
    "* Regulatory conditions more similar than natural conditions in the two brain areas Cendri found\n",
    "* RSA of healthy/tasty, healthy/untasty, unhealthy/tasty, unhealthy/untasty\n",
    "    * tasty stronger than healthy...OR healthy stronger than tasty?\n",
    "        * look by condition\n",
    "        * look by subject\n",
    "\n",
    "## Analysis\n",
    "* Fit by participant\n",
    "    * Calculate stats across participants (convert r to z score)\n",
    "* Different brain regions could better match different RSM models\n",
    "* Diagonal can be seen as a \"noise ceiling\""
   ]
  },
  {
   "cell_type": "markdown",
   "metadata": {},
   "source": [
    "---\n",
    "# Multiple Comparisons\n",
    "---\n",
    "\n",
    "[Saxe Tutorial](https://cbmm.mit.edu/video/fmri-bootcamp-part-8-fmri-multiple-comparisons-12613)\n",
    "\n",
    "## Non Parametric\n",
    "Only **valid** technique\n",
    "\n",
    "* Multiply contrast image randomly (50% on average) by -1\n",
    "    * creates a null dataset on average\n",
    "* Create t-map from random contrasts, ITERATE (e.g. 1000x)\n",
    "\n"
   ]
  },
  {
   "cell_type": "code",
   "execution_count": null,
   "metadata": {},
   "outputs": [],
   "source": [
    "# find regions based on previous papers\n",
    "# then SNR to determine voxels\n",
    "\n",
    "# if you have 6 regions you then need to correct for 6 tests\n",
    "    ## can any regions successfully classify? (correct for 6 tests)\n",
    "    ## can any regions generalize? (correct for number of those that successfully classified)\n",
    "\n",
    "# Predict switch/non switch\n",
    "\n",
    "# Predict go/nogo"
   ]
  }
 ],
 "metadata": {
  "kernelspec": {
   "display_name": "Python [conda env:python37_nipype]",
   "language": "python",
   "name": "conda-env-python37_nipype-py"
  },
  "language_info": {
   "codemirror_mode": {
    "name": "ipython",
    "version": 3
   },
   "file_extension": ".py",
   "mimetype": "text/x-python",
   "name": "python",
   "nbconvert_exporter": "python",
   "pygments_lexer": "ipython3",
   "version": "3.7.1"
  },
  "toc-autonumbering": true,
  "toc-showcode": false,
  "toc-showmarkdowntxt": false
 },
 "nbformat": 4,
 "nbformat_minor": 2
}
