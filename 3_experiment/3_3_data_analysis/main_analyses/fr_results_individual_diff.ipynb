{
 "cells": [
  {
   "cell_type": "markdown",
   "metadata": {
    "toc-hr-collapsed": false
   },
   "source": [
    "# Setup"
   ]
  },
  {
   "cell_type": "markdown",
   "metadata": {},
   "source": [
    "## Imports"
   ]
  },
  {
   "cell_type": "code",
   "execution_count": 1,
   "metadata": {},
   "outputs": [
    {
     "name": "stderr",
     "output_type": "stream",
     "text": [
      "── Attaching packages ─────────────────────────────────────── tidyverse 1.2.1 ──\n",
      "✔ ggplot2 3.1.0     ✔ purrr   0.3.0\n",
      "✔ tibble  2.0.1     ✔ dplyr   0.7.8\n",
      "✔ tidyr   0.8.2     ✔ stringr 1.4.0\n",
      "✔ readr   1.3.1     ✔ forcats 0.3.0\n",
      "── Conflicts ────────────────────────────────────────── tidyverse_conflicts() ──\n",
      "✖ dplyr::filter() masks stats::filter()\n",
      "✖ dplyr::lag()    masks stats::lag()\n",
      "\n",
      "Attaching package: ‘data.table’\n",
      "\n",
      "The following objects are masked from ‘package:dplyr’:\n",
      "\n",
      "    between, first, last\n",
      "\n",
      "The following object is masked from ‘package:purrr’:\n",
      "\n",
      "    transpose\n",
      "\n",
      "Loading required package: Matrix\n",
      "\n",
      "Attaching package: ‘Matrix’\n",
      "\n",
      "The following object is masked from ‘package:tidyr’:\n",
      "\n",
      "    expand\n",
      "\n",
      "\n",
      "Attaching package: ‘lmerTest’\n",
      "\n",
      "The following object is masked from ‘package:lme4’:\n",
      "\n",
      "    lmer\n",
      "\n",
      "The following object is masked from ‘package:stats’:\n",
      "\n",
      "    step\n",
      "\n",
      "\n",
      "Attaching package: ‘cowplot’\n",
      "\n",
      "The following object is masked from ‘package:ggplot2’:\n",
      "\n",
      "    ggsave\n",
      "\n"
     ]
    }
   ],
   "source": [
    "# Import Libraries\n",
    "library(tidyverse)\n",
    "library(data.table)\n",
    "library(broom)\n",
    "library(dtplyr)\n",
    "library(lme4)\n",
    "library(lmerTest)\n",
    "library(ggbeeswarm)\n",
    "library(cowplot)\n",
    "library(tibble)\n",
    "\n",
    "# Load helper functions\n",
    "source(\"../r_scripts/helper_functions.R\")\n",
    "source(\"https://raw.githubusercontent.com/hauselin/Rcode/master/cleanQuestionnaire.R\")\n",
    "\n",
    "## set universal plot size:\n",
    "options(repr.plot.width=7, repr.plot.height=3.5)\n",
    "\n",
    "# avoids scientific notation\n",
    "options(scipen=999) "
   ]
  },
  {
   "cell_type": "markdown",
   "metadata": {},
   "source": [
    "## Load and manipulate data"
   ]
  },
  {
   "cell_type": "code",
   "execution_count": 43,
   "metadata": {},
   "outputs": [
    {
     "name": "stderr",
     "output_type": "stream",
     "text": [
      "Parsed with column specification:\n",
      "cols(\n",
      "  .default = col_character(),\n",
      "  `What time did you eat the food you indicated in the last question?` = col_time(format = \"\"),\n",
      "  `How difficult was it to make choices during trials when you were asked to RESPOND NATURALLY?` = col_double(),\n",
      "  `How difficult was it to make choices during trials when you were asked to DECREASE YOUR DESIRE?` = col_double(),\n",
      "  `How much did you think about the health of the foods when choosing NATURALLY?` = col_double(),\n",
      "  `How much did you try to decrease your desire for the foods when choosing NATURALLY?` = col_double(),\n",
      "  `How much did you think about the health of the foods when trying to DECREASE DESIRE?` = col_double(),\n",
      "  `How much did you try to reduce your craving for the foods when trying to DECREASE DESIRE?` = col_double(),\n",
      "  `How successful do you think you were in controlling your responses to the food when you were asked to DECREASE DESIRE?` = col_double(),\n",
      "  `1. I tried to think about how UNHEALTHY the foods were.` = col_double(),\n",
      "  `2. I tried to avoid thinking about how hungry I was.` = col_double(),\n",
      "  `3. I tried to change the way I thought about the food.` = col_double(),\n",
      "  `4. I tried not to look at the pictures of the food.` = col_double(),\n",
      "  `5. I tried to think about how HEALTHY the foods were.` = col_double(),\n",
      "  `6. I didn't change how much I wanted the food, but I changed which foods I chose anyway.` = col_double(),\n",
      "  `7. I tried to decrease my desire for the foods.` = col_double(),\n",
      "  `8. I tried to avoid thinking about how tasty the foods were.` = col_double(),\n",
      "  `On a scale of 1 to 8, where 1 means no restraint in eating (eating whatever you want, whenever you want it) and 8 means total restraint (constantly limiting food intake and never “giving in”), what number would you give yourself?` = col_double(),\n",
      "  `How difficult was it to make choices during trials when you were asked to FOCUS ON HEALTH?` = col_double(),\n",
      "  `How much did you think about the health of the foods when trying to FOCUS ON HEALTH?` = col_double(),\n",
      "  `How much did you try to reduce your craving for the foods when trying to FOCUS ON HEALTH?` = col_double()\n",
      "  # ... with 9 more columns\n",
      ")\n",
      "See spec(...) for full column specifications.\n"
     ]
    }
   ],
   "source": [
    "# Read in data\n",
    "df = as_tibble(read_csv(\"../data/questionnaires.csv\"), stringsAsFactors = FALSE)\n",
    "# Select fMRI study subjects\n",
    "fmri_sub <- grepl(\"FRMRI*\", df[, 2][[1]])\n",
    "df = df[fmri_sub, ]\n",
    "\n",
    "# Rename Columns\n",
    "names(df)[1:13] = c(\"demo_time\",\n",
    "                    \"subject\",\n",
    "                    \"demo_gender\",\n",
    "                    \"demo_race\",\n",
    "                    \"demo_age\",\n",
    "                    \"demo_weight\",\n",
    "                    \"demo_height\",\n",
    "                    \"demo_yrs_canada\",\n",
    "                    \"demo_diet\",\n",
    "                    \"demo_diet_detail\",\n",
    "                    \"demo_familiar\",\n",
    "                    \"demo_previous_food\",\n",
    "                    \"demo_previous_food_time\")\n",
    "\n",
    "# Just want id number\n",
    "df <- df %>%\n",
    "  mutate(\n",
    "    subject = readr::parse_number(subject)\n",
    "  )\n",
    "  \n",
    "# rename condition effects\n",
    "cols = c(14,16,17,15,18,19,20,114,115,116,117)\n",
    "colnames(df)[cols] <- c(paste0(\"ce_\", 1:11))\n",
    "\n",
    "# rename strategy questions\n",
    "cols = c(21:28, 118:125)\n",
    "colnames(df)[cols] <- c(paste0(\"s_\", 1:16))\n",
    "\n",
    "# rename Three Factor Eating Questionnaire\n",
    "cols = c(29:46)\n",
    "colnames(df)[cols] <- c(paste0(\"tfeq_\", 1:18))\n",
    "\n",
    "# rename rapid food screener\n",
    "    # fruits and veg\n",
    "cols = c(47:56)\n",
    "colnames(df)[cols] <- c(paste0(\"rfs_fv_\", 1:10))\n",
    "\n",
    "    # fat\n",
    "cols = c(57:73)\n",
    "colnames(df)[cols] <- c(paste0(\"rfs_f_\", 1:17))\n",
    "\n",
    "# BIS 11\n",
    "cols = c(74:103)\n",
    "colnames(df)[cols] <- c(paste0(\"bis_\", 1:30))\n",
    "\n",
    "# Perceived Stress Scale\n",
    "cols = c(104:113)\n",
    "colnames(df)[cols] <- c(paste0(\"pss_\", 1:10))\n",
    "\n",
    "# reorder\n",
    "df =df[,order(colnames(df))]"
   ]
  },
  {
   "cell_type": "code",
   "execution_count": null,
   "metadata": {},
   "outputs": [],
   "source": []
  },
  {
   "cell_type": "code",
   "execution_count": 48,
   "metadata": {},
   "outputs": [],
   "source": [
    "# want to look only at the subjects that were kept\n",
    "good_subjects = c(101:104, 106:112, 114, 116, 118:121, 123:126, 129:137, 139:140, 142:148, 150, 152:158, 162:164)\n",
    "# remove \"bad\" subjects\n",
    "df_good = df %>%\n",
    "    filter(subject %in% good_subjects)"
   ]
  },
  {
   "cell_type": "markdown",
   "metadata": {},
   "source": [
    "## Questionnaire Key"
   ]
  },
  {
   "cell_type": "markdown",
   "metadata": {},
   "source": [
    "---\n",
    "[Coding Google Sheet](https://docs.google.com/spreadsheets/d/1M_YAg-ALHN3SOx1DGVZ9EWd8rX8-QJuatQehSt9CCms/edit?usp=sharing)\n",
    "\n",
    "---"
   ]
  },
  {
   "cell_type": "markdown",
   "metadata": {},
   "source": [
    "# Demographics"
   ]
  },
  {
   "cell_type": "code",
   "execution_count": 53,
   "metadata": {},
   "outputs": [
    {
     "data": {
      "text/plain": [
       "\n",
       "Female   Male \n",
       "    34     16 "
      ]
     },
     "metadata": {},
     "output_type": "display_data"
    },
    {
     "data": {
      "text/html": [
       "<table>\n",
       "<thead><tr><th scope=col>age</th><th scope=col>ageSD</th><th scope=col>ageMin</th><th scope=col>ageMax</th></tr></thead>\n",
       "<tbody>\n",
       "\t<tr><td>23.1    </td><td>4.258245</td><td>18      </td><td>38      </td></tr>\n",
       "</tbody>\n",
       "</table>\n"
      ],
      "text/latex": [
       "\\begin{tabular}{r|llll}\n",
       " age & ageSD & ageMin & ageMax\\\\\n",
       "\\hline\n",
       "\t 23.1     & 4.258245 & 18       & 38      \\\\\n",
       "\\end{tabular}\n"
      ],
      "text/markdown": [
       "\n",
       "| age | ageSD | ageMin | ageMax |\n",
       "|---|---|---|---|\n",
       "| 23.1     | 4.258245 | 18       | 38       |\n",
       "\n"
      ],
      "text/plain": [
       "  age  ageSD    ageMin ageMax\n",
       "1 23.1 4.258245 18     38    "
      ]
     },
     "metadata": {},
     "output_type": "display_data"
    }
   ],
   "source": [
    "table(df_good$demo_gender)\n",
    "tibble(age = mean(as.numeric(df_good$demo_age), na.rm = T), \n",
    "       ageSD = sd(as.numeric(df_good$demo_age), na.rm = T),\n",
    "       ageMin = min(as.numeric(df_good$demo_age), na.rm = T),\n",
    "       ageMax = max(as.numeric(df_good$demo_age), na.rm = T))"
   ]
  },
  {
   "cell_type": "code",
   "execution_count": null,
   "metadata": {},
   "outputs": [],
   "source": []
  }
 ],
 "metadata": {
  "kernelspec": {
   "display_name": "R",
   "language": "R",
   "name": "ir"
  },
  "language_info": {
   "codemirror_mode": "r",
   "file_extension": ".r",
   "mimetype": "text/x-r-source",
   "name": "R",
   "pygments_lexer": "r",
   "version": "3.5.2"
  },
  "toc-autonumbering": true,
  "toc-showcode": false,
  "toc-showmarkdowntxt": false
 },
 "nbformat": 4,
 "nbformat_minor": 2
}
