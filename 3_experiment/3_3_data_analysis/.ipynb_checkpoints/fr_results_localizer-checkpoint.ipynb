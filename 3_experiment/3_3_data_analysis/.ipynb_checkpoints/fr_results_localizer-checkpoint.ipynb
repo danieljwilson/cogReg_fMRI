{
 "cells": [
  {
   "cell_type": "markdown",
   "metadata": {
    "toc-hr-collapsed": true
   },
   "source": [
    "# Setup"
   ]
  },
  {
   "cell_type": "markdown",
   "metadata": {},
   "source": [
    "## Imports"
   ]
  },
  {
   "cell_type": "code",
   "execution_count": 1,
   "metadata": {},
   "outputs": [
    {
     "name": "stderr",
     "output_type": "stream",
     "text": [
      "── Attaching packages ─────────────────────────────────────── tidyverse 1.2.1 ──\n",
      "✔ ggplot2 3.1.1       ✔ purrr   0.3.2  \n",
      "✔ tibble  2.1.1       ✔ dplyr   0.8.0.1\n",
      "✔ tidyr   0.8.3       ✔ stringr 1.4.0  \n",
      "✔ readr   1.3.1       ✔ forcats 0.4.0  \n",
      "── Conflicts ────────────────────────────────────────── tidyverse_conflicts() ──\n",
      "✖ dplyr::arrange()   masks plyr::arrange()\n",
      "✖ purrr::compact()   masks plyr::compact()\n",
      "✖ dplyr::count()     masks plyr::count()\n",
      "✖ dplyr::failwith()  masks plyr::failwith()\n",
      "✖ dplyr::filter()    masks stats::filter()\n",
      "✖ dplyr::id()        masks plyr::id()\n",
      "✖ dplyr::lag()       masks stats::lag()\n",
      "✖ dplyr::mutate()    masks plyr::mutate()\n",
      "✖ dplyr::rename()    masks plyr::rename()\n",
      "✖ dplyr::summarise() masks plyr::summarise()\n",
      "✖ dplyr::summarize() masks plyr::summarize()\n",
      "Loading required package: Matrix\n",
      "\n",
      "Attaching package: ‘Matrix’\n",
      "\n",
      "The following object is masked from ‘package:tidyr’:\n",
      "\n",
      "    expand\n",
      "\n",
      "Loading required package: carData\n",
      "\n",
      "Attaching package: ‘car’\n",
      "\n",
      "The following object is masked from ‘package:dplyr’:\n",
      "\n",
      "    recode\n",
      "\n",
      "The following object is masked from ‘package:purrr’:\n",
      "\n",
      "    some\n",
      "\n",
      "\n",
      "Attaching package: ‘lmerTest’\n",
      "\n",
      "The following object is masked from ‘package:lme4’:\n",
      "\n",
      "    lmer\n",
      "\n",
      "The following object is masked from ‘package:stats’:\n",
      "\n",
      "    step\n",
      "\n",
      "\n",
      "Attaching package: ‘data.table’\n",
      "\n",
      "The following objects are masked from ‘package:dplyr’:\n",
      "\n",
      "    between, first, last\n",
      "\n",
      "The following object is masked from ‘package:purrr’:\n",
      "\n",
      "    transpose\n",
      "\n"
     ]
    }
   ],
   "source": [
    "# Import Libraries\n",
    "library(plyr)\n",
    "library(tidyverse)\n",
    "library(lme4)\n",
    "library(car)\n",
    "library(ggplot2)\n",
    "library(lmerTest)\n",
    "library(broom)\n",
    "library(data.table)\n",
    "library(pander)\n",
    "library(emmeans)\n",
    "library(ggsignif)\n",
    "\n",
    "# Load helper functions\n",
    "source(\"r_scripts/helper_functions.R\")\n",
    "\n",
    "## set universal plot size:\n",
    "options(repr.plot.width=7, repr.plot.height=3.5)\n",
    "\n",
    "# avoids scientific notation\n",
    "options(scipen=999) "
   ]
  },
  {
   "cell_type": "markdown",
   "metadata": {},
   "source": [
    "### Load and manipulate data"
   ]
  },
  {
   "cell_type": "code",
   "execution_count": 21,
   "metadata": {},
   "outputs": [],
   "source": [
    "all_subjects = c(101:164)\n",
    "good_subjects = c(101:104, 106:112, 114, 116, 118:121, 123:126, 129:137, 139:140, 142:148, 150, 152:158, 162:164)"
   ]
  },
  {
   "cell_type": "code",
   "execution_count": 22,
   "metadata": {},
   "outputs": [],
   "source": [
    "# No localizer data for subs 101, 117, 132, 138, 141, 151\n",
    "no_localizer_subs = c(101,117,132,138,141,151)\n",
    "all_subjects = setdiff(all_subjects, no_localizer_subs)\n",
    "good_subjects = setdiff(good_subjects, no_localizer_subs)"
   ]
  },
  {
   "cell_type": "code",
   "execution_count": 25,
   "metadata": {},
   "outputs": [
    {
     "data": {
      "text/html": [
       "'5'"
      ],
      "text/latex": [
       "'5'"
      ],
      "text/markdown": [
       "'5'"
      ],
      "text/plain": [
       "[1] \"5\""
      ]
     },
     "metadata": {},
     "output_type": "display_data"
    }
   ],
   "source": [
    "as.character(5)"
   ]
  },
  {
   "cell_type": "code",
   "execution_count": 33,
   "metadata": {},
   "outputs": [],
   "source": []
  },
  {
   "cell_type": "code",
   "execution_count": 29,
   "metadata": {},
   "outputs": [],
   "source": [
    "root_dir = '/Volumes/DJW_Lacie_01/PROJECTS/2018_Food_Reg_fMRI/09_DATA/food_reg_fmri_01/trial_data/'\n"
   ]
  },
  {
   "cell_type": "code",
   "execution_count": 30,
   "metadata": {},
   "outputs": [
    {
     "data": {
      "text/html": [
       "'/Volumes/DJW_Lacie_01/PROJECTS/2018_Food_Reg_fMRI/09_DATA/food_reg_fmri_01/trial_data/102/'"
      ],
      "text/latex": [
       "'/Volumes/DJW\\_Lacie\\_01/PROJECTS/2018\\_Food\\_Reg\\_fMRI/09\\_DATA/food\\_reg\\_fmri\\_01/trial\\_data/102/'"
      ],
      "text/markdown": [
       "'/Volumes/DJW_Lacie_01/PROJECTS/2018_Food_Reg_fMRI/09_DATA/food_reg_fmri_01/trial_data/102/'"
      ],
      "text/plain": [
       "[1] \"/Volumes/DJW_Lacie_01/PROJECTS/2018_Food_Reg_fMRI/09_DATA/food_reg_fmri_01/trial_data/102/\""
      ]
     },
     "metadata": {},
     "output_type": "display_data"
    }
   ],
   "source": [
    "sub_dir"
   ]
  },
  {
   "cell_type": "code",
   "execution_count": null,
   "metadata": {},
   "outputs": [],
   "source": [
    "# loop through csv files\n",
    "for (subject in good_subjects){\n",
    "    \n",
    "    sub_dir = paste0(root_dir, as.character(subject), '/')\n",
    "    \n",
    "    gng = list.files(sub_dir, pattern=\"*gonogo.csv\")\n",
    "    house_face = list.files(sub_dir, pattern=\"*shiftingLetterNumber.csv\")\n",
    "    \n",
    "    for (file in gng){\n",
    "        read_csv of file to df\n",
    "        append to gng df\n",
    "    }\n",
    "    \n",
    "    read_sv of hous_face to df\n",
    "    append to house_face df\n",
    "}"
   ]
  },
  {
   "cell_type": "code",
   "execution_count": 2,
   "metadata": {},
   "outputs": [],
   "source": [
    "# Load Data\n",
    "load(\"data/FoodRegfMRI_dt.RData\")\n",
    "dt = full_dt"
   ]
  },
  {
   "cell_type": "code",
   "execution_count": 3,
   "metadata": {},
   "outputs": [
    {
     "data": {
      "text/html": [
       "<table>\n",
       "<thead><tr><th scope=col>food</th><th scope=col>subject</th><th scope=col>block</th><th scope=col>cond</th><th scope=col>resp</th><th scope=col>rt</th><th scope=col>pre_liking</th><th scope=col>post_liking</th><th scope=col>taste</th><th scope=col>health</th></tr></thead>\n",
       "<tbody>\n",
       "\t<tr><td>KashiBars_4_3bars.jpg  </td><td>101                    </td><td>1                      </td><td>Respond Naturally      </td><td>4                      </td><td>1.802056               </td><td>4                      </td><td>3                      </td><td>4                      </td><td>4                      </td></tr>\n",
       "\t<tr><td>BBQCrisps_6_1cup.jpg   </td><td>101                    </td><td>1                      </td><td>Respond Naturally      </td><td>3                      </td><td>1.093640               </td><td>4                      </td><td>3                      </td><td>4                      </td><td>4                      </td></tr>\n",
       "\t<tr><td>Peanuts_4_0.25c.jpg    </td><td>101                    </td><td>1                      </td><td>Respond Naturally      </td><td>2                      </td><td>1.722257               </td><td>4                      </td><td>4                      </td><td>5                      </td><td>6                      </td></tr>\n",
       "\t<tr><td>Tostitos_5_25chips.jpg </td><td>101                    </td><td>1                      </td><td>Respond Naturally      </td><td>3                      </td><td>1.041150               </td><td>4                      </td><td>4                      </td><td>4                      </td><td>3                      </td></tr>\n",
       "\t<tr><td>RiceChex_4_0.25Cups.jpg</td><td>101                    </td><td>1                      </td><td>Respond Naturally      </td><td>3                      </td><td>1.051524               </td><td>4                      </td><td>3                      </td><td>3                      </td><td>3                      </td></tr>\n",
       "\t<tr><td>Cheerios_5_2c.jpg      </td><td>101                    </td><td>1                      </td><td>Respond Naturally      </td><td>2                      </td><td>1.008364               </td><td>3                      </td><td>3                      </td><td>4                      </td><td>4                      </td></tr>\n",
       "</tbody>\n",
       "</table>\n"
      ],
      "text/latex": [
       "\\begin{tabular}{r|llllllllll}\n",
       " food & subject & block & cond & resp & rt & pre\\_liking & post\\_liking & taste & health\\\\\n",
       "\\hline\n",
       "\t KashiBars\\_4\\_3bars.jpg   & 101                         & 1                           & Respond Naturally           & 4                           & 1.802056                    & 4                           & 3                           & 4                           & 4                          \\\\\n",
       "\t BBQCrisps\\_6\\_1cup.jpg    & 101                         & 1                           & Respond Naturally           & 3                           & 1.093640                    & 4                           & 3                           & 4                           & 4                          \\\\\n",
       "\t Peanuts\\_4\\_0.25c.jpg     & 101                         & 1                           & Respond Naturally           & 2                           & 1.722257                    & 4                           & 4                           & 5                           & 6                          \\\\\n",
       "\t Tostitos\\_5\\_25chips.jpg  & 101                         & 1                           & Respond Naturally           & 3                           & 1.041150                    & 4                           & 4                           & 4                           & 3                          \\\\\n",
       "\t RiceChex\\_4\\_0.25Cups.jpg & 101                         & 1                           & Respond Naturally           & 3                           & 1.051524                    & 4                           & 3                           & 3                           & 3                          \\\\\n",
       "\t Cheerios\\_5\\_2c.jpg       & 101                         & 1                           & Respond Naturally           & 2                           & 1.008364                    & 3                           & 3                           & 4                           & 4                          \\\\\n",
       "\\end{tabular}\n"
      ],
      "text/markdown": [
       "\n",
       "| food | subject | block | cond | resp | rt | pre_liking | post_liking | taste | health |\n",
       "|---|---|---|---|---|---|---|---|---|---|\n",
       "| KashiBars_4_3bars.jpg   | 101                     | 1                       | Respond Naturally       | 4                       | 1.802056                | 4                       | 3                       | 4                       | 4                       |\n",
       "| BBQCrisps_6_1cup.jpg    | 101                     | 1                       | Respond Naturally       | 3                       | 1.093640                | 4                       | 3                       | 4                       | 4                       |\n",
       "| Peanuts_4_0.25c.jpg     | 101                     | 1                       | Respond Naturally       | 2                       | 1.722257                | 4                       | 4                       | 5                       | 6                       |\n",
       "| Tostitos_5_25chips.jpg  | 101                     | 1                       | Respond Naturally       | 3                       | 1.041150                | 4                       | 4                       | 4                       | 3                       |\n",
       "| RiceChex_4_0.25Cups.jpg | 101                     | 1                       | Respond Naturally       | 3                       | 1.051524                | 4                       | 3                       | 3                       | 3                       |\n",
       "| Cheerios_5_2c.jpg       | 101                     | 1                       | Respond Naturally       | 2                       | 1.008364                | 3                       | 3                       | 4                       | 4                       |\n",
       "\n"
      ],
      "text/plain": [
       "  food                    subject block cond              resp rt      \n",
       "1 KashiBars_4_3bars.jpg   101     1     Respond Naturally 4    1.802056\n",
       "2 BBQCrisps_6_1cup.jpg    101     1     Respond Naturally 3    1.093640\n",
       "3 Peanuts_4_0.25c.jpg     101     1     Respond Naturally 2    1.722257\n",
       "4 Tostitos_5_25chips.jpg  101     1     Respond Naturally 3    1.041150\n",
       "5 RiceChex_4_0.25Cups.jpg 101     1     Respond Naturally 3    1.051524\n",
       "6 Cheerios_5_2c.jpg       101     1     Respond Naturally 2    1.008364\n",
       "  pre_liking post_liking taste health\n",
       "1 4          3           4     4     \n",
       "2 4          3           4     4     \n",
       "3 4          4           5     6     \n",
       "4 4          4           4     3     \n",
       "5 4          3           3     3     \n",
       "6 3          3           4     4     "
      ]
     },
     "metadata": {},
     "output_type": "display_data"
    }
   ],
   "source": [
    "head(dt)"
   ]
  },
  {
   "cell_type": "code",
   "execution_count": null,
   "metadata": {},
   "outputs": [],
   "source": []
  }
 ],
 "metadata": {
  "kernelspec": {
   "display_name": "R",
   "language": "R",
   "name": "ir"
  },
  "language_info": {
   "codemirror_mode": "r",
   "file_extension": ".r",
   "mimetype": "text/x-r-source",
   "name": "R",
   "pygments_lexer": "r",
   "version": "3.5.2"
  },
  "toc-autonumbering": true,
  "toc-showcode": false,
  "toc-showmarkdowntxt": false
 },
 "nbformat": 4,
 "nbformat_minor": 2
}
