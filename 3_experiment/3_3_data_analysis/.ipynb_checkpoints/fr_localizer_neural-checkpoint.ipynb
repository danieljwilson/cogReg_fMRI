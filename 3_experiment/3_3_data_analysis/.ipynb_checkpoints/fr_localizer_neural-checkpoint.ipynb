{
 "cells": [
  {
   "cell_type": "markdown",
   "metadata": {
    "toc-hr-collapsed": false
   },
   "source": [
    "---\n",
    "# Setup\n",
    "---"
   ]
  },
  {
   "cell_type": "markdown",
   "metadata": {},
   "source": [
    "## Imports"
   ]
  },
  {
   "cell_type": "code",
   "execution_count": 2,
   "metadata": {},
   "outputs": [],
   "source": [
    "import numpy as np\n",
    "import pandas as pd\n",
    "import glob\n",
    "\n",
    "import matplotlib.pyplot as plt \n",
    "%matplotlib inline "
   ]
  },
  {
   "cell_type": "markdown",
   "metadata": {},
   "source": [
    "---\n",
    "# Trial Data\n",
    "---"
   ]
  },
  {
   "cell_type": "markdown",
   "metadata": {},
   "source": [
    "## Load and manipulate data"
   ]
  },
  {
   "cell_type": "markdown",
   "metadata": {},
   "source": [
    "Path to `trial_data`"
   ]
  },
  {
   "cell_type": "code",
   "execution_count": 3,
   "metadata": {},
   "outputs": [],
   "source": [
    "root_dir = '/Volumes/DJW_Lacie_01/PROJECTS/2018_Food_Reg_fMRI/09_DATA/food_reg_fmri_01/trial_data/'"
   ]
  },
  {
   "cell_type": "markdown",
   "metadata": {},
   "source": [
    "Only **good subjects** were included in analyses"
   ]
  },
  {
   "cell_type": "code",
   "execution_count": 4,
   "metadata": {},
   "outputs": [],
   "source": [
    "good_subjects = list(range(101,105)) + list(range(106,113)) + [114, 116] + list(range(118,122)) + list(range(123,127)) + list(range(129,138)) + [139, 140] + list(range(142,149)) + [150] + list(range(152,159)) + list(range(162,165))\n",
    "all_subjects = list(range(101,165)) "
   ]
  },
  {
   "cell_type": "markdown",
   "metadata": {},
   "source": [
    "Limit to subjects that have localizer data"
   ]
  },
  {
   "cell_type": "code",
   "execution_count": 5,
   "metadata": {},
   "outputs": [],
   "source": [
    "# No localizer data for subs 101, 117, 132, 138, 141, 151\n",
    "no_localizer_subs = [101,117,132,138,141,151]\n",
    "all_subjects = list(set(all_subjects) - (set(no_localizer_subs)))\n",
    "good_subjects = list(set(good_subjects) - (set(no_localizer_subs)))"
   ]
  },
  {
   "cell_type": "markdown",
   "metadata": {},
   "source": [
    "### Create Localizer DFs"
   ]
  },
  {
   "cell_type": "code",
   "execution_count": 6,
   "metadata": {},
   "outputs": [],
   "source": [
    "gng_df = []\n",
    "switch_df = []\n",
    "\n",
    "# loop through csv files\n",
    "for subject in good_subjects:\n",
    "    \n",
    "    sub_dir = root_dir + str(subject) + '/'\n",
    "    \n",
    "    # get list of files\n",
    "    gng = glob.glob(sub_dir + '*gonogo.csv')\n",
    "    switch = glob.glob(sub_dir + '*shiftingLetterNumber.csv')\n",
    "    \n",
    "    # append gng runs\n",
    "    gng_sub = []\n",
    "    for file in gng:\n",
    "        df = pd.read_csv(file)\n",
    "        gng_sub.append(df)\n",
    "    gng_sub = pd.concat(gng_sub, axis=0).reset_index(drop=True)\n",
    "    gng_df.append(gng_sub)\n",
    "    \n",
    "    # only one switch run\n",
    "    switch_sub = pd.read_csv(switch[0])\n",
    "    switch_df.append(switch_sub)\n",
    "\n",
    "# join all subjects\n",
    "gng_df = pd.concat(gng_df, axis=0).reset_index(drop=True)\n",
    "switch_df = pd.concat(switch_df, axis=0).reset_index(drop=True)"
   ]
  },
  {
   "cell_type": "code",
   "execution_count": 7,
   "metadata": {},
   "outputs": [
    {
     "data": {
      "text/plain": [
       "Index(['participant', 'scriptDate', 'trialNo', 'blockType', 'task',\n",
       "       'fixationFrames', 'postFixationFrames', 'targetFrames', 'startTime',\n",
       "       'endTime', 'firstTR', 'blockNumber', 'elapsedTime', 'resp', 'rt', 'iti',\n",
       "       'responseTTL', 'choice', 'overallTrialNum', 'acc', 'creditsEarned',\n",
       "       'letternumber', 'trials', 'switchProportion', 'switches', 'switch',\n",
       "       'question', 'colourCue', 'correctAnswer', 'correctKey'],\n",
       "      dtype='object')"
      ]
     },
     "execution_count": 7,
     "metadata": {},
     "output_type": "execute_result"
    }
   ],
   "source": [
    "switch_df.columns"
   ]
  },
  {
   "cell_type": "markdown",
   "metadata": {},
   "source": [
    "---\n",
    "### Basic Pyschometrics"
   ]
  },
  {
   "cell_type": "code",
   "execution_count": 8,
   "metadata": {},
   "outputs": [
    {
     "data": {
      "text/html": [
       "<div>\n",
       "<style scoped>\n",
       "    .dataframe tbody tr th:only-of-type {\n",
       "        vertical-align: middle;\n",
       "    }\n",
       "\n",
       "    .dataframe tbody tr th {\n",
       "        vertical-align: top;\n",
       "    }\n",
       "\n",
       "    .dataframe thead th {\n",
       "        text-align: right;\n",
       "    }\n",
       "</style>\n",
       "<table border=\"1\" class=\"dataframe\">\n",
       "  <thead>\n",
       "    <tr style=\"text-align: right;\">\n",
       "      <th></th>\n",
       "      <th>rt</th>\n",
       "      <th>acc</th>\n",
       "    </tr>\n",
       "    <tr>\n",
       "      <th>participant</th>\n",
       "      <th></th>\n",
       "      <th></th>\n",
       "    </tr>\n",
       "  </thead>\n",
       "  <tbody>\n",
       "    <tr>\n",
       "      <th>102</th>\n",
       "      <td>0.703756</td>\n",
       "      <td>0.6375</td>\n",
       "    </tr>\n",
       "    <tr>\n",
       "      <th>103</th>\n",
       "      <td>0.578992</td>\n",
       "      <td>0.3625</td>\n",
       "    </tr>\n",
       "    <tr>\n",
       "      <th>104</th>\n",
       "      <td>0.843213</td>\n",
       "      <td>0.3000</td>\n",
       "    </tr>\n",
       "    <tr>\n",
       "      <th>106</th>\n",
       "      <td>0.787512</td>\n",
       "      <td>0.6000</td>\n",
       "    </tr>\n",
       "    <tr>\n",
       "      <th>107</th>\n",
       "      <td>0.748620</td>\n",
       "      <td>0.6750</td>\n",
       "    </tr>\n",
       "  </tbody>\n",
       "</table>\n",
       "</div>"
      ],
      "text/plain": [
       "                   rt     acc\n",
       "participant                  \n",
       "102          0.703756  0.6375\n",
       "103          0.578992  0.3625\n",
       "104          0.843213  0.3000\n",
       "106          0.787512  0.6000\n",
       "107          0.748620  0.6750"
      ]
     },
     "execution_count": 8,
     "metadata": {},
     "output_type": "execute_result"
    }
   ],
   "source": [
    "# rt and accuracy for each subject\n",
    "switch_df.groupby('participant')[['rt', 'acc']].mean().head()"
   ]
  },
  {
   "cell_type": "code",
   "execution_count": 9,
   "metadata": {},
   "outputs": [
    {
     "data": {
      "text/html": [
       "<div>\n",
       "<style scoped>\n",
       "    .dataframe tbody tr th:only-of-type {\n",
       "        vertical-align: middle;\n",
       "    }\n",
       "\n",
       "    .dataframe tbody tr th {\n",
       "        vertical-align: top;\n",
       "    }\n",
       "\n",
       "    .dataframe thead th {\n",
       "        text-align: right;\n",
       "    }\n",
       "</style>\n",
       "<table border=\"1\" class=\"dataframe\">\n",
       "  <thead>\n",
       "    <tr style=\"text-align: right;\">\n",
       "      <th></th>\n",
       "      <th>rt</th>\n",
       "      <th>acc</th>\n",
       "    </tr>\n",
       "    <tr>\n",
       "      <th>correctAnswer</th>\n",
       "      <th></th>\n",
       "      <th></th>\n",
       "    </tr>\n",
       "  </thead>\n",
       "  <tbody>\n",
       "    <tr>\n",
       "      <th>female</th>\n",
       "      <td>0.670152</td>\n",
       "      <td>0.605025</td>\n",
       "    </tr>\n",
       "    <tr>\n",
       "      <th>male</th>\n",
       "      <td>0.697437</td>\n",
       "      <td>0.542888</td>\n",
       "    </tr>\n",
       "    <tr>\n",
       "      <th>new</th>\n",
       "      <td>0.693298</td>\n",
       "      <td>0.389006</td>\n",
       "    </tr>\n",
       "    <tr>\n",
       "      <th>old</th>\n",
       "      <td>0.702082</td>\n",
       "      <td>0.401840</td>\n",
       "    </tr>\n",
       "  </tbody>\n",
       "</table>\n",
       "</div>"
      ],
      "text/plain": [
       "                     rt       acc\n",
       "correctAnswer                    \n",
       "female         0.670152  0.605025\n",
       "male           0.697437  0.542888\n",
       "new            0.693298  0.389006\n",
       "old            0.702082  0.401840"
      ]
     },
     "execution_count": 9,
     "metadata": {},
     "output_type": "execute_result"
    }
   ],
   "source": [
    "# more accurate on faces than houses\n",
    "switch_df.groupby('correctAnswer')[['rt', 'acc']].mean()"
   ]
  },
  {
   "cell_type": "code",
   "execution_count": 10,
   "metadata": {},
   "outputs": [
    {
     "data": {
      "text/html": [
       "<div>\n",
       "<style scoped>\n",
       "    .dataframe tbody tr th:only-of-type {\n",
       "        vertical-align: middle;\n",
       "    }\n",
       "\n",
       "    .dataframe tbody tr th {\n",
       "        vertical-align: top;\n",
       "    }\n",
       "\n",
       "    .dataframe thead th {\n",
       "        text-align: right;\n",
       "    }\n",
       "</style>\n",
       "<table border=\"1\" class=\"dataframe\">\n",
       "  <thead>\n",
       "    <tr style=\"text-align: right;\">\n",
       "      <th></th>\n",
       "      <th>rt</th>\n",
       "      <th>acc</th>\n",
       "    </tr>\n",
       "    <tr>\n",
       "      <th>switch</th>\n",
       "      <th></th>\n",
       "      <th></th>\n",
       "    </tr>\n",
       "  </thead>\n",
       "  <tbody>\n",
       "    <tr>\n",
       "      <th>0</th>\n",
       "      <td>0.678389</td>\n",
       "      <td>0.551042</td>\n",
       "    </tr>\n",
       "    <tr>\n",
       "      <th>1</th>\n",
       "      <td>0.702879</td>\n",
       "      <td>0.419271</td>\n",
       "    </tr>\n",
       "  </tbody>\n",
       "</table>\n",
       "</div>"
      ],
      "text/plain": [
       "              rt       acc\n",
       "switch                    \n",
       "0       0.678389  0.551042\n",
       "1       0.702879  0.419271"
      ]
     },
     "execution_count": 10,
     "metadata": {},
     "output_type": "execute_result"
    }
   ],
   "source": [
    "# much worse accuracy when switching\n",
    "switch_df.groupby('switch')[['rt', 'acc']].mean()"
   ]
  },
  {
   "cell_type": "markdown",
   "metadata": {},
   "source": [
    "## Stimulus Presentations"
   ]
  },
  {
   "cell_type": "code",
   "execution_count": 23,
   "metadata": {},
   "outputs": [
    {
     "data": {
      "text/plain": [
       "Index(['participant', 'scriptDate', 'trialNo', 'blockType', 'task',\n",
       "       'fixationFrames', 'postFixationFrames', 'targetFrames', 'startTime',\n",
       "       'endTime', 'firstTR', 'blockNumber', 'elapsedTime', 'resp', 'rt', 'iti',\n",
       "       'responseTTL', 'choice', 'overallTrialNum', 'acc', 'creditsEarned',\n",
       "       'letternumber', 'trials', 'switchProportion', 'switches', 'switch',\n",
       "       'question', 'colourCue', 'correctAnswer', 'correctKey'],\n",
       "      dtype='object')"
      ]
     },
     "execution_count": 23,
     "metadata": {},
     "output_type": "execute_result"
    }
   ],
   "source": [
    "switch_df.columns"
   ]
  },
  {
   "cell_type": "markdown",
   "metadata": {},
   "source": [
    "### TR vs First Stim"
   ]
  },
  {
   "cell_type": "code",
   "execution_count": 63,
   "metadata": {},
   "outputs": [
    {
     "data": {
      "text/html": [
       "<div>\n",
       "<style scoped>\n",
       "    .dataframe tbody tr th:only-of-type {\n",
       "        vertical-align: middle;\n",
       "    }\n",
       "\n",
       "    .dataframe tbody tr th {\n",
       "        vertical-align: top;\n",
       "    }\n",
       "\n",
       "    .dataframe thead th {\n",
       "        text-align: right;\n",
       "    }\n",
       "</style>\n",
       "<table border=\"1\" class=\"dataframe\">\n",
       "  <thead>\n",
       "    <tr style=\"text-align: right;\">\n",
       "      <th></th>\n",
       "      <th>firstTR</th>\n",
       "      <th>startTime</th>\n",
       "    </tr>\n",
       "  </thead>\n",
       "  <tbody>\n",
       "    <tr>\n",
       "      <th>0</th>\n",
       "      <td>13.620120</td>\n",
       "      <td>19.625377</td>\n",
       "    </tr>\n",
       "    <tr>\n",
       "      <th>80</th>\n",
       "      <td>11.755669</td>\n",
       "      <td>17.760154</td>\n",
       "    </tr>\n",
       "    <tr>\n",
       "      <th>160</th>\n",
       "      <td>13.386336</td>\n",
       "      <td>19.394699</td>\n",
       "    </tr>\n",
       "    <tr>\n",
       "      <th>240</th>\n",
       "      <td>13.617245</td>\n",
       "      <td>19.623652</td>\n",
       "    </tr>\n",
       "    <tr>\n",
       "      <th>320</th>\n",
       "      <td>12.317405</td>\n",
       "      <td>18.319415</td>\n",
       "    </tr>\n",
       "  </tbody>\n",
       "</table>\n",
       "</div>"
      ],
      "text/plain": [
       "       firstTR  startTime\n",
       "0    13.620120  19.625377\n",
       "80   11.755669  17.760154\n",
       "160  13.386336  19.394699\n",
       "240  13.617245  19.623652\n",
       "320  12.317405  18.319415"
      ]
     },
     "execution_count": 63,
     "metadata": {},
     "output_type": "execute_result"
    }
   ],
   "source": [
    "switch_df.loc[switch_df.trialNo==1, ['firstTR', 'startTime']].head()"
   ]
  },
  {
   "cell_type": "code",
   "execution_count": 55,
   "metadata": {},
   "outputs": [
    {
     "data": {
      "text/plain": [
       "participant              0\n",
       "scriptDate               0\n",
       "trialNo                  0\n",
       "blockType                0\n",
       "task                     0\n",
       "fixationFrames           0\n",
       "postFixationFrames    3840\n",
       "targetFrames             0\n",
       "startTime                0\n",
       "endTime                  0\n",
       "firstTR               3792\n",
       "blockNumber              0\n",
       "elapsedTime           3840\n",
       "resp                   827\n",
       "rt                     827\n",
       "iti                      0\n",
       "responseTTL            827\n",
       "choice                3840\n",
       "overallTrialNum          0\n",
       "acc                      0\n",
       "creditsEarned            0\n",
       "letternumber             0\n",
       "trials                   0\n",
       "switchProportion         0\n",
       "switches                 0\n",
       "switch                   0\n",
       "question                 0\n",
       "colourCue                0\n",
       "correctAnswer            0\n",
       "correctKey               0\n",
       "dtype: int64"
      ]
     },
     "execution_count": 55,
     "metadata": {},
     "output_type": "execute_result"
    }
   ],
   "source": [
    "# quite a few misses (827/3840)\n",
    "switch_df.isnull().sum()"
   ]
  },
  {
   "cell_type": "code",
   "execution_count": 65,
   "metadata": {},
   "outputs": [
    {
     "name": "stdout",
     "output_type": "stream",
     "text": [
      "Start Times\n",
      "[17.227075865692314, 22.325896539383393, 27.425062552829328, 33.52433864492559, 35.623429651295744]\n",
      "Durations\n",
      "[1.100010803067562, 1.1000105470702692, 1.1000105470702728, 1.100014899016962, 1.1000123390476801]\n",
      "ITI Duration\n",
      "[4.0, 4.0, 5.0, 1.0, 4.0]\n"
     ]
    }
   ],
   "source": [
    "participant_num = 102\n",
    "\n",
    "# Start Times\n",
    "print(\"Start Times\")\n",
    "print(list(switch_df.loc[switch_df.participant==participant_num, 'startTime'])[0:5])\n",
    "\n",
    "# Duration\n",
    "print(\"Durations\")\n",
    "print(list(switch_df.loc[switch_df.participant==participant_num, 'endTime'][0:5] - switch_df.loc[switch_df.participant==participant_num, 'startTime'][0:5]))\n",
    "\n",
    "# ITI Duration\n",
    "print(\"ITI Duration\")\n",
    "print(list(switch_df.loc[switch_df.participant==participant_num, 'iti'])[0:5])\n",
    "\n",
    "# ITI Duration\n",
    "print(\"ITI Duration\")\n",
    "print(list(switch_df.loc[switch_df.participant==participant_num, 'iti'])[0:5])\n"
   ]
  },
  {
   "cell_type": "markdown",
   "metadata": {},
   "source": [
    "# To Dos\n",
    "\n",
    "> Need to align TRs with trial data\n",
    "> 1. Start time of each trial\n",
    "> 2. End time of each trial\n",
    "> 3. ITI duration"
   ]
  },
  {
   "cell_type": "code",
   "execution_count": 66,
   "metadata": {},
   "outputs": [],
   "source": [
    "# Load a bold run...count TRs"
   ]
  },
  {
   "cell_type": "code",
   "execution_count": null,
   "metadata": {},
   "outputs": [],
   "source": []
  }
 ],
 "metadata": {
  "kernelspec": {
   "display_name": "Python [conda env:python37_nipype]",
   "language": "python",
   "name": "conda-env-python37_nipype-py"
  },
  "language_info": {
   "codemirror_mode": {
    "name": "ipython",
    "version": 3
   },
   "file_extension": ".py",
   "mimetype": "text/x-python",
   "name": "python",
   "nbconvert_exporter": "python",
   "pygments_lexer": "ipython3",
   "version": "3.7.1"
  },
  "toc-autonumbering": true,
  "toc-showcode": false,
  "toc-showmarkdowntxt": false
 },
 "nbformat": 4,
 "nbformat_minor": 2
}
