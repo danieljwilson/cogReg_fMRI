{
 "cells": [
  {
   "cell_type": "markdown",
   "metadata": {
    "toc-hr-collapsed": false
   },
   "source": [
    "# Setup"
   ]
  },
  {
   "cell_type": "markdown",
   "metadata": {},
   "source": [
    "## Imports"
   ]
  },
  {
   "cell_type": "code",
   "execution_count": 25,
   "metadata": {},
   "outputs": [],
   "source": [
    "# Import Libraries\n",
    "library(tidyverse)\n",
    "library(data.table)\n",
    "library(broom)\n",
    "library(dtplyr)\n",
    "library(lme4)\n",
    "library(lmerTest)\n",
    "library(ggbeeswarm)\n",
    "library(cowplot)\n",
    "library(tibble)\n",
    "\n",
    "# Load helper functions\n",
    "source(\"r_scripts/helper_functions.R\")\n",
    "source(\"https://raw.githubusercontent.com/hauselin/Rcode/master/cleanQuestionnaire.R\")\n",
    "\n",
    "## set universal plot size:\n",
    "options(repr.plot.width=7, repr.plot.height=3.5)\n",
    "\n",
    "# avoids scientific notation\n",
    "options(scipen=999) "
   ]
  },
  {
   "cell_type": "markdown",
   "metadata": {},
   "source": [
    "## Load and manipulate data"
   ]
  },
  {
   "cell_type": "code",
   "execution_count": 26,
   "metadata": {},
   "outputs": [
    {
     "name": "stderr",
     "output_type": "stream",
     "text": [
      "Parsed with column specification:\n",
      "cols(\n",
      "  .default = col_character(),\n",
      "  `What time did you eat the food you indicated in the last question?` = \u001b[34mcol_time(format = \"\")\u001b[39m,\n",
      "  `How difficult was it to make choices during trials when you were asked to RESPOND NATURALLY?` = \u001b[32mcol_double()\u001b[39m,\n",
      "  `How difficult was it to make choices during trials when you were asked to DECREASE YOUR DESIRE?` = \u001b[32mcol_double()\u001b[39m,\n",
      "  `How much did you think about the health of the foods when choosing NATURALLY?` = \u001b[32mcol_double()\u001b[39m,\n",
      "  `How much did you try to decrease your desire for the foods when choosing NATURALLY?` = \u001b[32mcol_double()\u001b[39m,\n",
      "  `How much did you think about the health of the foods when trying to DECREASE DESIRE?` = \u001b[32mcol_double()\u001b[39m,\n",
      "  `How much did you try to reduce your craving for the foods when trying to DECREASE DESIRE?` = \u001b[32mcol_double()\u001b[39m,\n",
      "  `How successful do you think you were in controlling your responses to the food when you were asked to DECREASE DESIRE?` = \u001b[32mcol_double()\u001b[39m,\n",
      "  `1. I tried to think about how UNHEALTHY the foods were.` = \u001b[32mcol_double()\u001b[39m,\n",
      "  `2. I tried to avoid thinking about how hungry I was.` = \u001b[32mcol_double()\u001b[39m,\n",
      "  `3. I tried to change the way I thought about the food.` = \u001b[32mcol_double()\u001b[39m,\n",
      "  `4. I tried not to look at the pictures of the food.` = \u001b[32mcol_double()\u001b[39m,\n",
      "  `5. I tried to think about how HEALTHY the foods were.` = \u001b[32mcol_double()\u001b[39m,\n",
      "  `6. I didn't change how much I wanted the food, but I changed which foods I chose anyway.` = \u001b[32mcol_double()\u001b[39m,\n",
      "  `7. I tried to decrease my desire for the foods.` = \u001b[32mcol_double()\u001b[39m,\n",
      "  `8. I tried to avoid thinking about how tasty the foods were.` = \u001b[32mcol_double()\u001b[39m,\n",
      "  `On a scale of 1 to 8, where 1 means no restraint in eating (eating whatever you want, whenever you want it) and 8 means total restraint (constantly limiting food intake and never “giving in”), what number would you give yourself?` = \u001b[32mcol_double()\u001b[39m,\n",
      "  `How difficult was it to make choices during trials when you were asked to FOCUS ON HEALTH?` = \u001b[32mcol_double()\u001b[39m,\n",
      "  `How much did you think about the health of the foods when trying to FOCUS ON HEALTH?` = \u001b[32mcol_double()\u001b[39m,\n",
      "  `How much did you try to reduce your craving for the foods when trying to FOCUS ON HEALTH?` = \u001b[32mcol_double()\u001b[39m\n",
      "  # ... with 9 more columns\n",
      ")\n",
      "See spec(...) for full column specifications.\n"
     ]
    }
   ],
   "source": [
    "# Read in data\n",
    "df = as_tibble(read_csv(\"data/questionnaires.csv\"), stringsAsFactors = FALSE)\n",
    "# Select fMRI study subjects\n",
    "fmri_sub <- grepl(\"FRMRI*\", df[, 2][[1]])\n",
    "df = df[fmri_sub, ]\n",
    "\n",
    "# Rename Columns\n",
    "names(df)[1:13] = c(\"demo_time\",\n",
    "                    \"subject\",\n",
    "                    \"demo_gender\",\n",
    "                    \"demo_race\",\n",
    "                    \"demo_age\",\n",
    "                    \"demo_weight\",\n",
    "                    \"demo_height\",\n",
    "                    \"demo_yrs_canada\",\n",
    "                    \"demo_diet\",\n",
    "                    \"demo_diet_detail\",\n",
    "                    \"demo_familiar\",\n",
    "                    \"demo_previous_food\",\n",
    "                    \"demo_previous_food_time\")\n",
    "\n",
    "# Just want id number\n",
    "df <- df %>%\n",
    "  mutate(\n",
    "    subject = readr::parse_number(subject)\n",
    "  )\n",
    "  \n",
    "# rename condition effects\n",
    "cols = c(14,16,17,15,18,19,20,114,115,116,117)\n",
    "colnames(df)[cols] <- c(paste0(\"ce_\", 1:11))\n",
    "\n",
    "# rename strategy questions\n",
    "cols = c(21:28, 118:125)\n",
    "colnames(df)[cols] <- c(paste0(\"s_\", 1:16))\n",
    "\n",
    "# rename Three Factor Eating Questionnaire\n",
    "cols = c(29:46)\n",
    "colnames(df)[cols] <- c(paste0(\"tfeq_\", 1:18))\n",
    "\n",
    "# rename rapid food screener\n",
    "    # fruits and veg\n",
    "cols = c(47:56)\n",
    "colnames(df)[cols] <- c(paste0(\"rfs_fv_\", 1:10))\n",
    "\n",
    "    # fat\n",
    "cols = c(57:73)\n",
    "colnames(df)[cols] <- c(paste0(\"rfs_f_\", 1:17))\n",
    "\n",
    "# BIS 11\n",
    "cols = c(74:103)\n",
    "colnames(df)[cols] <- c(paste0(\"bis_\", 1:30))\n",
    "\n",
    "# Perceived Stress Scale\n",
    "cols = c(104:113)\n",
    "colnames(df)[cols] <- c(paste0(\"pss_\", 1:10))\n",
    "\n",
    "# reorder\n",
    "df =df[,order(colnames(df))]"
   ]
  },
  {
   "cell_type": "code",
   "execution_count": 27,
   "metadata": {},
   "outputs": [],
   "source": [
    "# want to look only at the subjects that were kept\n",
    "good_subjects = c(101:104, 106:112, 114, 116, 118:121, 123:126, 129:137, 139:140, 142:148, 150, 152:158, 162:164)\n",
    "# remove \"bad\" subjects\n",
    "df_good = df %>%\n",
    "    filter(subject %in% good_subjects)"
   ]
  },
  {
   "cell_type": "code",
   "execution_count": 28,
   "metadata": {},
   "outputs": [],
   "source": [
    "# Make a copy of the dataframe\n",
    "df_good_copy <- data.frame(df_good)"
   ]
  },
  {
   "cell_type": "code",
   "execution_count": 29,
   "metadata": {},
   "outputs": [],
   "source": [
    "# Create vectors containing columns for each scale\n",
    "bis_cols = NULL\n",
    "pss_cols = NULL\n",
    "rfs_cols = NULL\n",
    "tfeq_cols = NULL\n",
    "\n",
    "# Match item name to string subset for each scale\n",
    "for (name in names(df_good_copy)){\n",
    "    if (grepl(\"bis_\", name, fixed = TRUE)){\n",
    "        bis_cols <- append(bis_cols, name)\n",
    "    } else if (grepl(\"pss_\", name, fixed = TRUE)){\n",
    "        pss_cols <- append(pss_cols, name)\n",
    "    } else if (grepl(\"rfs_\", name, fixed = TRUE)){\n",
    "        rfs_cols <- append(rfs_cols, name)\n",
    "    } else if (grepl(\"tfeq_\", name, fixed = TRUE)){\n",
    "        tfeq_cols <- append(tfeq_cols, name)\n",
    "    }\n",
    "}"
   ]
  },
  {
   "cell_type": "code",
   "execution_count": 30,
   "metadata": {},
   "outputs": [
    {
     "name": "stderr",
     "output_type": "stream",
     "text": [
      "Warning message in recode.numeric(tfeq_18, `Definitely false` = 1, `Mostly false` = 2, :\n",
      "“NAs introduced by coercion”"
     ]
    }
   ],
   "source": [
    "# Recode values in bis columns\n",
    "df_good_copy <- df_good_copy %>%\n",
    "mutate_at(bis_cols, funs(recode(., \"Rarely\" = 1,\n",
    "                                \"Occasionally\" = 2,\n",
    "                                \"Often\" = 3,\n",
    "                                \"Almost always/Always\" = 4,\n",
    "                                .default = NaN)))\n",
    "\n",
    "# Recode values in pss columns\n",
    "df_good_copy <- df_good_copy %>%\n",
    "mutate_at(pss_cols, funs(recode(., \"Never\" = 0,\n",
    "                                \"Almost Never\" = 1,\n",
    "                                \"Sometimes\" = 2,\n",
    "                                \"Fairly Often\" = 3,\n",
    "                                \"Very Often\" = 4,\n",
    "                                .default = NaN)))\n",
    "\n",
    "# Recode values in rfs columns\n",
    "df_good_copy <- df_good_copy %>%\n",
    "mutate_at(rfs_cols, funs(recode(., \"0: Less than once/week\" = 0,\n",
    "                                \"1: Once/week\" = 1,\n",
    "                                \"2: 2-3 times/week\" = 2,\n",
    "                                \"3: 4-6 times/week\" = 3,\n",
    "                                \"4: One time/day\" = 4,\n",
    "                                \"5: 2+ times/day\" = 5,\n",
    "                                .default = NaN)))\n",
    "\n",
    "# Recode values in tfeq columns\n",
    "df_good_copy <- df_good_copy %>%\n",
    "mutate_at(tfeq_cols, funs(recode(., \"Definitely false\" = 1,\n",
    "                                 \"Mostly false\" = 2,\n",
    "                                 \"Mostly true\" = 3,\n",
    "                                 \"Definitely true\" = 4,\n",
    "                                 \"Only at meal times\" = 1,\n",
    "                                 \"Sometimes between meals\" = 2,\n",
    "                                 \"Often between meals\" = 3,\n",
    "                                 \"Almost always\" = 4,\n",
    "                                 \"Almost never\" = 1,\n",
    "                                 \"Seldom\" = 2,\n",
    "                                 \"Usually\" = 3,\n",
    "                                 \"Unlikely\" = 1,\n",
    "                                 \"Slightly likely\" = 2,\n",
    "                                 \"Moderately likely\" = 3,\n",
    "                                 \"Very likely\" = 4,\n",
    "                                 \"Never\" = 1,\n",
    "                                 \"Rarely\" = 2,\n",
    "                                 \"Sometimes\" = 3,\n",
    "                                 \"At least once a week\" = 4,\n",
    "                                 \"1\" = 1, \"2\" = 1,\n",
    "                                 \"3\" = 2, \"4\" = 2,\n",
    "                                 \"5\" = 3, \"6\" = 3,\n",
    "                                 \"7\" = 4, \"8\" = 4,\n",
    "                                 .default = NaN)))"
   ]
  },
  {
   "cell_type": "code",
   "execution_count": 31,
   "metadata": {},
   "outputs": [],
   "source": [
    "# Pull data from each questionnaire\n",
    "bis_data <- select(df_good_copy, subject, bis_cols) %>% tbl_df() %>% mutate_all(as.numeric) %>% tbl_dt()\n",
    "pss_data <- select(df_good_copy, subject, pss_cols) %>% tbl_df() %>% mutate_all(as.numeric) %>% tbl_dt()\n",
    "rfs_data <- select(df_good_copy, subject, rfs_cols) %>% tbl_df() %>% mutate_all(as.numeric) %>% tbl_dt()\n",
    "tfeq_data <- select(df_good_copy, subject, tfeq_cols) %>% tbl_df() %>% mutate_all(as.numeric) %>% tbl_dt()\n",
    "\n",
    "scales <- list()\n",
    "scalesWideRaw <- list()"
   ]
  },
  {
   "cell_type": "code",
   "execution_count": 32,
   "metadata": {},
   "outputs": [],
   "source": [
    "# Set indices for subscales\n",
    "\n",
    "# bis\n",
    "bis_cols_NS = c(2,5,6,7,29,30) # NonPlanning/Self-Control; bis_1,7,8,12,13,14\n",
    "bis_cols_MM = c(10,12,13,16,19,24,26) # Motor/Motor; bis_2,3,4,17,19,22,25\n",
    "bis_cols_AA = c(4,14,22,27,31) # Attentional/Attention; bis_5,9,11,20,28\n",
    "bis_cols_AC = c(18,20,28) # Attentional/Cognitive Instability; bis_6,24,26\n",
    "bis_cols_NC = c(3,8,11,21,23) # NonPlanning/Cognitive Complexity; bis_10,15,18,27,29\n",
    "bis_cols_MP = c(9,15,17,25) # Motor/Perseverance; bis_16,21,23,30\n",
    "\n",
    "# rfs\n",
    "rfs_cols_FV = c(19:28) # Fruits and Vegetables; rfs_fv_1-10\n",
    "rfs_cols_F = c(2:18) # Fat; rfs_f_1-17\n",
    "\n",
    "# tfeq\n",
    "tfeq_cols_UE = c(2,6,7,10,14,15,17,18,19) # Uncontrolled Eating Scale; tfeq_1,4,5,7,8,9,13,14,17\n",
    "tfeq_cols_CR = c(4,5,8,9,11,12) # Cognitive Restraint Scale; tfeq_2,11,12,15,16,18\n",
    "tfeq_cols_EE = c(3,13,16) # Emotional Eating Scale; tfeq_3,6,10"
   ]
  },
  {
   "cell_type": "code",
   "execution_count": 33,
   "metadata": {},
   "outputs": [],
   "source": [
    "# Exclude subject data for scale if > 1 NA in at least one subscale\n",
    "# If no subscales present, exclude if > 1 NA in that scale\n",
    "\n",
    "bis_exclude = NULL\n",
    "pss_exclude = NULL\n",
    "rfs_exclude = NULL\n",
    "tfeq_exclude = NULL\n",
    "\n",
    "# bis data\n",
    "for (row in 1:nrow(bis_data)){\n",
    "    if (sum(is.na(bis_data[row, ..bis_cols_NS])) > 1 |\n",
    "        sum(is.na(bis_data[row, ..bis_cols_MM])) > 1 |\n",
    "        sum(is.na(bis_data[row, ..bis_cols_AA])) > 1 |\n",
    "        sum(is.na(bis_data[row, ..bis_cols_AC])) > 1 |\n",
    "        sum(is.na(bis_data[row, ..bis_cols_NC])) > 1 |\n",
    "        sum(is.na(bis_data[row, ..bis_cols_MP])) > 1){\n",
    "        bis_exclude <- append(bis_exclude, row)\n",
    "    }\n",
    "}\n",
    "if (!is.null(bis_exclude)){\n",
    "    bis_data <- bis_data[-bis_exclude]\n",
    "}\n",
    "\n",
    "# pss data\n",
    "for (row in 1:nrow(pss_data)){\n",
    "    if (sum(is.na(pss_data[row, ])) > 1){\n",
    "        pss_exclude <- append(pss_exclude, row)\n",
    "    }\n",
    "}\n",
    "if (!is.null(pss_exclude)){\n",
    "    pss_data <- pss_data[-pss_exclude]\n",
    "}\n",
    "\n",
    "# rfs data\n",
    "for (row in 1:nrow(rfs_data)){\n",
    "    if (sum(is.na(rfs_data[row, ..rfs_cols_FV])) > 1 |\n",
    "        sum(is.na(rfs_data[row, ..rfs_cols_F])) > 1){\n",
    "        rfs_exclude <- append(rfs_exclude, row)\n",
    "    }\n",
    "}\n",
    "if (!is.null(rfs_exclude)){\n",
    "    rfs_data <- rfs_data[-rfs_exclude]\n",
    "}\n",
    "\n",
    "# tfeq data\n",
    "for (row in 1:nrow(tfeq_data)){\n",
    "    if (sum(is.na(tfeq_data[row, ..tfeq_cols_UE])) > 1 |\n",
    "        sum(is.na(tfeq_data[row, ..tfeq_cols_CR])) > 1 |\n",
    "        sum(is.na(tfeq_data[row, ..tfeq_cols_EE])) > 1){\n",
    "        tfeq_exclude <- append(tfeq_exclude, row)\n",
    "    }\n",
    "}\n",
    "if (!is.null(tfeq_exclude)){\n",
    "    tfeq_data <- tfeq_data[-tfeq_exclude]\n",
    "}"
   ]
  },
  {
   "cell_type": "code",
   "execution_count": 34,
   "metadata": {},
   "outputs": [],
   "source": [
    "# Reverse-score items through hardcoded calculation\n",
    "\n",
    "# bis items scored on scale of 1 to 4; 5 - 'score' gives reverse \n",
    "bis_reverse = c(2,3,5,6,8,14,23,25,29,30,31) # bis_1,7,8,9,10,12,13,15,20,29,30\n",
    "bis_data[, bis_reverse] <- 5 - bis_data[, ..bis_reverse]\n",
    "\n",
    "# pss items scored on scale of 0 to 4; 4 - 'score' gives reverse\n",
    "pss_reverse = c(6,7,9,10) # pss_4,5,7,8\n",
    "pss_data[, pss_reverse] <- 4 - pss_data[, ..pss_reverse]"
   ]
  },
  {
   "cell_type": "markdown",
   "metadata": {},
   "source": [
    "## Questionnaire Key"
   ]
  },
  {
   "cell_type": "markdown",
   "metadata": {},
   "source": [
    "---\n",
    "[Coding Google Sheet](https://docs.google.com/spreadsheets/d/1M_YAg-ALHN3SOx1DGVZ9EWd8rX8-QJuatQehSt9CCms/edit?usp=sharing)\n",
    "\n",
    "---"
   ]
  },
  {
   "cell_type": "markdown",
   "metadata": {},
   "source": [
    "# Demographics"
   ]
  },
  {
   "cell_type": "code",
   "execution_count": 7,
   "metadata": {},
   "outputs": [
    {
     "data": {
      "text/plain": [
       "\n",
       "Female   Male \n",
       "    34     16 "
      ]
     },
     "metadata": {},
     "output_type": "display_data"
    },
    {
     "data": {
      "text/html": [
       "<table>\n",
       "<caption>A tibble: 1 × 4</caption>\n",
       "<thead>\n",
       "\t<tr><th scope=col>age</th><th scope=col>ageSD</th><th scope=col>ageMin</th><th scope=col>ageMax</th></tr>\n",
       "\t<tr><th scope=col>&lt;dbl&gt;</th><th scope=col>&lt;dbl&gt;</th><th scope=col>&lt;dbl&gt;</th><th scope=col>&lt;dbl&gt;</th></tr>\n",
       "</thead>\n",
       "<tbody>\n",
       "\t<tr><td>23.1</td><td>4.258245</td><td>18</td><td>38</td></tr>\n",
       "</tbody>\n",
       "</table>\n"
      ],
      "text/latex": [
       "A tibble: 1 × 4\n",
       "\\begin{tabular}{r|llll}\n",
       " age & ageSD & ageMin & ageMax\\\\\n",
       " <dbl> & <dbl> & <dbl> & <dbl>\\\\\n",
       "\\hline\n",
       "\t 23.1 & 4.258245 & 18 & 38\\\\\n",
       "\\end{tabular}\n"
      ],
      "text/markdown": [
       "\n",
       "A tibble: 1 × 4\n",
       "\n",
       "| age &lt;dbl&gt; | ageSD &lt;dbl&gt; | ageMin &lt;dbl&gt; | ageMax &lt;dbl&gt; |\n",
       "|---|---|---|---|\n",
       "| 23.1 | 4.258245 | 18 | 38 |\n",
       "\n"
      ],
      "text/plain": [
       "  age  ageSD    ageMin ageMax\n",
       "1 23.1 4.258245 18     38    "
      ]
     },
     "metadata": {},
     "output_type": "display_data"
    }
   ],
   "source": [
    "table(df_good$demo_gender)\n",
    "tibble(age = mean(as.numeric(df_good$demo_age), na.rm = T), \n",
    "       ageSD = sd(as.numeric(df_good$demo_age), na.rm = T),\n",
    "       ageMin = min(as.numeric(df_good$demo_age), na.rm = T),\n",
    "       ageMax = max(as.numeric(df_good$demo_age), na.rm = T))"
   ]
  }
 ],
 "metadata": {
  "kernelspec": {
   "display_name": "R",
   "language": "R",
   "name": "ir"
  },
  "language_info": {
   "codemirror_mode": "r",
   "file_extension": ".r",
   "mimetype": "text/x-r-source",
   "name": "R",
   "pygments_lexer": "r",
   "version": "3.3.3"
  },
  "toc-autonumbering": true,
  "toc-showcode": false,
  "toc-showmarkdowntxt": false
 },
 "nbformat": 4,
 "nbformat_minor": 2
}
