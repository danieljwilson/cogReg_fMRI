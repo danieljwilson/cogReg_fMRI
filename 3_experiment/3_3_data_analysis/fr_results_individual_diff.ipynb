{
 "cells": [
  {
   "cell_type": "markdown",
   "metadata": {
    "toc-hr-collapsed": false
   },
   "source": [
    "# Setup"
   ]
  },
  {
   "cell_type": "markdown",
   "metadata": {},
   "source": [
    "## Imports"
   ]
  },
  {
   "cell_type": "code",
   "execution_count": 71,
   "metadata": {},
   "outputs": [],
   "source": [
    "# Import Libraries\n",
    "library(tidyverse)\n",
    "library(data.table)\n",
    "library(broom)\n",
    "library(dtplyr)\n",
    "library(lme4)\n",
    "library(lmerTest)\n",
    "library(ggbeeswarm)\n",
    "library(cowplot)\n",
    "library(tibble)\n",
    "\n",
    "# Load helper functions\n",
    "source(\"r_scripts/helper_functions.R\")\n",
    "source(\"https://raw.githubusercontent.com/hauselin/Rcode/master/cleanQuestionnaire.R\")\n",
    "\n",
    "## set universal plot size:\n",
    "options(repr.plot.width=7, repr.plot.height=3.5)\n",
    "\n",
    "# avoids scientific notation\n",
    "options(scipen=999) "
   ]
  },
  {
   "cell_type": "markdown",
   "metadata": {},
   "source": [
    "## Load and manipulate data"
   ]
  },
  {
   "cell_type": "code",
   "execution_count": 72,
   "metadata": {},
   "outputs": [
    {
     "name": "stderr",
     "output_type": "stream",
     "text": [
      "Parsed with column specification:\n",
      "cols(\n",
      "  .default = col_character(),\n",
      "  `What time did you eat the food you indicated in the last question?` = \u001b[34mcol_time(format = \"\")\u001b[39m,\n",
      "  `How difficult was it to make choices during trials when you were asked to RESPOND NATURALLY?` = \u001b[32mcol_double()\u001b[39m,\n",
      "  `How difficult was it to make choices during trials when you were asked to DECREASE YOUR DESIRE?` = \u001b[32mcol_double()\u001b[39m,\n",
      "  `How much did you think about the health of the foods when choosing NATURALLY?` = \u001b[32mcol_double()\u001b[39m,\n",
      "  `How much did you try to decrease your desire for the foods when choosing NATURALLY?` = \u001b[32mcol_double()\u001b[39m,\n",
      "  `How much did you think about the health of the foods when trying to DECREASE DESIRE?` = \u001b[32mcol_double()\u001b[39m,\n",
      "  `How much did you try to reduce your craving for the foods when trying to DECREASE DESIRE?` = \u001b[32mcol_double()\u001b[39m,\n",
      "  `How successful do you think you were in controlling your responses to the food when you were asked to DECREASE DESIRE?` = \u001b[32mcol_double()\u001b[39m,\n",
      "  `1. I tried to think about how UNHEALTHY the foods were.` = \u001b[32mcol_double()\u001b[39m,\n",
      "  `2. I tried to avoid thinking about how hungry I was.` = \u001b[32mcol_double()\u001b[39m,\n",
      "  `3. I tried to change the way I thought about the food.` = \u001b[32mcol_double()\u001b[39m,\n",
      "  `4. I tried not to look at the pictures of the food.` = \u001b[32mcol_double()\u001b[39m,\n",
      "  `5. I tried to think about how HEALTHY the foods were.` = \u001b[32mcol_double()\u001b[39m,\n",
      "  `6. I didn't change how much I wanted the food, but I changed which foods I chose anyway.` = \u001b[32mcol_double()\u001b[39m,\n",
      "  `7. I tried to decrease my desire for the foods.` = \u001b[32mcol_double()\u001b[39m,\n",
      "  `8. I tried to avoid thinking about how tasty the foods were.` = \u001b[32mcol_double()\u001b[39m,\n",
      "  `On a scale of 1 to 8, where 1 means no restraint in eating (eating whatever you want, whenever you want it) and 8 means total restraint (constantly limiting food intake and never “giving in”), what number would you give yourself?` = \u001b[32mcol_double()\u001b[39m,\n",
      "  `How difficult was it to make choices during trials when you were asked to FOCUS ON HEALTH?` = \u001b[32mcol_double()\u001b[39m,\n",
      "  `How much did you think about the health of the foods when trying to FOCUS ON HEALTH?` = \u001b[32mcol_double()\u001b[39m,\n",
      "  `How much did you try to reduce your craving for the foods when trying to FOCUS ON HEALTH?` = \u001b[32mcol_double()\u001b[39m\n",
      "  # ... with 9 more columns\n",
      ")\n",
      "See spec(...) for full column specifications.\n"
     ]
    }
   ],
   "source": [
    "# Read in data\n",
    "df = as_tibble(read_csv(\"data/questionnaires.csv\"), stringsAsFactors = FALSE)\n",
    "# Select fMRI study subjects\n",
    "fmri_sub <- grepl(\"FRMRI*\", df[, 2][[1]])\n",
    "df = df[fmri_sub, ]\n",
    "\n",
    "# Rename Columns\n",
    "names(df)[1:13] = c(\"demo_time\",\n",
    "                    \"subject\",\n",
    "                    \"demo_gender\",\n",
    "                    \"demo_race\",\n",
    "                    \"demo_age\",\n",
    "                    \"demo_weight\",\n",
    "                    \"demo_height\",\n",
    "                    \"demo_yrs_canada\",\n",
    "                    \"demo_diet\",\n",
    "                    \"demo_diet_detail\",\n",
    "                    \"demo_familiar\",\n",
    "                    \"demo_previous_food\",\n",
    "                    \"demo_previous_food_time\")\n",
    "\n",
    "# Just want id number\n",
    "df <- df %>%\n",
    "  mutate(\n",
    "    subject = readr::parse_number(subject)\n",
    "  )\n",
    "  \n",
    "# rename condition effects\n",
    "cols = c(14,16,17,15,18,19,20,114,115,116,117)\n",
    "colnames(df)[cols] <- c(paste0(\"ce_\", 1:11))\n",
    "\n",
    "# rename strategy questions\n",
    "cols = c(21:28, 118:125)\n",
    "colnames(df)[cols] <- c(paste0(\"s_\", 1:16))\n",
    "\n",
    "# rename Three Factor Eating Questionnaire\n",
    "cols = c(29:46)\n",
    "colnames(df)[cols] <- c(paste0(\"tfeq_\", 1:18))\n",
    "\n",
    "# rename rapid food screener\n",
    "    # fruits and veg\n",
    "cols = c(47:56)\n",
    "colnames(df)[cols] <- c(paste0(\"rfs_fv_\", 1:10))\n",
    "\n",
    "    # fat\n",
    "cols = c(57:73)\n",
    "colnames(df)[cols] <- c(paste0(\"rfs_f_\", 1:17))\n",
    "\n",
    "# BIS 11\n",
    "cols = c(74:103)\n",
    "colnames(df)[cols] <- c(paste0(\"bis_\", 1:30))\n",
    "\n",
    "# Perceived Stress Scale\n",
    "cols = c(104:113)\n",
    "colnames(df)[cols] <- c(paste0(\"pss_\", 1:10))\n",
    "\n",
    "# reorder\n",
    "df =df[,order(colnames(df))]"
   ]
  },
  {
   "cell_type": "code",
   "execution_count": 73,
   "metadata": {},
   "outputs": [],
   "source": [
    "# want to look only at the subjects that were kept\n",
    "good_subjects = c(101:104, 106:112, 114, 116, 118:121, 123:126, 129:137, 139:140, 142:148, 150, 152:158, 162:164)\n",
    "# remove \"bad\" subjects\n",
    "df_good = df %>%\n",
    "    filter(subject %in% good_subjects)"
   ]
  },
  {
   "cell_type": "code",
   "execution_count": 74,
   "metadata": {},
   "outputs": [],
   "source": [
    "# Make a copy of the dataframe\n",
    "df_good_copy <- data.frame(df_good)"
   ]
  },
  {
   "cell_type": "code",
   "execution_count": 75,
   "metadata": {},
   "outputs": [],
   "source": [
    "# Create vectors containing columns for each scale\n",
    "bis_cols = NULL\n",
    "pss_cols = NULL\n",
    "rfs_cols = NULL\n",
    "tfeq_cols = NULL\n",
    "\n",
    "# Match item name to string subset for each scale\n",
    "for (name in names(df_good_copy)){\n",
    "    if (grepl(\"bis_\", name, fixed = TRUE)){\n",
    "        bis_cols <- append(bis_cols, name)\n",
    "    } else if (grepl(\"pss_\", name, fixed = TRUE)){\n",
    "        pss_cols <- append(pss_cols, name)\n",
    "    } else if (grepl(\"rfs_\", name, fixed = TRUE)){\n",
    "        rfs_cols <- append(rfs_cols, name)\n",
    "    } else if (grepl(\"tfeq_\", name, fixed = TRUE)){\n",
    "        tfeq_cols <- append(tfeq_cols, name)\n",
    "    }\n",
    "}"
   ]
  },
  {
   "cell_type": "code",
   "execution_count": 76,
   "metadata": {},
   "outputs": [
    {
     "name": "stderr",
     "output_type": "stream",
     "text": [
      "Warning message in recode.numeric(tfeq_18, `Definitely false` = 1, `Mostly false` = 2, :\n",
      "“NAs introduced by coercion”"
     ]
    }
   ],
   "source": [
    "# Recode values in bis columns\n",
    "df_good_copy <- df_good_copy %>%\n",
    "mutate_at(bis_cols, funs(recode(., \"Rarely\" = 1,\n",
    "                                \"Occasionally\" = 2,\n",
    "                                \"Often\" = 3,\n",
    "                                \"Almost always/Always\" = 4,\n",
    "                                .default = NaN)))\n",
    "\n",
    "# Recode values in pss columns\n",
    "df_good_copy <- df_good_copy %>%\n",
    "mutate_at(pss_cols, funs(recode(., \"Never\" = 0,\n",
    "                                \"Almost Never\" = 1,\n",
    "                                \"Sometimes\" = 2,\n",
    "                                \"Fairly Often\" = 3,\n",
    "                                \"Very Often\" = 4,\n",
    "                                .default = NaN)))\n",
    "\n",
    "# Recode values in rfs columns\n",
    "df_good_copy <- df_good_copy %>%\n",
    "mutate_at(rfs_cols, funs(recode(., \"0: Less than once/week\" = 0,\n",
    "                                \"1: Once/week\" = 1,\n",
    "                                \"2: 2-3 times/week\" = 2,\n",
    "                                \"3: 4-6 times/week\" = 3,\n",
    "                                \"4: One time/day\" = 4,\n",
    "                                \"5: 2+ times/day\" = 5,\n",
    "                                .default = NaN)))\n",
    "\n",
    "# Recode values in tfeq columns\n",
    "df_good_copy <- df_good_copy %>%\n",
    "mutate_at(tfeq_cols, funs(recode(., \"Definitely false\" = 1,\n",
    "                                 \"Mostly false\" = 2,\n",
    "                                 \"Mostly true\" = 3,\n",
    "                                 \"Definitely true\" = 4,\n",
    "                                 \"Only at meal times\" = 1,\n",
    "                                 \"Sometimes between meals\" = 2,\n",
    "                                 \"Often between meals\" = 3,\n",
    "                                 \"Almost always\" = 4,\n",
    "                                 \"Almost never\" = 1,\n",
    "                                 \"Seldom\" = 2,\n",
    "                                 \"Usually\" = 3,\n",
    "                                 \"Unlikely\" = 1,\n",
    "                                 \"Slightly likely\" = 2,\n",
    "                                 \"Moderately likely\" = 3,\n",
    "                                 \"Very likely\" = 4,\n",
    "                                 \"Never\" = 1,\n",
    "                                 \"Rarely\" = 2,\n",
    "                                 \"Sometimes\" = 3,\n",
    "                                 \"At least once a week\" = 4,\n",
    "                                 \"1\" = 1, \"2\" = 1,\n",
    "                                 \"3\" = 2, \"4\" = 2,\n",
    "                                 \"5\" = 3, \"6\" = 3,\n",
    "                                 \"7\" = 4, \"8\" = 4,\n",
    "                                 .default = NaN)))"
   ]
  },
  {
   "cell_type": "code",
   "execution_count": 77,
   "metadata": {},
   "outputs": [],
   "source": [
    "# Pull data from each questionnaire\n",
    "bis_data <- select(df_good_copy, subject, bis_cols) %>% tbl_df() %>% mutate_all(as.numeric) %>% tbl_dt()\n",
    "pss_data <- select(df_good_copy, subject, pss_cols) %>% tbl_df() %>% mutate_all(as.numeric) %>% tbl_dt()\n",
    "rfs_data <- select(df_good_copy, subject, rfs_cols) %>% tbl_df() %>% mutate_all(as.numeric) %>% tbl_dt()\n",
    "tfeq_data <- select(df_good_copy, subject, tfeq_cols) %>% tbl_df() %>% mutate_all(as.numeric) %>% tbl_dt()\n",
    "\n",
    "scales <- list()\n",
    "scalesWideRaw <- list()"
   ]
  },
  {
   "cell_type": "code",
   "execution_count": 78,
   "metadata": {},
   "outputs": [],
   "source": [
    "# Set indices for subscales\n",
    "\n",
    "# bis\n",
    "bis_cols_NS = c(2,5,6,7,29,30) # NonPlanning/Self-Control; bis_1,7,8,12,13,14\n",
    "bis_cols_MM = c(10,12,13,16,19,24,26) # Motor/Motor; bis_2,3,4,17,19,22,25\n",
    "bis_cols_AA = c(4,14,22,27,31) # Attentional/Attention; bis_5,9,11,20,28\n",
    "bis_cols_AC = c(18,20,28) # Attentional/Cognitive Instability; bis_6,24,26\n",
    "bis_cols_NC = c(3,8,11,21,23) # NonPlanning/Cognitive Complexity; bis_10,15,18,27,29\n",
    "bis_cols_MP = c(9,15,17,25) # Motor/Perseverance; bis_16,21,23,30\n",
    "\n",
    "# rfs\n",
    "rfs_cols_FV = c(19:28) # Fruits and Vegetables; rfs_fv_1-10\n",
    "rfs_cols_F = c(2:18) # Fat; rfs_f_1-17\n",
    "\n",
    "# tfeq\n",
    "tfeq_cols_UE = c(2,6,7,10,14,15,17,18,19) # Uncontrolled Eating Scale; tfeq_1,4,5,7,8,9,13,14,17\n",
    "tfeq_cols_CR = c(4,5,8,9,11,12) # Cognitive Restraint Scale; tfeq_2,11,12,15,16,18\n",
    "tfeq_cols_EE = c(3,13,16) # Emotional Eating Scale; tfeq_3,6,10"
   ]
  },
  {
   "cell_type": "code",
   "execution_count": 79,
   "metadata": {},
   "outputs": [],
   "source": [
    "# Exclude subject data for scale if > 1 NA in at least one subscale\n",
    "# If no subscales present, exclude if > 1 NA in that scale\n",
    "\n",
    "bis_exclude = NULL\n",
    "pss_exclude = NULL\n",
    "rfs_exclude = NULL\n",
    "tfeq_exclude = NULL\n",
    "\n",
    "# bis data\n",
    "for (row in 1:nrow(bis_data)){\n",
    "    if (sum(is.na(bis_data[row, ..bis_cols_NS])) > 1 |\n",
    "        sum(is.na(bis_data[row, ..bis_cols_MM])) > 1 |\n",
    "        sum(is.na(bis_data[row, ..bis_cols_AA])) > 1 |\n",
    "        sum(is.na(bis_data[row, ..bis_cols_AC])) > 1 |\n",
    "        sum(is.na(bis_data[row, ..bis_cols_NC])) > 1 |\n",
    "        sum(is.na(bis_data[row, ..bis_cols_MP])) > 1){\n",
    "        bis_exclude <- append(bis_exclude, row)\n",
    "    }\n",
    "}\n",
    "if (!is.null(bis_exclude)){\n",
    "    bis_data <- bis_data[-bis_exclude]\n",
    "}\n",
    "\n",
    "# pss data\n",
    "for (row in 1:nrow(pss_data)){\n",
    "    if (sum(is.na(pss_data[row, ])) > 1){\n",
    "        pss_exclude <- append(pss_exclude, row)\n",
    "    }\n",
    "}\n",
    "if (!is.null(pss_exclude)){\n",
    "    pss_data <- pss_data[-pss_exclude]\n",
    "}\n",
    "\n",
    "# rfs data\n",
    "for (row in 1:nrow(rfs_data)){\n",
    "    if (sum(is.na(rfs_data[row, ..rfs_cols_FV])) > 1 |\n",
    "        sum(is.na(rfs_data[row, ..rfs_cols_F])) > 1){\n",
    "        rfs_exclude <- append(rfs_exclude, row)\n",
    "    }\n",
    "}\n",
    "if (!is.null(rfs_exclude)){\n",
    "    rfs_data <- rfs_data[-rfs_exclude]\n",
    "}\n",
    "\n",
    "# tfeq data\n",
    "for (row in 1:nrow(tfeq_data)){\n",
    "    if (sum(is.na(tfeq_data[row, ..tfeq_cols_UE])) > 1 |\n",
    "        sum(is.na(tfeq_data[row, ..tfeq_cols_CR])) > 1 |\n",
    "        sum(is.na(tfeq_data[row, ..tfeq_cols_EE])) > 1){\n",
    "        tfeq_exclude <- append(tfeq_exclude, row)\n",
    "    }\n",
    "}\n",
    "if (!is.null(tfeq_exclude)){\n",
    "    tfeq_data <- tfeq_data[-tfeq_exclude]\n",
    "}"
   ]
  },
  {
   "cell_type": "code",
   "execution_count": 80,
   "metadata": {},
   "outputs": [],
   "source": [
    "# Reverse-score items through hardcoded calculation\n",
    "\n",
    "# bis items scored on scale of 1 to 4; 5 - 'score' gives reverse \n",
    "bis_reverse = c(2,3,5,6,8,14,23,25,29,30,31) # bis_1,7,8,9,10,12,13,15,20,29,30\n",
    "bis_data[, bis_reverse] <- 5 - bis_data[, ..bis_reverse]\n",
    "\n",
    "# pss items scored on scale of 0 to 4; 4 - 'score' gives reverse\n",
    "pss_reverse = c(6,7,9,10) # pss_4,5,7,8\n",
    "pss_data[, pss_reverse] <- 4 - pss_data[, ..pss_reverse]"
   ]
  },
  {
   "cell_type": "code",
   "execution_count": 81,
   "metadata": {},
   "outputs": [],
   "source": [
    "# Calculate mean of subject scores per subscale\n",
    "\n",
    "# initialize bis subscale means\n",
    "bis_mean_NS = NULL # NonPlanning/Self-Control\n",
    "bis_mean_MM = NULL # Motor/Motor\n",
    "bis_mean_AA = NULL # Attentional/Attention\n",
    "bis_mean_AC = NULL # Attentional/Cognitive Instability\n",
    "bis_mean_NC = NULL # NonPlanning/Cognitive Complexity\n",
    "bis_mean_MP = NULL # Motor/Perseverance\n",
    "\n",
    "# create df of subject means for each bis subscale\n",
    "bis_subject_means <- data.frame(ID = bis_data[, 1],\n",
    "                                bis_mean_NS = rowMeans(bis_data[, ..bis_cols_NS], na.rm = TRUE),\n",
    "                                bis_mean_MM = rowMeans(bis_data[, ..bis_cols_MM], na.rm = TRUE),\n",
    "                                bis_mean_AA = rowMeans(bis_data[, ..bis_cols_AA], na.rm = TRUE),\n",
    "                                bis_mean_AC = rowMeans(bis_data[, ..bis_cols_AC], na.rm = TRUE),\n",
    "                                bis_mean_NC = rowMeans(bis_data[, ..bis_cols_NC], na.rm = TRUE),\n",
    "                                bis_mean_MP = rowMeans(bis_data[, ..bis_cols_MP], na.rm = TRUE))\n",
    "\n",
    "# initialize pss scale mean\n",
    "pss_mean = NULL\n",
    "\n",
    "# create df of subject means for pss\n",
    "pss_subject_means <- data.frame(ID = pss_data[, 1],\n",
    "                                pss_mean = rowMeans(pss_data[, -1], na.rm = TRUE)) # no subscales\n",
    "\n",
    "\n",
    "# initialize rfs subscale means\n",
    "rfs_mean_FV = NULL # Fruits and Vegetables\n",
    "rfs_mean_F = NULL # Fat\n",
    "\n",
    "# create df of subject means for each rfs subscale\n",
    "rfs_subject_means <- data.frame(ID = rfs_data[, 1],\n",
    "                                rfs_mean_FV = rowMeans(rfs_data[, ..rfs_cols_FV], na.rm = TRUE),\n",
    "                                rfs_mean_F = rowMeans(rfs_data[, ..rfs_cols_F], na.rm = TRUE))\n",
    "\n",
    "# initialize tfeq subscale\n",
    "tfeq_mean_UE = NULL # Uncontrolled Eating Scale\n",
    "tfeq_mean_CR = NULL # Cognitive Restraint Scale\n",
    "tfeq_mean_EE = NULL # Emotional Eating Scale\n",
    "\n",
    "# create df of subject means for each tfeq subscale\n",
    "tfeq_subject_means <- data.frame(ID = tfeq_data[, 1],\n",
    "                                 tfeq_mean_UE = rowMeans(tfeq_data[, ..tfeq_cols_UE], na.rm = TRUE),\n",
    "                                 tfeq_mean_CR = rowMeans(tfeq_data[, ..tfeq_cols_CR], na.rm = TRUE),\n",
    "                                 tfeq_mean_EE = rowMeans(tfeq_data[, ..tfeq_cols_EE], na.rm = TRUE))"
   ]
  },
  {
   "cell_type": "code",
   "execution_count": 82,
   "metadata": {},
   "outputs": [],
   "source": [
    "# Adjust subject data with only 1 NA in at least one subscale\n",
    "# Replace NA with subscale mean\n",
    "\n",
    "# bis data\n",
    "for (row in 1:nrow(bis_data)){\n",
    "    if (sum(is.na(bis_data[row, ]))){\n",
    "        locate_NA = which(is.na(bis_data[row, ]))\n",
    "        for (i in locate_NA){\n",
    "            if (i %in% bis_cols_NS){\n",
    "                bis_data[row, i] <- bis_subject_means$bis_mean_NS[row]\n",
    "            } else if (i %in% bis_cols_MM){\n",
    "                bis_data[row, i] <- bis_subject_means$bis_mean_MM[row]\n",
    "            } else if (i %in% bis_cols_AA){\n",
    "                bis_data[row, i] <- bis_subject_means$bis_mean_AA[row]\n",
    "            } else if (i %in% bis_cols_AC){\n",
    "                bis_data[row, i] <- bis_subject_means$bis_mean_AC[row]\n",
    "            } else if (i %in% bis_cols_NC){\n",
    "                bis_data[row, i] <- bis_subject_means$bis_mean_NC[row]\n",
    "            } else if (i %in% bis_cols_MP){\n",
    "                bis_data[row, i] <- bis_subject_means$bis_mean_MP[row]\n",
    "            }             \n",
    "        }\n",
    "    }\n",
    "}\n",
    "\n",
    "# pss data\n",
    "for (row in 1:nrow(pss_data)){\n",
    "    if (sum(is.na(pss_data[row, ]))) {\n",
    "        locate_NA = which(is.na(pss_data[row, ]))\n",
    "        pss_data[row, locate_NA] <- pss_subject_means$pss_mean[row]      \n",
    "    }\n",
    "}\n",
    "\n",
    "# rfs data\n",
    "for (row in 1:nrow(rfs_data)){\n",
    "    if (sum(is.na(rfs_data[row, ]))){\n",
    "        locate_NA = which(is.na(rfs_data[row, ]))\n",
    "        for (i in locate_NA){\n",
    "            if (i %in% rfs_cols_FV){\n",
    "                rfs_data[row, i] <- rfs_subject_means$rfs_mean_FV[row]\n",
    "            } else if (i %in% rfs_cols_F){\n",
    "                rfs_data[row, i] <- rfs_subject_means$rfs_mean_F[row]\n",
    "            }             \n",
    "        }\n",
    "    }\n",
    "}\n",
    "\n",
    "# tfeq data\n",
    "for (row in 1:nrow(tfeq_data)){\n",
    "    if (sum(is.na(tfeq_data[row, ]))){\n",
    "        locate_NA = which(is.na(tfeq_data[row, ]))\n",
    "        for (i in locate_NA){\n",
    "            if (i %in% tfeq_cols_UE){\n",
    "                tfeq_data[row, i] <- tfeq_subject_means$tfeq_mean_UE[row]\n",
    "            } else if (i %in% tfeq_cols_CR){\n",
    "                tfeq_data[row, i] <- tfeq_subject_means$tfeq_mean_CR[row]\n",
    "            } else if (i %in% tfeq_cols_EE){\n",
    "                tfeq_data[row, i] <- tfeq_subject_means$tfeq_mean_EE[row]\n",
    "            }\n",
    "        }\n",
    "    }\n",
    "}"
   ]
  },
  {
   "cell_type": "code",
   "execution_count": 83,
   "metadata": {},
   "outputs": [],
   "source": [
    "# Revert reverse-scored items before calling cleanQuestionnaire\n",
    "bis_data[, c(2,3,5,6,8,14,23,25,29,30,31)] <- 5 - bis_data[, c(2,3,5,6,8,14,23,25,29,30,31)]\n",
    "pss_data[, c(6,7,9,10)] <- 4 - pss_data[, c(6,7,9,10)]"
   ]
  },
  {
   "cell_type": "code",
   "execution_count": 84,
   "metadata": {},
   "outputs": [
    {
     "data": {
      "text/plain": [
       "    subject          bis_1           bis_10          bis_11     \n",
       " Min.   :101.0   Min.   :1.000   Min.   :1.000   Min.   :1.000  \n",
       " 1st Qu.:116.0   1st Qu.:2.000   1st Qu.:2.000   1st Qu.:1.000  \n",
       " Median :133.0   Median :3.000   Median :3.000   Median :2.000  \n",
       " Mean   :132.2   Mean   :2.776   Mean   :2.837   Mean   :2.153  \n",
       " 3rd Qu.:147.0   3rd Qu.:3.000   3rd Qu.:4.000   3rd Qu.:3.000  \n",
       " Max.   :164.0   Max.   :4.000   Max.   :4.000   Max.   :4.000  \n",
       "     bis_12          bis_13          bis_14          bis_15         bis_16     \n",
       " Min.   :2.000   Min.   :1.000   Min.   :1.000   Min.   :1.00   Min.   :1.000  \n",
       " 1st Qu.:2.000   1st Qu.:3.000   1st Qu.:1.000   1st Qu.:2.00   1st Qu.:1.000  \n",
       " Median :3.000   Median :3.000   Median :1.000   Median :3.00   Median :2.000  \n",
       " Mean   :2.939   Mean   :3.069   Mean   :1.612   Mean   :2.98   Mean   :1.741  \n",
       " 3rd Qu.:3.000   3rd Qu.:4.000   3rd Qu.:2.000   3rd Qu.:4.00   3rd Qu.:2.000  \n",
       " Max.   :4.000   Max.   :4.000   Max.   :4.000   Max.   :4.00   Max.   :4.000  \n",
       "     bis_17          bis_18          bis_19          bis_2      \n",
       " Min.   :1.000   Min.   :1.000   Min.   :1.000   Min.   :1.000  \n",
       " 1st Qu.:1.000   1st Qu.:1.000   1st Qu.:2.000   1st Qu.:1.000  \n",
       " Median :2.000   Median :2.000   Median :2.000   Median :2.000  \n",
       " Mean   :1.857   Mean   :1.878   Mean   :2.143   Mean   :1.918  \n",
       " 3rd Qu.:2.000   3rd Qu.:2.000   3rd Qu.:3.000   3rd Qu.:2.000  \n",
       " Max.   :3.000   Max.   :4.000   Max.   :4.000   Max.   :4.000  \n",
       "     bis_20          bis_21          bis_22          bis_23     \n",
       " Min.   :1.000   Min.   :1.000   Min.   :1.000   Min.   :1.000  \n",
       " 1st Qu.:2.000   1st Qu.:1.000   1st Qu.:1.000   1st Qu.:1.000  \n",
       " Median :3.000   Median :1.000   Median :2.000   Median :2.000  \n",
       " Mean   :2.735   Mean   :1.592   Mean   :1.959   Mean   :1.857  \n",
       " 3rd Qu.:3.000   3rd Qu.:2.000   3rd Qu.:2.000   3rd Qu.:2.000  \n",
       " Max.   :4.000   Max.   :4.000   Max.   :4.000   Max.   :4.000  \n",
       "     bis_24          bis_25          bis_26          bis_27     \n",
       " Min.   :1.000   Min.   :1.000   Min.   :1.000   Min.   :1.000  \n",
       " 1st Qu.:1.000   1st Qu.:1.000   1st Qu.:2.000   1st Qu.:2.000  \n",
       " Median :2.000   Median :1.000   Median :2.000   Median :2.000  \n",
       " Mean   :1.673   Mean   :1.694   Mean   :2.316   Mean   :2.184  \n",
       " 3rd Qu.:2.000   3rd Qu.:2.000   3rd Qu.:3.000   3rd Qu.:3.000  \n",
       " Max.   :4.000   Max.   :4.000   Max.   :4.000   Max.   :4.000  \n",
       "     bis_28          bis_29          bis_3           bis_30     \n",
       " Min.   :1.000   Min.   :1.000   Min.   :1.000   Min.   :1.000  \n",
       " 1st Qu.:1.000   1st Qu.:2.000   1st Qu.:2.000   1st Qu.:3.000  \n",
       " Median :2.000   Median :3.000   Median :3.000   Median :3.000  \n",
       " Mean   :2.041   Mean   :2.673   Mean   :2.694   Mean   :3.197  \n",
       " 3rd Qu.:3.000   3rd Qu.:3.000   3rd Qu.:3.000   3rd Qu.:4.000  \n",
       " Max.   :4.000   Max.   :4.000   Max.   :4.000   Max.   :4.000  \n",
       "     bis_4           bis_5           bis_6           bis_7      \n",
       " Min.   :1.000   Min.   :1.000   Min.   :1.000   Min.   :1.000  \n",
       " 1st Qu.:2.000   1st Qu.:1.000   1st Qu.:2.000   1st Qu.:2.000  \n",
       " Median :3.000   Median :2.000   Median :2.000   Median :3.000  \n",
       " Mean   :2.531   Mean   :1.704   Mean   :2.429   Mean   :2.837  \n",
       " 3rd Qu.:3.000   3rd Qu.:2.000   3rd Qu.:3.000   3rd Qu.:4.000  \n",
       " Max.   :4.000   Max.   :4.000   Max.   :4.000   Max.   :4.000  \n",
       "     bis_8           bis_9      \n",
       " Min.   :1.000   Min.   :1.000  \n",
       " 1st Qu.:2.000   1st Qu.:2.000  \n",
       " Median :3.000   Median :2.000  \n",
       " Mean   :2.837   Mean   :2.469  \n",
       " 3rd Qu.:3.000   3rd Qu.:3.000  \n",
       " Max.   :4.000   Max.   :4.000  "
      ]
     },
     "metadata": {},
     "output_type": "display_data"
    },
    {
     "name": "stderr",
     "output_type": "stream",
     "text": [
      "Expecting wide data with columns in this order:\n",
      "1. participant number\n",
      "2, 3, 4... questions\n"
     ]
    },
    {
     "name": "stdin",
     "output_type": "stream",
     "text": [
      "Press 1 to proceed or 0 to stop:  1\n"
     ]
    },
    {
     "name": "stdout",
     "output_type": "stream",
     "text": [
      "Source: local data table [30 x 5]\n",
      "\n",
      "\u001b[38;5;246m# A tibble: 30 x 5\u001b[39m\n",
      "   scale    itemName  item toReverse subscale                        \n",
      "   \u001b[3m\u001b[38;5;246m<chr>\u001b[39m\u001b[23m    \u001b[3m\u001b[38;5;246m<chr>\u001b[39m\u001b[23m    \u001b[3m\u001b[38;5;246m<dbl>\u001b[39m\u001b[23m \u001b[3m\u001b[38;5;246m<chr>\u001b[39m\u001b[23m     \u001b[3m\u001b[38;5;246m<chr>\u001b[39m\u001b[23m                           \n",
      "\u001b[38;5;250m 1\u001b[39m bis_data bis_11       3 no        Attentional_Attention           \n",
      "\u001b[38;5;250m 2\u001b[39m bis_data bis_20      13 yes       Attentional_Attention           \n",
      "\u001b[38;5;250m 3\u001b[39m bis_data bis_28      21 no        Attentional_Attention           \n",
      "\u001b[38;5;250m 4\u001b[39m bis_data bis_5       26 no        Attentional_Attention           \n",
      "\u001b[38;5;250m 5\u001b[39m bis_data bis_9       30 yes       Attentional_Attention           \n",
      "\u001b[38;5;250m 6\u001b[39m bis_data bis_24      17 no        Attentional_CognitiveInstability\n",
      "\u001b[38;5;250m 7\u001b[39m bis_data bis_26      19 no        Attentional_CognitiveInstability\n",
      "\u001b[38;5;250m 8\u001b[39m bis_data bis_6       27 no        Attentional_CognitiveInstability\n",
      "\u001b[38;5;250m 9\u001b[39m bis_data bis_17       9 no        Motor_Motor                     \n",
      "\u001b[38;5;250m10\u001b[39m bis_data bis_19      11 no        Motor_Motor                     \n",
      "\u001b[38;5;250m11\u001b[39m bis_data bis_2       12 no        Motor_Motor                     \n",
      "\u001b[38;5;250m12\u001b[39m bis_data bis_22      15 no        Motor_Motor                     \n",
      "\u001b[38;5;250m13\u001b[39m bis_data bis_25      18 no        Motor_Motor                     \n",
      "\u001b[38;5;250m14\u001b[39m bis_data bis_3       23 no        Motor_Motor                     \n",
      "\u001b[38;5;250m15\u001b[39m bis_data bis_4       25 no        Motor_Motor                     \n",
      "\u001b[38;5;250m16\u001b[39m bis_data bis_16       8 no        Motor_Perseverance              \n",
      "\u001b[38;5;250m17\u001b[39m bis_data bis_21      14 no        Motor_Perseverance              \n",
      "\u001b[38;5;250m18\u001b[39m bis_data bis_23      16 no        Motor_Perseverance              \n",
      "\u001b[38;5;250m19\u001b[39m bis_data bis_30      24 yes       Motor_Perseverance              \n",
      "\u001b[38;5;250m20\u001b[39m bis_data bis_10       2 yes       NonPlanning_CognitiveComplexity \n",
      "\u001b[38;5;250m21\u001b[39m bis_data bis_15       7 yes       NonPlanning_CognitiveComplexity \n",
      "\u001b[38;5;250m22\u001b[39m bis_data bis_18      10 no        NonPlanning_CognitiveComplexity \n",
      "\u001b[38;5;250m23\u001b[39m bis_data bis_27      20 no        NonPlanning_CognitiveComplexity \n",
      "\u001b[38;5;250m24\u001b[39m bis_data bis_29      22 yes       NonPlanning_CognitiveComplexity \n",
      "\u001b[38;5;250m25\u001b[39m bis_data bis_1        1 yes       NonPlanning_SelfControl         \n",
      "\u001b[38;5;250m26\u001b[39m bis_data bis_12       4 yes       NonPlanning_SelfControl         \n",
      "\u001b[38;5;250m27\u001b[39m bis_data bis_13       5 yes       NonPlanning_SelfControl         \n",
      "\u001b[38;5;250m28\u001b[39m bis_data bis_14       6 no        NonPlanning_SelfControl         \n",
      "\u001b[38;5;250m29\u001b[39m bis_data bis_7       28 yes       NonPlanning_SelfControl         \n",
      "\u001b[38;5;250m30\u001b[39m bis_data bis_8       29 yes       NonPlanning_SelfControl         \n"
     ]
    },
    {
     "name": "stderr",
     "output_type": "stream",
     "text": [
      "Computing scale mean...\n",
      "Warning message in psych::alpha(tempData, check.keys = TRUE):\n",
      "“Some items were negatively correlated with total scale and were automatically reversed.\n",
      " This is indicated by a negative sign for the variable name.”Warning message in psych::alpha(tempData, check.keys = TRUE):\n",
      "“Some items were negatively correlated with total scale and were automatically reversed.\n",
      " This is indicated by a negative sign for the variable name.”`stat_bin()` using `bins = 30`. Pick better value with `binwidth`.\n"
     ]
    },
    {
     "data": {
      "text/html": [
       "0.645866893412538"
      ],
      "text/latex": [
       "0.645866893412538"
      ],
      "text/markdown": [
       "0.645866893412538"
      ],
      "text/plain": [
       "[1] 0.6458669"
      ]
     },
     "metadata": {},
     "output_type": "display_data"
    },
    {
     "data": {
      "text/html": [
       "0.548953987019008"
      ],
      "text/latex": [
       "0.548953987019008"
      ],
      "text/markdown": [
       "0.548953987019008"
      ],
      "text/plain": [
       "[1] 0.548954"
      ]
     },
     "metadata": {},
     "output_type": "display_data"
    },
    {
     "data": {
      "text/html": [
       "0.723857486779563"
      ],
      "text/latex": [
       "0.723857486779563"
      ],
      "text/markdown": [
       "0.723857486779563"
      ],
      "text/plain": [
       "[1] 0.7238575"
      ]
     },
     "metadata": {},
     "output_type": "display_data"
    },
    {
     "data": {
      "text/html": [
       "0.573524315582765"
      ],
      "text/latex": [
       "0.573524315582765"
      ],
      "text/markdown": [
       "0.573524315582765"
      ],
      "text/plain": [
       "[1] 0.5735243"
      ]
     },
     "metadata": {},
     "output_type": "display_data"
    },
    {
     "data": {
      "text/html": [
       "0.399283130973909"
      ],
      "text/latex": [
       "0.399283130973909"
      ],
      "text/markdown": [
       "0.399283130973909"
      ],
      "text/plain": [
       "[1] 0.3992831"
      ]
     },
     "metadata": {},
     "output_type": "display_data"
    },
    {
     "data": {
      "text/plain": [
       "NULL"
      ]
     },
     "metadata": {},
     "output_type": "display_data"
    },
    {
     "data": {
      "image/png": "[encoded data removed]",
      "text/plain": [
       "plot without title"
      ]
     },
     "metadata": {},
     "output_type": "display_data"
    }
   ],
   "source": [
    "# Call cleanQuestionnaire to clean and reverse-score bis_data\n",
    "summary(bis_data)\n",
    "scalesWideRaw$bis_data <- bis_data\n",
    "\n",
    "# function already accounts for subject column when passing indices for subscales & items to reverse\n",
    "bis_data_clean <- cleanQuestionnaire(data = bis_data, scaleName = 'bis_data',\n",
    "                                     scaleMin = 1, scaleMax = 4,\n",
    "                                     subscales = list(NonPlanning_SelfControl =\n",
    "                                                      c(1,4,5,6,28,29), # bis_1,7,8,12,13,14\n",
    "                                                      Motor_Motor = \n",
    "                                                      c(9,11,12,15,18,23,25), # bis_2,3,4,17,19,22,25\n",
    "                                                      Attentional_Attention =\n",
    "                                                      c(3,13,21,26,30), # bis_5,9,11,20,28\n",
    "                                                      Attentional_CognitiveInstability =\n",
    "                                                      c(17,19,27), # bis_6,24,26\n",
    "                                                      NonPlanning_CognitiveComplexity =\n",
    "                                                      c(2,7,10,20,22), # bis_10,15,18,27,29\n",
    "                                                      Motor_Perseverance =\n",
    "                                                      c(8,14,16,24)), # bis_16,21,23,30\n",
    "                                     itemsToReverse =\n",
    "                                     c(1,2,4,5,7,13,22,24,28,29,30)) # bis_1,7,8,9,10,12,13,15,20,29,30\n",
    "\n",
    "ggplot(bis_data_clean$long[bis_data_subscale == \"overall\"], aes(bis_data_m)) + geom_histogram()\n",
    "\n",
    "scales$bis_data_clean <- bis_data_clean\n",
    "\n",
    "# Reliability (raw_alpha or std.alpha)\n",
    "bis_data_clean$reliability$NonPlanning_SelfControl$total$raw_alpha\n",
    "bis_data_clean$reliability$Motor_Motor$total$raw_alpha\n",
    "bis_data_clean$reliability$Attentional_Attention$total$raw_alpha\n",
    "bis_data_clean$reliability$Attentional_CognitiveInstability$total$raw_alpha\n",
    "bis_data_clean$reliability$NonPlanning_CognitiveComplexity$total$raw_alpha\n",
    "bis_data_clean$reliability$Motor_Perserverence$total$raw_alpha"
   ]
  },
  {
   "cell_type": "code",
   "execution_count": 85,
   "metadata": {},
   "outputs": [
    {
     "data": {
      "text/plain": [
       "    subject          pss_1           pss_10          pss_2      \n",
       " Min.   :101.0   Min.   :0.000   Min.   :0.000   Min.   :0.000  \n",
       " 1st Qu.:116.0   1st Qu.:1.000   1st Qu.:1.000   1st Qu.:2.000  \n",
       " Median :133.0   Median :2.000   Median :2.000   Median :2.000  \n",
       " Mean   :132.2   Mean   :1.959   Mean   :1.639   Mean   :2.224  \n",
       " 3rd Qu.:147.0   3rd Qu.:2.000   3rd Qu.:3.000   3rd Qu.:3.000  \n",
       " Max.   :164.0   Max.   :4.000   Max.   :4.000   Max.   :4.000  \n",
       "     pss_3           pss_4           pss_5           pss_6      \n",
       " Min.   :0.000   Min.   :0.000   Min.   :1.000   Min.   :0.000  \n",
       " 1st Qu.:2.000   1st Qu.:2.000   1st Qu.:2.000   1st Qu.:1.000  \n",
       " Median :3.000   Median :3.000   Median :2.000   Median :2.000  \n",
       " Mean   :2.553   Mean   :2.653   Mean   :2.469   Mean   :1.878  \n",
       " 3rd Qu.:3.000   3rd Qu.:3.000   3rd Qu.:3.000   3rd Qu.:3.000  \n",
       " Max.   :4.000   Max.   :4.000   Max.   :4.000   Max.   :4.000  \n",
       "     pss_7           pss_8           pss_9      \n",
       " Min.   :1.000   Min.   :1.000   Min.   :0.000  \n",
       " 1st Qu.:2.000   1st Qu.:2.000   1st Qu.:1.000  \n",
       " Median :3.000   Median :2.000   Median :1.000  \n",
       " Mean   :2.429   Mean   :2.265   Mean   :1.367  \n",
       " 3rd Qu.:3.000   3rd Qu.:3.000   3rd Qu.:2.000  \n",
       " Max.   :4.000   Max.   :4.000   Max.   :4.000  "
      ]
     },
     "metadata": {},
     "output_type": "display_data"
    },
    {
     "name": "stderr",
     "output_type": "stream",
     "text": [
      "Expecting wide data with columns in this order:\n",
      "1. participant number\n",
      "2, 3, 4... questions\n"
     ]
    },
    {
     "name": "stdin",
     "output_type": "stream",
     "text": [
      "Press 1 to proceed or 0 to stop:  1\n"
     ]
    },
    {
     "name": "stdout",
     "output_type": "stream",
     "text": [
      "Source: local data table [10 x 5]\n",
      "\n",
      "\u001b[38;5;246m# A tibble: 10 x 5\u001b[39m\n",
      "   scale    itemName  item toReverse subscale\n",
      "   \u001b[3m\u001b[38;5;246m<chr>\u001b[39m\u001b[23m    \u001b[3m\u001b[38;5;246m<chr>\u001b[39m\u001b[23m    \u001b[3m\u001b[38;5;246m<dbl>\u001b[39m\u001b[23m \u001b[3m\u001b[38;5;246m<chr>\u001b[39m\u001b[23m     \u001b[3m\u001b[38;5;246m<chr>\u001b[39m\u001b[23m   \n",
      "\u001b[38;5;250m 1\u001b[39m pss_data pss_1        1 no        pss_data\n",
      "\u001b[38;5;250m 2\u001b[39m pss_data pss_10       2 no        pss_data\n",
      "\u001b[38;5;250m 3\u001b[39m pss_data pss_2        3 no        pss_data\n",
      "\u001b[38;5;250m 4\u001b[39m pss_data pss_3        4 no        pss_data\n",
      "\u001b[38;5;250m 5\u001b[39m pss_data pss_4        5 yes       pss_data\n",
      "\u001b[38;5;250m 6\u001b[39m pss_data pss_5        6 yes       pss_data\n",
      "\u001b[38;5;250m 7\u001b[39m pss_data pss_6        7 no        pss_data\n",
      "\u001b[38;5;250m 8\u001b[39m pss_data pss_7        8 yes       pss_data\n",
      "\u001b[38;5;250m 9\u001b[39m pss_data pss_8        9 yes       pss_data\n",
      "\u001b[38;5;250m10\u001b[39m pss_data pss_9       10 no        pss_data\n"
     ]
    },
    {
     "name": "stderr",
     "output_type": "stream",
     "text": [
      "Computing scale mean...\n",
      "`stat_bin()` using `bins = 30`. Pick better value with `binwidth`.\n"
     ]
    },
    {
     "data": {
      "text/html": [
       "0.819356352480292"
      ],
      "text/latex": [
       "0.819356352480292"
      ],
      "text/markdown": [
       "0.819356352480292"
      ],
      "text/plain": [
       "[1] 0.8193564"
      ]
     },
     "metadata": {},
     "output_type": "display_data"
    },
    {
     "data": {
      "image/png": "[encoded data removed]",
      "text/plain": [
       "plot without title"
      ]
     },
     "metadata": {},
     "output_type": "display_data"
    }
   ],
   "source": [
    "# Call cleanQuestionnaire to clean and reverse-score pss_data\n",
    "summary(pss_data)\n",
    "scalesWideRaw$pss_data <- pss_data\n",
    "\n",
    "# function already accounts for subject column when passing indices for items to reverse\n",
    "pss_data_clean <- cleanQuestionnaire(data = pss_data, scaleName = 'pss_data',\n",
    "                                     scaleMin = 0, scaleMax = 4,\n",
    "                                     itemsToReverse = c(5,6,8,9)) # pss_4,5,7,8\n",
    "\n",
    "ggplot(pss_data_clean$long, aes(pss_data_m)) + geom_histogram()\n",
    "\n",
    "scales$pss_data_clean <- pss_data_clean\n",
    "\n",
    "# Reliability (raw_alpha or std.alpha)\n",
    "pss_data_clean$reliability$pss_data$total$raw_alpha"
   ]
  },
  {
   "cell_type": "code",
   "execution_count": 86,
   "metadata": {},
   "outputs": [
    {
     "data": {
      "text/plain": [
       "    subject         rfs_f_1        rfs_f_10        rfs_f_11        rfs_f_12    \n",
       " Min.   :101.0   Min.   :0.00   Min.   :0.000   Min.   :0.000   Min.   :0.000  \n",
       " 1st Qu.:116.8   1st Qu.:0.00   1st Qu.:2.000   1st Qu.:0.000   1st Qu.:0.000  \n",
       " Median :132.5   Median :1.00   Median :2.000   Median :0.000   Median :1.000  \n",
       " Mean   :132.3   Mean   :1.13   Mean   :2.304   Mean   :0.587   Mean   :1.325  \n",
       " 3rd Qu.:147.8   3rd Qu.:2.00   3rd Qu.:3.000   3rd Qu.:1.000   3rd Qu.:2.000  \n",
       " Max.   :164.0   Max.   :4.00   Max.   :4.000   Max.   :4.000   Max.   :5.000  \n",
       "    rfs_f_13        rfs_f_14         rfs_f_15        rfs_f_16    \n",
       " Min.   :0.000   Min.   :0.0000   Min.   :0.000   Min.   :0.000  \n",
       " 1st Qu.:0.000   1st Qu.:0.0000   1st Qu.:0.000   1st Qu.:0.000  \n",
       " Median :1.000   Median :0.0000   Median :1.000   Median :1.000  \n",
       " Mean   :1.261   Mean   :0.8043   Mean   :1.109   Mean   :1.304  \n",
       " 3rd Qu.:2.000   3rd Qu.:1.0000   3rd Qu.:2.000   3rd Qu.:2.000  \n",
       " Max.   :4.000   Max.   :5.0000   Max.   :5.000   Max.   :4.000  \n",
       "    rfs_f_17         rfs_f_2         rfs_f_3          rfs_f_4   \n",
       " Min.   :0.0000   Min.   :0.000   Min.   :0.0000   Min.   :0.0  \n",
       " 1st Qu.:0.0000   1st Qu.:1.000   1st Qu.:0.0000   1st Qu.:0.0  \n",
       " Median :0.0000   Median :2.000   Median :0.0000   Median :0.0  \n",
       " Mean   :0.7609   Mean   :1.935   Mean   :0.7989   Mean   :0.5  \n",
       " 3rd Qu.:1.0000   3rd Qu.:3.000   3rd Qu.:1.0000   3rd Qu.:1.0  \n",
       " Max.   :3.0000   Max.   :4.000   Max.   :5.0000   Max.   :3.0  \n",
       "    rfs_f_5          rfs_f_6          rfs_f_7          rfs_f_8     \n",
       " Min.   :0.0000   Min.   :0.0000   Min.   :0.0000   Min.   :0.000  \n",
       " 1st Qu.:0.0000   1st Qu.:0.0000   1st Qu.:0.0000   1st Qu.:0.000  \n",
       " Median :0.0000   Median :0.0000   Median :0.0000   Median :1.500  \n",
       " Mean   :0.7826   Mean   :0.5652   Mean   :0.7609   Mean   :1.457  \n",
       " 3rd Qu.:1.7500   3rd Qu.:1.0000   3rd Qu.:1.7500   3rd Qu.:2.750  \n",
       " Max.   :4.0000   Max.   :4.0000   Max.   :3.0000   Max.   :4.000  \n",
       "    rfs_f_9         rfs_fv_1      rfs_fv_10        rfs_fv_2        rfs_fv_3    \n",
       " Min.   :0.000   Min.   :0.00   Min.   :0.000   Min.   :0.000   Min.   :0.000  \n",
       " 1st Qu.:2.000   1st Qu.:0.00   1st Qu.:0.000   1st Qu.:2.000   1st Qu.:0.000  \n",
       " Median :3.000   Median :1.00   Median :1.000   Median :3.000   Median :0.000  \n",
       " Mean   :2.804   Mean   :1.13   Mean   :1.413   Mean   :2.891   Mean   :0.413  \n",
       " 3rd Qu.:4.000   3rd Qu.:2.00   3rd Qu.:2.750   3rd Qu.:4.000   3rd Qu.:0.000  \n",
       " Max.   :5.000   Max.   :5.00   Max.   :4.000   Max.   :5.000   Max.   :5.000  \n",
       "    rfs_fv_4        rfs_fv_5        rfs_fv_6        rfs_fv_7        rfs_fv_8\n",
       " Min.   :0.000   Min.   :0.000   Min.   :0.000   Min.   :0.000   Min.   :0  \n",
       " 1st Qu.:1.000   1st Qu.:0.000   1st Qu.:1.000   1st Qu.:2.000   1st Qu.:0  \n",
       " Median :2.000   Median :1.500   Median :1.500   Median :3.000   Median :0  \n",
       " Mean   :1.783   Mean   :1.478   Mean   :1.674   Mean   :3.058   Mean   :1  \n",
       " 3rd Qu.:3.000   3rd Qu.:2.750   3rd Qu.:3.000   3rd Qu.:4.000   3rd Qu.:2  \n",
       " Max.   :5.000   Max.   :3.000   Max.   :5.000   Max.   :5.000   Max.   :4  \n",
       "    rfs_fv_9    \n",
       " Min.   :0.000  \n",
       " 1st Qu.:0.000  \n",
       " Median :1.000  \n",
       " Mean   :1.275  \n",
       " 3rd Qu.:2.000  \n",
       " Max.   :4.000  "
      ]
     },
     "metadata": {},
     "output_type": "display_data"
    },
    {
     "name": "stderr",
     "output_type": "stream",
     "text": [
      "Expecting wide data with columns in this order:\n",
      "1. participant number\n",
      "2, 3, 4... questions\n"
     ]
    },
    {
     "name": "stdin",
     "output_type": "stream",
     "text": [
      "Press 1 to proceed or 0 to stop:  1\n"
     ]
    },
    {
     "name": "stdout",
     "output_type": "stream",
     "text": [
      "Source: local data table [27 x 5]\n",
      "\n",
      "\u001b[38;5;246m# A tibble: 27 x 5\u001b[39m\n",
      "   scale    itemName   item toReverse subscale             \n",
      "   \u001b[3m\u001b[38;5;246m<chr>\u001b[39m\u001b[23m    \u001b[3m\u001b[38;5;246m<chr>\u001b[39m\u001b[23m     \u001b[3m\u001b[38;5;246m<dbl>\u001b[39m\u001b[23m \u001b[3m\u001b[38;5;246m<chr>\u001b[39m\u001b[23m     \u001b[3m\u001b[38;5;246m<chr>\u001b[39m\u001b[23m                \n",
      "\u001b[38;5;250m 1\u001b[39m rfs_data rfs_f_1       1 no        Fat                  \n",
      "\u001b[38;5;250m 2\u001b[39m rfs_data rfs_f_10      2 no        Fat                  \n",
      "\u001b[38;5;250m 3\u001b[39m rfs_data rfs_f_11      3 no        Fat                  \n",
      "\u001b[38;5;250m 4\u001b[39m rfs_data rfs_f_12      4 no        Fat                  \n",
      "\u001b[38;5;250m 5\u001b[39m rfs_data rfs_f_13      5 no        Fat                  \n",
      "\u001b[38;5;250m 6\u001b[39m rfs_data rfs_f_14      6 no        Fat                  \n",
      "\u001b[38;5;250m 7\u001b[39m rfs_data rfs_f_15      7 no        Fat                  \n",
      "\u001b[38;5;250m 8\u001b[39m rfs_data rfs_f_16      8 no        Fat                  \n",
      "\u001b[38;5;250m 9\u001b[39m rfs_data rfs_f_17      9 no        Fat                  \n",
      "\u001b[38;5;250m10\u001b[39m rfs_data rfs_f_2      10 no        Fat                  \n",
      "\u001b[38;5;250m11\u001b[39m rfs_data rfs_f_3      11 no        Fat                  \n",
      "\u001b[38;5;250m12\u001b[39m rfs_data rfs_f_4      12 no        Fat                  \n",
      "\u001b[38;5;250m13\u001b[39m rfs_data rfs_f_5      13 no        Fat                  \n",
      "\u001b[38;5;250m14\u001b[39m rfs_data rfs_f_6      14 no        Fat                  \n",
      "\u001b[38;5;250m15\u001b[39m rfs_data rfs_f_7      15 no        Fat                  \n",
      "\u001b[38;5;250m16\u001b[39m rfs_data rfs_f_8      16 no        Fat                  \n",
      "\u001b[38;5;250m17\u001b[39m rfs_data rfs_f_9      17 no        Fat                  \n",
      "\u001b[38;5;250m18\u001b[39m rfs_data rfs_fv_1     18 no        Fruits_and_Vegetables\n",
      "\u001b[38;5;250m19\u001b[39m rfs_data rfs_fv_10    19 no        Fruits_and_Vegetables\n",
      "\u001b[38;5;250m20\u001b[39m rfs_data rfs_fv_2     20 no        Fruits_and_Vegetables\n",
      "\u001b[38;5;250m21\u001b[39m rfs_data rfs_fv_3     21 no        Fruits_and_Vegetables\n",
      "\u001b[38;5;250m22\u001b[39m rfs_data rfs_fv_4     22 no        Fruits_and_Vegetables\n",
      "\u001b[38;5;250m23\u001b[39m rfs_data rfs_fv_5     23 no        Fruits_and_Vegetables\n",
      "\u001b[38;5;250m24\u001b[39m rfs_data rfs_fv_6     24 no        Fruits_and_Vegetables\n",
      "\u001b[38;5;250m25\u001b[39m rfs_data rfs_fv_7     25 no        Fruits_and_Vegetables\n",
      "\u001b[38;5;250m26\u001b[39m rfs_data rfs_fv_8     26 no        Fruits_and_Vegetables\n",
      "\u001b[38;5;250m27\u001b[39m rfs_data rfs_fv_9     27 no        Fruits_and_Vegetables\n"
     ]
    },
    {
     "name": "stderr",
     "output_type": "stream",
     "text": [
      "Computing scale mean...\n",
      "Warning message in psych::alpha(tempData, check.keys = TRUE):\n",
      "“Some items were negatively correlated with total scale and were automatically reversed.\n",
      " This is indicated by a negative sign for the variable name.”`stat_bin()` using `bins = 30`. Pick better value with `binwidth`.\n"
     ]
    },
    {
     "data": {
      "text/html": [
       "0.573377202001508"
      ],
      "text/latex": [
       "0.573377202001508"
      ],
      "text/markdown": [
       "0.573377202001508"
      ],
      "text/plain": [
       "[1] 0.5733772"
      ]
     },
     "metadata": {},
     "output_type": "display_data"
    },
    {
     "data": {
      "text/html": [
       "0.807362751788657"
      ],
      "text/latex": [
       "0.807362751788657"
      ],
      "text/markdown": [
       "0.807362751788657"
      ],
      "text/plain": [
       "[1] 0.8073628"
      ]
     },
     "metadata": {},
     "output_type": "display_data"
    },
    {
     "data": {
      "image/png": "[encoded data removed]",
      "text/plain": [
       "plot without title"
      ]
     },
     "metadata": {},
     "output_type": "display_data"
    }
   ],
   "source": [
    "# Call cleanQuestionnaire to clean and reverse-score rfs_data\n",
    "summary(rfs_data)\n",
    "scalesWideRaw$rfs_data <- rfs_data\n",
    "\n",
    "# function already accounts for subject column when passing indices for subscales\n",
    "rfs_data_clean <- cleanQuestionnaire(data = rfs_data, scaleName = 'rfs_data',\n",
    "                                     scaleMin = 0, scaleMax = 5,\n",
    "                                     subscales = list(Fruits_and_Vegetables = 18:27, # rfs_fv_\n",
    "                                                      Fat = 1:17)) # rfs_f_\n",
    "\n",
    "ggplot(rfs_data_clean$long[rfs_data_subscale == \"overall\"], aes(rfs_data_m)) + geom_histogram()\n",
    "\n",
    "scales$rfs_data_clean <- rfs_data_clean\n",
    "\n",
    "# Reliability (raw_alpha or std.alpha)\n",
    "rfs_data_clean$reliability$Fruits_and_Vegetables$total$raw_alpha\n",
    "rfs_data_clean$reliability$Fat$total$raw_alpha"
   ]
  },
  {
   "cell_type": "code",
   "execution_count": 87,
   "metadata": {},
   "outputs": [
    {
     "data": {
      "text/plain": [
       "    subject          tfeq_1        tfeq_10        tfeq_11        tfeq_12    \n",
       " Min.   :101.0   Min.   :1.00   Min.   :1.00   Min.   :1.00   Min.   :1.00  \n",
       " 1st Qu.:116.5   1st Qu.:2.00   1st Qu.:1.00   1st Qu.:1.00   1st Qu.:1.00  \n",
       " Median :132.5   Median :2.00   Median :2.00   Median :2.00   Median :2.00  \n",
       " Mean   :131.9   Mean   :2.48   Mean   :1.98   Mean   :1.98   Mean   :2.26  \n",
       " 3rd Qu.:146.8   3rd Qu.:3.00   3rd Qu.:3.00   3rd Qu.:2.00   3rd Qu.:3.00  \n",
       " Max.   :164.0   Max.   :4.00   Max.   :4.00   Max.   :4.00   Max.   :4.00  \n",
       "    tfeq_13        tfeq_14        tfeq_15        tfeq_16        tfeq_17    \n",
       " Min.   :1.00   Min.   :1.00   Min.   :1.00   Min.   :1.00   Min.   :1.00  \n",
       " 1st Qu.:2.00   1st Qu.:2.00   1st Qu.:2.00   1st Qu.:1.00   1st Qu.:1.00  \n",
       " Median :2.00   Median :2.00   Median :3.00   Median :2.00   Median :2.00  \n",
       " Mean   :2.24   Mean   :2.34   Mean   :2.62   Mean   :2.16   Mean   :2.08  \n",
       " 3rd Qu.:3.00   3rd Qu.:3.00   3rd Qu.:3.00   3rd Qu.:3.00   3rd Qu.:3.00  \n",
       " Max.   :4.00   Max.   :4.00   Max.   :4.00   Max.   :4.00   Max.   :4.00  \n",
       "    tfeq_18         tfeq_2         tfeq_3         tfeq_4         tfeq_5    \n",
       " Min.   :1.00   Min.   :1.00   Min.   :1.00   Min.   :1.00   Min.   :1.00  \n",
       " 1st Qu.:1.25   1st Qu.:1.00   1st Qu.:2.00   1st Qu.:2.00   1st Qu.:2.00  \n",
       " Median :2.00   Median :2.00   Median :3.00   Median :2.00   Median :3.00  \n",
       " Mean   :2.08   Mean   :2.08   Mean   :2.52   Mean   :2.34   Mean   :2.82  \n",
       " 3rd Qu.:3.00   3rd Qu.:3.00   3rd Qu.:3.00   3rd Qu.:3.00   3rd Qu.:3.00  \n",
       " Max.   :4.00   Max.   :4.00   Max.   :4.00   Max.   :4.00   Max.   :4.00  \n",
       "     tfeq_6         tfeq_7        tfeq_8          tfeq_9    \n",
       " Min.   :1.00   Min.   :1.0   Min.   :1.000   Min.   :1.00  \n",
       " 1st Qu.:2.00   1st Qu.:2.0   1st Qu.:2.000   1st Qu.:1.00  \n",
       " Median :2.00   Median :2.5   Median :2.000   Median :2.00  \n",
       " Mean   :2.28   Mean   :2.5   Mean   :2.205   Mean   :2.04  \n",
       " 3rd Qu.:3.00   3rd Qu.:3.0   3rd Qu.:3.000   3rd Qu.:3.00  \n",
       " Max.   :4.00   Max.   :4.0   Max.   :4.000   Max.   :4.00  "
      ]
     },
     "metadata": {},
     "output_type": "display_data"
    },
    {
     "name": "stderr",
     "output_type": "stream",
     "text": [
      "Expecting wide data with columns in this order:\n",
      "1. participant number\n",
      "2, 3, 4... questions\n"
     ]
    },
    {
     "name": "stdin",
     "output_type": "stream",
     "text": [
      "Press 1 to proceed or 0 to stop:  1\n"
     ]
    },
    {
     "name": "stdout",
     "output_type": "stream",
     "text": [
      "Source: local data table [18 x 5]\n",
      "\n",
      "\u001b[38;5;246m# A tibble: 18 x 5\u001b[39m\n",
      "   scale     itemName  item toReverse subscale                 \n",
      "   \u001b[3m\u001b[38;5;246m<chr>\u001b[39m\u001b[23m     \u001b[3m\u001b[38;5;246m<chr>\u001b[39m\u001b[23m    \u001b[3m\u001b[38;5;246m<dbl>\u001b[39m\u001b[23m \u001b[3m\u001b[38;5;246m<chr>\u001b[39m\u001b[23m     \u001b[3m\u001b[38;5;246m<chr>\u001b[39m\u001b[23m                    \n",
      "\u001b[38;5;250m 1\u001b[39m tfeq_data tfeq_11      3 no        Cognitive_Restraint_Scale\n",
      "\u001b[38;5;250m 2\u001b[39m tfeq_data tfeq_12      4 no        Cognitive_Restraint_Scale\n",
      "\u001b[38;5;250m 3\u001b[39m tfeq_data tfeq_15      7 no        Cognitive_Restraint_Scale\n",
      "\u001b[38;5;250m 4\u001b[39m tfeq_data tfeq_16      8 no        Cognitive_Restraint_Scale\n",
      "\u001b[38;5;250m 5\u001b[39m tfeq_data tfeq_18     10 no        Cognitive_Restraint_Scale\n",
      "\u001b[38;5;250m 6\u001b[39m tfeq_data tfeq_2      11 no        Cognitive_Restraint_Scale\n",
      "\u001b[38;5;250m 7\u001b[39m tfeq_data tfeq_10      2 no        Emotional_Eating_Scale   \n",
      "\u001b[38;5;250m 8\u001b[39m tfeq_data tfeq_3      12 no        Emotional_Eating_Scale   \n",
      "\u001b[38;5;250m 9\u001b[39m tfeq_data tfeq_6      15 no        Emotional_Eating_Scale   \n",
      "\u001b[38;5;250m10\u001b[39m tfeq_data tfeq_1       1 no        Uncontrolled_Eating_Scale\n",
      "\u001b[38;5;250m11\u001b[39m tfeq_data tfeq_13      5 no        Uncontrolled_Eating_Scale\n",
      "\u001b[38;5;250m12\u001b[39m tfeq_data tfeq_14      6 no        Uncontrolled_Eating_Scale\n",
      "\u001b[38;5;250m13\u001b[39m tfeq_data tfeq_17      9 no        Uncontrolled_Eating_Scale\n",
      "\u001b[38;5;250m14\u001b[39m tfeq_data tfeq_4      13 no        Uncontrolled_Eating_Scale\n",
      "\u001b[38;5;250m15\u001b[39m tfeq_data tfeq_5      14 no        Uncontrolled_Eating_Scale\n",
      "\u001b[38;5;250m16\u001b[39m tfeq_data tfeq_7      16 no        Uncontrolled_Eating_Scale\n",
      "\u001b[38;5;250m17\u001b[39m tfeq_data tfeq_8      17 no        Uncontrolled_Eating_Scale\n",
      "\u001b[38;5;250m18\u001b[39m tfeq_data tfeq_9      18 no        Uncontrolled_Eating_Scale\n"
     ]
    },
    {
     "name": "stderr",
     "output_type": "stream",
     "text": [
      "Computing scale mean...\n",
      "`stat_bin()` using `bins = 30`. Pick better value with `binwidth`.\n"
     ]
    },
    {
     "data": {
      "text/html": [
       "0.744750791475116"
      ],
      "text/latex": [
       "0.744750791475116"
      ],
      "text/markdown": [
       "0.744750791475116"
      ],
      "text/plain": [
       "[1] 0.7447508"
      ]
     },
     "metadata": {},
     "output_type": "display_data"
    },
    {
     "data": {
      "text/html": [
       "0.743505738091495"
      ],
      "text/latex": [
       "0.743505738091495"
      ],
      "text/markdown": [
       "0.743505738091495"
      ],
      "text/plain": [
       "[1] 0.7435057"
      ]
     },
     "metadata": {},
     "output_type": "display_data"
    },
    {
     "data": {
      "text/html": [
       "0.771100607697502"
      ],
      "text/latex": [
       "0.771100607697502"
      ],
      "text/markdown": [
       "0.771100607697502"
      ],
      "text/plain": [
       "[1] 0.7711006"
      ]
     },
     "metadata": {},
     "output_type": "display_data"
    },
    {
     "data": {
      "image/png": "[encoded data removed]",
      "text/plain": [
       "plot without title"
      ]
     },
     "metadata": {},
     "output_type": "display_data"
    }
   ],
   "source": [
    "# Call cleanQuestionnaire to clean and reverse-score tfeq_data\n",
    "summary(tfeq_data)\n",
    "scalesWideRaw$tfeq_data <- tfeq_data\n",
    "\n",
    "# function already accounts for subject column when passing indices for subscales\n",
    "tfeq_data_clean <- cleanQuestionnaire(data = tfeq_data, scaleName = 'tfeq_data',\n",
    "                                     scaleMin = 1, scaleMax = 4,\n",
    "                                     subscales = list(Uncontrolled_Eating_Scale =\n",
    "                                                      c(1,5,6,9,13,14,16,17,18), # tfeq_1,4,5,7,8,9,13,14,17\n",
    "                                                      Cognitive_Restraint_Scale =\n",
    "                                                      c(3,4,7,8,10,11), # tfeq_2,11,12,15,16,18\n",
    "                                                      Emotional_Eating_Scale =\n",
    "                                                      c(2,12,15))) # tfeq_3,6,10\n",
    "\n",
    "ggplot(tfeq_data_clean$long[tfeq_data_subscale == \"overall\"], aes(tfeq_data_m)) + geom_histogram()\n",
    "\n",
    "scales$tfeq_data_clean <- tfeq_data_clean\n",
    "\n",
    "# Reliability (raw_alpha or std.alpha)\n",
    "tfeq_data_clean$reliability$Uncontrolled_Eating_Scale$total$raw_alpha\n",
    "tfeq_data_clean$reliability$Cognitive_Restraint_Scale$total$raw_alpha\n",
    "tfeq_data_clean$reliability$Emotional_Eating_Scale$total$raw_alpha"
   ]
  },
  {
   "cell_type": "code",
   "execution_count": 88,
   "metadata": {},
   "outputs": [
    {
     "name": "stderr",
     "output_type": "stream",
     "text": [
      "Joining, by = \"subject\"\n",
      "Joining, by = \"subject\"\n",
      "Joining, by = \"subject\"\n"
     ]
    }
   ],
   "source": [
    "# Combine all subject scores for each scale in one data frame\n",
    "df1 <- left_join(scales$bis_data_clean$wide, scales$pss_data_clean$wide) %>% \n",
    "    left_join(scales$rfs_data_clean$wide) %>% \n",
    "    left_join(scales$tfeq_data_clean$wide)\n",
    "\n",
    "write.csv(df1, \"data/questionnaires_clean.csv\", row.names = F)"
   ]
  },
  {
   "cell_type": "markdown",
   "metadata": {},
   "source": [
    "## Questionnaire Key"
   ]
  },
  {
   "cell_type": "markdown",
   "metadata": {},
   "source": [
    "---\n",
    "[Coding Google Sheet](https://docs.google.com/spreadsheets/d/1M_YAg-ALHN3SOx1DGVZ9EWd8rX8-QJuatQehSt9CCms/edit?usp=sharing)\n",
    "\n",
    "---"
   ]
  },
  {
   "cell_type": "markdown",
   "metadata": {},
   "source": [
    "# Demographics"
   ]
  },
  {
   "cell_type": "code",
   "execution_count": 7,
   "metadata": {},
   "outputs": [
    {
     "data": {
      "text/plain": [
       "\n",
       "Female   Male \n",
       "    34     16 "
      ]
     },
     "metadata": {},
     "output_type": "display_data"
    },
    {
     "data": {
      "text/html": [
       "<table>\n",
       "<caption>A tibble: 1 × 4</caption>\n",
       "<thead>\n",
       "\t<tr><th scope=col>age</th><th scope=col>ageSD</th><th scope=col>ageMin</th><th scope=col>ageMax</th></tr>\n",
       "\t<tr><th scope=col>&lt;dbl&gt;</th><th scope=col>&lt;dbl&gt;</th><th scope=col>&lt;dbl&gt;</th><th scope=col>&lt;dbl&gt;</th></tr>\n",
       "</thead>\n",
       "<tbody>\n",
       "\t<tr><td>23.1</td><td>4.258245</td><td>18</td><td>38</td></tr>\n",
       "</tbody>\n",
       "</table>\n"
      ],
      "text/latex": [
       "A tibble: 1 × 4\n",
       "\\begin{tabular}{r|llll}\n",
       " age & ageSD & ageMin & ageMax\\\\\n",
       " <dbl> & <dbl> & <dbl> & <dbl>\\\\\n",
       "\\hline\n",
       "\t 23.1 & 4.258245 & 18 & 38\\\\\n",
       "\\end{tabular}\n"
      ],
      "text/markdown": [
       "\n",
       "A tibble: 1 × 4\n",
       "\n",
       "| age &lt;dbl&gt; | ageSD &lt;dbl&gt; | ageMin &lt;dbl&gt; | ageMax &lt;dbl&gt; |\n",
       "|---|---|---|---|\n",
       "| 23.1 | 4.258245 | 18 | 38 |\n",
       "\n"
      ],
      "text/plain": [
       "  age  ageSD    ageMin ageMax\n",
       "1 23.1 4.258245 18     38    "
      ]
     },
     "metadata": {},
     "output_type": "display_data"
    }
   ],
   "source": [
    "table(df_good$demo_gender)\n",
    "tibble(age = mean(as.numeric(df_good$demo_age), na.rm = T), \n",
    "       ageSD = sd(as.numeric(df_good$demo_age), na.rm = T),\n",
    "       ageMin = min(as.numeric(df_good$demo_age), na.rm = T),\n",
    "       ageMax = max(as.numeric(df_good$demo_age), na.rm = T))"
   ]
  }
 ],
 "metadata": {
  "kernelspec": {
   "display_name": "R",
   "language": "R",
   "name": "ir"
  },
  "language_info": {
   "codemirror_mode": "r",
   "file_extension": ".r",
   "mimetype": "text/x-r-source",
   "name": "R",
   "pygments_lexer": "r",
   "version": "3.3.3"
  },
  "toc-autonumbering": true,
  "toc-showcode": false,
  "toc-showmarkdowntxt": false
 },
 "nbformat": 4,
 "nbformat_minor": 2
}
