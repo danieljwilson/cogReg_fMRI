{
 "cells": [
  {
   "cell_type": "markdown",
   "metadata": {
    "toc": true
   },
   "source": [
    "<h1>Table of Contents<span class=\"tocSkip\"></span></h1>\n",
    "<div class=\"toc\"><ul class=\"toc-item\"><li><span><a href=\"#Imports\" data-toc-modified-id=\"Imports-1\"><span class=\"toc-item-num\">1&nbsp;&nbsp;</span>Imports</a></span></li><li><span><a href=\"#Set-Variables\" data-toc-modified-id=\"Set-Variables-2\"><span class=\"toc-item-num\">2&nbsp;&nbsp;</span>Set Variables</a></span></li><li><span><a href=\"#Process-(parallel)\" data-toc-modified-id=\"Process-(parallel)-3\"><span class=\"toc-item-num\">3&nbsp;&nbsp;</span>Process (parallel)</a></span></li><li><span><a href=\"#Functions\" data-toc-modified-id=\"Functions-4\"><span class=\"toc-item-num\">4&nbsp;&nbsp;</span>Functions</a></span></li></ul></div>"
   ]
  },
  {
   "cell_type": "markdown",
   "metadata": {},
   "source": [
    "# Imports"
   ]
  },
  {
   "cell_type": "code",
   "execution_count": 4,
   "metadata": {
    "collapsed": true
   },
   "outputs": [],
   "source": [
    "import numpy as np\n",
    "import matplotlib\n",
    "import matplotlib.pyplot as plt\n",
    "\n",
    "import sys\n",
    "import os\n",
    "import multiprocessing\n",
    "import concurrent.futures\n",
    "import numpy as np\n",
    "import pandas as pd\n",
    "\n",
    "from nilearn import image\n",
    "\n",
    "%matplotlib inline"
   ]
  },
  {
   "cell_type": "markdown",
   "metadata": {},
   "source": [
    "# Set Variables"
   ]
  },
  {
   "cell_type": "code",
   "execution_count": 5,
   "metadata": {
    "collapsed": true
   },
   "outputs": [],
   "source": [
    "root_path = \"/Volumes/DJW_Lacie_01/PROJECTS/2018_Food_Reg_fMRI/09_DATA/food_reg_fmri_01/derivatives/fmriprep/sub-\""
   ]
  },
  {
   "cell_type": "code",
   "execution_count": 31,
   "metadata": {},
   "outputs": [],
   "source": [
    "subjects= list(range(101,105)) + list(range(106,113))+ [114] + [116] + list(range(118,122)) + list(range(123,127)) + list(range(129,138)) + list(range(139,141)) + list(range(142,149)) + [150] + list(range(152,157)) + list(range(162,165))"
   ]
  },
  {
   "cell_type": "code",
   "execution_count": 6,
   "metadata": {},
   "outputs": [],
   "source": [
    "subjects= list(range(157,159)) "
   ]
  },
  {
   "cell_type": "code",
   "execution_count": 7,
   "metadata": {},
   "outputs": [
    {
     "data": {
      "text/plain": [
       "2"
      ]
     },
     "execution_count": 7,
     "metadata": {},
     "output_type": "execute_result"
    }
   ],
   "source": [
    "len(subjects)"
   ]
  },
  {
   "cell_type": "code",
   "execution_count": 8,
   "metadata": {
    "collapsed": true
   },
   "outputs": [],
   "source": [
    "runs = np.arange(1,10)"
   ]
  },
  {
   "cell_type": "markdown",
   "metadata": {},
   "source": [
    "# Process (parallel)"
   ]
  },
  {
   "cell_type": "code",
   "execution_count": 11,
   "metadata": {},
   "outputs": [
    {
     "name": "stdout",
     "output_type": "stream",
     "text": [
      "Process 10038 smoothing subject 158, run 1...\n",
      "Process 10037 smoothing subject 157, run 1...\n",
      "Process 10038 smoothing subject 158, run 2...\n",
      "Process 10037 smoothing subject 157, run 2...\n",
      "Process 10038 smoothing subject 158, run 3...\n",
      "Process 10037 smoothing subject 157, run 3...\n",
      "Process 10038 smoothing subject 158, run 4...\n",
      "Process 10037 smoothing subject 157, run 4...\n",
      "Process 10038 smoothing subject 158, run 5...\n",
      "Process 10037 smoothing subject 157, run 5...\n",
      "Process 10038 smoothing subject 158, run 6...\n",
      "Process 10037 smoothing subject 157, run 6...\n",
      "Process 10038 smoothing subject 158, run 7...\n",
      "Process 10037 smoothing subject 157, run 7...\n",
      "Process 10038 smoothing subject 158, run 8...\n",
      "Process 10037 smoothing subject 157, run 8...\n",
      "Process 10038 smoothing subject 158, run 9...\n",
      "Process 10037 smoothing subject 157, run 9...\n"
     ]
    }
   ],
   "source": [
    "with concurrent.futures.ProcessPoolExecutor() as executor:\n",
    "    null = tuple(executor.map(smoothing, subjects))"
   ]
  },
  {
   "cell_type": "markdown",
   "metadata": {},
   "source": [
    "# Functions"
   ]
  },
  {
   "cell_type": "markdown",
   "metadata": {},
   "source": [
    "Note that you need to define the smoothing level and the input and output files in the function..."
   ]
  },
  {
   "cell_type": "markdown",
   "metadata": {},
   "source": [
    "**For my own reference**\n",
    "\n",
    "---\n",
    "Note that subjects 142 onwards have different naming conventions coming from fmriprep...\n",
    "- sub-143_task-choose_run-01_space-MNI152NLin2009cAsym_desc-preproc_bold.nii.gz\n",
    "- sub-140_task-choose_run-01_bold_space-MNI152NLin2009cAsym_preproc.nii.gz\n",
    "\n",
    "This also applies to the non aggressive aroma `gz` files."
   ]
  },
  {
   "cell_type": "code",
   "execution_count": 10,
   "metadata": {
    "collapsed": true
   },
   "outputs": [],
   "source": [
    "#for subject in subjects:\n",
    "def smoothing(subject):\n",
    "    for run in runs:\n",
    "        # status\n",
    "        print(f'Process {os.getpid()} smoothing subject {subject}, run {run}...')\n",
    "\n",
    "        # smooth\n",
    "        smoothing_kernel = 8\n",
    "        \n",
    "        smooth_func_img = image.smooth_img(root_path + str(subject) + \"/func/sub-\" + str(subject) + \\\n",
    "                                           \"_task-choose_run-0\" + str(run) + \\\n",
    "                                           \"_space-MNI152NLin2009cAsym_desc-preproc_bold.nii.gz\", fwhm=smoothing_kernel)\n",
    "        # save\n",
    "        smooth_func_img.to_filename(root_path + str(subject) + \"/func/sub-\" + str(subject) + \\\n",
    "                                    \"_task-choose_run-0\" + str(run) + \\\n",
    "                                    \"_bold_space-MNI152NLin2009cAsym_preproc_8mm.nii\") "
   ]
  }
 ],
 "metadata": {
  "kernelspec": {
   "display_name": "Python [conda env:python3]",
   "language": "python",
   "name": "conda-env-python3-py"
  },
  "language_info": {
   "codemirror_mode": {
    "name": "ipython",
    "version": 3
   },
   "file_extension": ".py",
   "mimetype": "text/x-python",
   "name": "python",
   "nbconvert_exporter": "python",
   "pygments_lexer": "ipython3",
   "version": "3.6.6"
  },
  "toc": {
   "nav_menu": {},
   "number_sections": true,
   "sideBar": true,
   "skip_h1_title": false,
   "title_cell": "Table of Contents",
   "title_sidebar": "Contents",
   "toc_cell": true,
   "toc_position": {},
   "toc_section_display": true,
   "toc_window_display": true
  }
 },
 "nbformat": 4,
 "nbformat_minor": 2
}
