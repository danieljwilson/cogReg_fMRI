{
 "cells": [
  {
   "cell_type": "markdown",
   "metadata": {
    "toc": true
   },
   "source": [
    "<h1>Table of Contents<span class=\"tocSkip\"></span></h1>\n",
    "<div class=\"toc\"><ul class=\"toc-item\"><li><span><a href=\"#Querying-the-MRIQC-Web-API\" data-toc-modified-id=\"Querying-the-MRIQC-Web-API-1\"><span class=\"toc-item-num\">1&nbsp;&nbsp;</span>Querying the MRIQC Web API</a></span><ul class=\"toc-item\"><li><span><a href=\"#Preparation\" data-toc-modified-id=\"Preparation-1.1\"><span class=\"toc-item-num\">1.1&nbsp;&nbsp;</span>Preparation</a></span></li><li><span><a href=\"#Fetch-IQMs\" data-toc-modified-id=\"Fetch-IQMs-1.2\"><span class=\"toc-item-num\">1.2&nbsp;&nbsp;</span>Fetch IQMs</a></span><ul class=\"toc-item\"><li><span><a href=\"#Chris-Filo\" data-toc-modified-id=\"Chris-Filo-1.2.1\"><span class=\"toc-item-num\">1.2.1&nbsp;&nbsp;</span>Chris Filo</a></span></li></ul></li><li><span><a href=\"#Evolution-of-IQMs-submission\" data-toc-modified-id=\"Evolution-of-IQMs-submission-1.3\"><span class=\"toc-item-num\">1.3&nbsp;&nbsp;</span>Evolution of IQMs submission</a></span></li><li><span><a href=\"#Playing-with-T1w-IQMs\" data-toc-modified-id=\"Playing-with-T1w-IQMs-1.4\"><span class=\"toc-item-num\">1.4&nbsp;&nbsp;</span>Playing with T1w IQMs</a></span></li><li><span><a href=\"#Playing-with-BOLD-IQMs\" data-toc-modified-id=\"Playing-with-BOLD-IQMs-1.5\"><span class=\"toc-item-num\">1.5&nbsp;&nbsp;</span>Playing with BOLD IQMs</a></span></li></ul></li></ul></div>"
   ]
  },
  {
   "cell_type": "markdown",
   "metadata": {},
   "source": [
    "# Querying the MRIQC Web API\n",
    "\n",
    "This notebook shows how the web-API can be leveraged to analyze the image quality metrics (IQMs) that have been extracted with MRIQC\n",
    "\n",
    "This notebook is a derivative work of https://gist.github.com/chrisfilo/eccdb8b98f8e74d24a3395a49fbadf03\n",
    "\n",
    "Referring to this paper: https://www.biorxiv.org/content/biorxiv/early/2017/11/09/216671.full.pdf\n"
   ]
  },
  {
   "cell_type": "code",
   "execution_count": 10,
   "metadata": {
    "collapsed": true
   },
   "outputs": [],
   "source": [
    "import pandas as pd\n",
    "from json import load\n",
    "import urllib.request, json \n",
    "from pandas.io.json import json_normalize\n",
    "import seaborn as sns\n",
    "import pylab as plt\n",
    "import multiprocessing as mp\n",
    "import numpy as np\n",
    "%matplotlib inline\n"
   ]
  },
  {
   "cell_type": "markdown",
   "metadata": {},
   "source": [
    "## Preparation\n",
    "\n",
    "Let's define a function that will query the appropriate endpoint and a helper function to plot some distributions (at the bottom of this notebook)."
   ]
  },
  {
   "cell_type": "code",
   "execution_count": 14,
   "metadata": {
    "collapsed": true
   },
   "outputs": [],
   "source": [
    "def get_iqms(modality, versions=None, software='mriqc'):\n",
    "    \"\"\"\n",
    "    Grab all iqms for the given modality and the list of versions\n",
    "    \"\"\"\n",
    "    url_root = 'https://mriqc.nimh.nih.gov/api/v1/{modality}?{query}'\n",
    "    page = 1\n",
    "    dfs = []\n",
    "    \n",
    "    if versions is None:\n",
    "        versions = ['*']\n",
    "\n",
    "    for version in versions:\n",
    "        while True:\n",
    "            query = []\n",
    "            \n",
    "            if software is not None:\n",
    "                query.append('\"provenance.software\":\"%s\"' % software)\n",
    "            \n",
    "            if version != '*':\n",
    "                query.append('\"provenance.version\":\"%s\"' % version)\n",
    "                \n",
    "            page_url = url_root.format(\n",
    "                modality=modality,\n",
    "                query='where={%s}&page=%d' % (','.join(query), page)\n",
    "            )\n",
    "            with urllib.request.urlopen(page_url) as url:\n",
    "                data = json.loads(url.read().decode())\n",
    "                dfs.append(json_normalize(data['_items']))\n",
    "                if 'next' not in data['_links'].keys():\n",
    "                    break\n",
    "                else:\n",
    "                    page += 1\n",
    "# try:\n",
    "#     page = request.urlopen(urls).read()\n",
    "# except (http.client.IncompleteRead) as e:\n",
    "#     page = e.partial\n",
    "    # Compose a pandas dataframe\n",
    "    \n",
    "    return pd.concat(dfs, ignore_index=True)\n",
    "\n",
    "\n",
    "def plot_measure(data, xlabel=None, label=None, ax=None, min=None, max=None):\n",
    "    \"\"\"\n",
    "    Distribution plot of a given measure\n",
    "    \"\"\"\n",
    "    sns.distplot(data, ax=ax, label=label)\n",
    "    \n",
    "    if xlabel is not None:\n",
    "        ax.set_xlabel(xlabel)\n",
    "    \n",
    "    if min is None:\n",
    "        min = np.percentile(data, 0.5)\n",
    "    \n",
    "    if max is None:\n",
    "        max = np.percentile(data, 99.5)\n",
    "    ax.set_xlim((min, max))\n",
    "\n",
    "    "
   ]
  },
  {
   "cell_type": "markdown",
   "metadata": {},
   "source": [
    "## Fetch IQMs\n",
    "\n",
    "Let's fetch IQMs for the two principal modalities of MRIQC, T1-weighted images and BOLD-fMRI. Filter out repeated images to obtain unique records."
   ]
  },
  {
   "cell_type": "code",
   "execution_count": 12,
   "metadata": {
    "collapsed": true
   },
   "outputs": [
    {
     "ename": "KeyboardInterrupt",
     "evalue": "",
     "output_type": "error",
     "traceback": [
      "\u001b[0;31m---------------------------------------------------------------------------\u001b[0m",
      "\u001b[0;31mKeyboardInterrupt\u001b[0m                         Traceback (most recent call last)",
      "\u001b[0;32m<ipython-input-12-ecd1385e198a>\u001b[0m in \u001b[0;36m<module>\u001b[0;34m()\u001b[0m\n\u001b[1;32m      1\u001b[0m \u001b[0;31m# T1\u001b[0m\u001b[0;34m\u001b[0m\u001b[0;34m\u001b[0m\u001b[0m\n\u001b[0;32m----> 2\u001b[0;31m \u001b[0mdf_t1w\u001b[0m \u001b[0;34m=\u001b[0m \u001b[0mget_iqms\u001b[0m\u001b[0;34m(\u001b[0m\u001b[0;34m'T1w'\u001b[0m\u001b[0;34m,\u001b[0m \u001b[0msoftware\u001b[0m\u001b[0;34m=\u001b[0m\u001b[0;32mNone\u001b[0m\u001b[0;34m)\u001b[0m\u001b[0;34m\u001b[0m\u001b[0m\n\u001b[0m\u001b[1;32m      3\u001b[0m \u001b[0mdf_t1w_unique\u001b[0m \u001b[0;34m=\u001b[0m \u001b[0mdf_t1w\u001b[0m\u001b[0;34m.\u001b[0m\u001b[0mdrop_duplicates\u001b[0m\u001b[0;34m(\u001b[0m\u001b[0msubset\u001b[0m\u001b[0;34m=\u001b[0m\u001b[0;34m[\u001b[0m\u001b[0;34m'provenance.md5sum'\u001b[0m\u001b[0;34m]\u001b[0m\u001b[0;34m)\u001b[0m\u001b[0;34m\u001b[0m\u001b[0m\n",
      "\u001b[0;32m<ipython-input-11-01aec802700a>\u001b[0m in \u001b[0;36mget_iqms\u001b[0;34m(modality, versions, software)\u001b[0m\n\u001b[1;32m     25\u001b[0m             )\n\u001b[1;32m     26\u001b[0m             \u001b[0;32mwith\u001b[0m \u001b[0murllib\u001b[0m\u001b[0;34m.\u001b[0m\u001b[0mrequest\u001b[0m\u001b[0;34m.\u001b[0m\u001b[0murlopen\u001b[0m\u001b[0;34m(\u001b[0m\u001b[0mpage_url\u001b[0m\u001b[0;34m)\u001b[0m \u001b[0;32mas\u001b[0m \u001b[0murl\u001b[0m\u001b[0;34m:\u001b[0m\u001b[0;34m\u001b[0m\u001b[0m\n\u001b[0;32m---> 27\u001b[0;31m                 \u001b[0mdata\u001b[0m \u001b[0;34m=\u001b[0m \u001b[0mjson\u001b[0m\u001b[0;34m.\u001b[0m\u001b[0mloads\u001b[0m\u001b[0;34m(\u001b[0m\u001b[0murl\u001b[0m\u001b[0;34m.\u001b[0m\u001b[0mread\u001b[0m\u001b[0;34m(\u001b[0m\u001b[0;34m)\u001b[0m\u001b[0;34m.\u001b[0m\u001b[0mdecode\u001b[0m\u001b[0;34m(\u001b[0m\u001b[0;34m)\u001b[0m\u001b[0;34m)\u001b[0m\u001b[0;34m\u001b[0m\u001b[0m\n\u001b[0m\u001b[1;32m     28\u001b[0m                 \u001b[0mdfs\u001b[0m\u001b[0;34m.\u001b[0m\u001b[0mappend\u001b[0m\u001b[0;34m(\u001b[0m\u001b[0mjson_normalize\u001b[0m\u001b[0;34m(\u001b[0m\u001b[0mdata\u001b[0m\u001b[0;34m[\u001b[0m\u001b[0;34m'_items'\u001b[0m\u001b[0;34m]\u001b[0m\u001b[0;34m)\u001b[0m\u001b[0;34m)\u001b[0m\u001b[0;34m\u001b[0m\u001b[0m\n\u001b[1;32m     29\u001b[0m                 \u001b[0;32mif\u001b[0m \u001b[0;34m'next'\u001b[0m \u001b[0;32mnot\u001b[0m \u001b[0;32min\u001b[0m \u001b[0mdata\u001b[0m\u001b[0;34m[\u001b[0m\u001b[0;34m'_links'\u001b[0m\u001b[0;34m]\u001b[0m\u001b[0;34m.\u001b[0m\u001b[0mkeys\u001b[0m\u001b[0;34m(\u001b[0m\u001b[0;34m)\u001b[0m\u001b[0;34m:\u001b[0m\u001b[0;34m\u001b[0m\u001b[0m\n",
      "\u001b[0;32m~/anaconda/envs/python3/lib/python3.6/http/client.py\u001b[0m in \u001b[0;36mread\u001b[0;34m(self, amt)\u001b[0m\n\u001b[1;32m    460\u001b[0m             \u001b[0;32melse\u001b[0m\u001b[0;34m:\u001b[0m\u001b[0;34m\u001b[0m\u001b[0m\n\u001b[1;32m    461\u001b[0m                 \u001b[0;32mtry\u001b[0m\u001b[0;34m:\u001b[0m\u001b[0;34m\u001b[0m\u001b[0m\n\u001b[0;32m--> 462\u001b[0;31m                     \u001b[0ms\u001b[0m \u001b[0;34m=\u001b[0m \u001b[0mself\u001b[0m\u001b[0;34m.\u001b[0m\u001b[0m_safe_read\u001b[0m\u001b[0;34m(\u001b[0m\u001b[0mself\u001b[0m\u001b[0;34m.\u001b[0m\u001b[0mlength\u001b[0m\u001b[0;34m)\u001b[0m\u001b[0;34m\u001b[0m\u001b[0m\n\u001b[0m\u001b[1;32m    463\u001b[0m                 \u001b[0;32mexcept\u001b[0m \u001b[0mIncompleteRead\u001b[0m\u001b[0;34m:\u001b[0m\u001b[0;34m\u001b[0m\u001b[0m\n\u001b[1;32m    464\u001b[0m                     \u001b[0mself\u001b[0m\u001b[0;34m.\u001b[0m\u001b[0m_close_conn\u001b[0m\u001b[0;34m(\u001b[0m\u001b[0;34m)\u001b[0m\u001b[0;34m\u001b[0m\u001b[0m\n",
      "\u001b[0;32m~/anaconda/envs/python3/lib/python3.6/http/client.py\u001b[0m in \u001b[0;36m_safe_read\u001b[0;34m(self, amt)\u001b[0m\n\u001b[1;32m    610\u001b[0m         \u001b[0ms\u001b[0m \u001b[0;34m=\u001b[0m \u001b[0;34m[\u001b[0m\u001b[0;34m]\u001b[0m\u001b[0;34m\u001b[0m\u001b[0m\n\u001b[1;32m    611\u001b[0m         \u001b[0;32mwhile\u001b[0m \u001b[0mamt\u001b[0m \u001b[0;34m>\u001b[0m \u001b[0;36m0\u001b[0m\u001b[0;34m:\u001b[0m\u001b[0;34m\u001b[0m\u001b[0m\n\u001b[0;32m--> 612\u001b[0;31m             \u001b[0mchunk\u001b[0m \u001b[0;34m=\u001b[0m \u001b[0mself\u001b[0m\u001b[0;34m.\u001b[0m\u001b[0mfp\u001b[0m\u001b[0;34m.\u001b[0m\u001b[0mread\u001b[0m\u001b[0;34m(\u001b[0m\u001b[0mmin\u001b[0m\u001b[0;34m(\u001b[0m\u001b[0mamt\u001b[0m\u001b[0;34m,\u001b[0m \u001b[0mMAXAMOUNT\u001b[0m\u001b[0;34m)\u001b[0m\u001b[0;34m)\u001b[0m\u001b[0;34m\u001b[0m\u001b[0m\n\u001b[0m\u001b[1;32m    613\u001b[0m             \u001b[0;32mif\u001b[0m \u001b[0;32mnot\u001b[0m \u001b[0mchunk\u001b[0m\u001b[0;34m:\u001b[0m\u001b[0;34m\u001b[0m\u001b[0m\n\u001b[1;32m    614\u001b[0m                 \u001b[0;32mraise\u001b[0m \u001b[0mIncompleteRead\u001b[0m\u001b[0;34m(\u001b[0m\u001b[0;34mb''\u001b[0m\u001b[0;34m.\u001b[0m\u001b[0mjoin\u001b[0m\u001b[0;34m(\u001b[0m\u001b[0ms\u001b[0m\u001b[0;34m)\u001b[0m\u001b[0;34m,\u001b[0m \u001b[0mamt\u001b[0m\u001b[0;34m)\u001b[0m\u001b[0;34m\u001b[0m\u001b[0m\n",
      "\u001b[0;32m~/anaconda/envs/python3/lib/python3.6/socket.py\u001b[0m in \u001b[0;36mreadinto\u001b[0;34m(self, b)\u001b[0m\n\u001b[1;32m    584\u001b[0m         \u001b[0;32mwhile\u001b[0m \u001b[0;32mTrue\u001b[0m\u001b[0;34m:\u001b[0m\u001b[0;34m\u001b[0m\u001b[0m\n\u001b[1;32m    585\u001b[0m             \u001b[0;32mtry\u001b[0m\u001b[0;34m:\u001b[0m\u001b[0;34m\u001b[0m\u001b[0m\n\u001b[0;32m--> 586\u001b[0;31m                 \u001b[0;32mreturn\u001b[0m \u001b[0mself\u001b[0m\u001b[0;34m.\u001b[0m\u001b[0m_sock\u001b[0m\u001b[0;34m.\u001b[0m\u001b[0mrecv_into\u001b[0m\u001b[0;34m(\u001b[0m\u001b[0mb\u001b[0m\u001b[0;34m)\u001b[0m\u001b[0;34m\u001b[0m\u001b[0m\n\u001b[0m\u001b[1;32m    587\u001b[0m             \u001b[0;32mexcept\u001b[0m \u001b[0mtimeout\u001b[0m\u001b[0;34m:\u001b[0m\u001b[0;34m\u001b[0m\u001b[0m\n\u001b[1;32m    588\u001b[0m                 \u001b[0mself\u001b[0m\u001b[0;34m.\u001b[0m\u001b[0m_timeout_occurred\u001b[0m \u001b[0;34m=\u001b[0m \u001b[0;32mTrue\u001b[0m\u001b[0;34m\u001b[0m\u001b[0m\n",
      "\u001b[0;32m~/anaconda/envs/python3/lib/python3.6/ssl.py\u001b[0m in \u001b[0;36mrecv_into\u001b[0;34m(self, buffer, nbytes, flags)\u001b[0m\n\u001b[1;32m   1007\u001b[0m                   \u001b[0;34m\"non-zero flags not allowed in calls to recv_into() on %s\"\u001b[0m \u001b[0;34m%\u001b[0m\u001b[0;34m\u001b[0m\u001b[0m\n\u001b[1;32m   1008\u001b[0m                   self.__class__)\n\u001b[0;32m-> 1009\u001b[0;31m             \u001b[0;32mreturn\u001b[0m \u001b[0mself\u001b[0m\u001b[0;34m.\u001b[0m\u001b[0mread\u001b[0m\u001b[0;34m(\u001b[0m\u001b[0mnbytes\u001b[0m\u001b[0;34m,\u001b[0m \u001b[0mbuffer\u001b[0m\u001b[0;34m)\u001b[0m\u001b[0;34m\u001b[0m\u001b[0m\n\u001b[0m\u001b[1;32m   1010\u001b[0m         \u001b[0;32melse\u001b[0m\u001b[0;34m:\u001b[0m\u001b[0;34m\u001b[0m\u001b[0m\n\u001b[1;32m   1011\u001b[0m             \u001b[0;32mreturn\u001b[0m \u001b[0msocket\u001b[0m\u001b[0;34m.\u001b[0m\u001b[0mrecv_into\u001b[0m\u001b[0;34m(\u001b[0m\u001b[0mself\u001b[0m\u001b[0;34m,\u001b[0m \u001b[0mbuffer\u001b[0m\u001b[0;34m,\u001b[0m \u001b[0mnbytes\u001b[0m\u001b[0;34m,\u001b[0m \u001b[0mflags\u001b[0m\u001b[0;34m)\u001b[0m\u001b[0;34m\u001b[0m\u001b[0m\n",
      "\u001b[0;32m~/anaconda/envs/python3/lib/python3.6/ssl.py\u001b[0m in \u001b[0;36mread\u001b[0;34m(self, len, buffer)\u001b[0m\n\u001b[1;32m    869\u001b[0m             \u001b[0;32mraise\u001b[0m \u001b[0mValueError\u001b[0m\u001b[0;34m(\u001b[0m\u001b[0;34m\"Read on closed or unwrapped SSL socket.\"\u001b[0m\u001b[0;34m)\u001b[0m\u001b[0;34m\u001b[0m\u001b[0m\n\u001b[1;32m    870\u001b[0m         \u001b[0;32mtry\u001b[0m\u001b[0;34m:\u001b[0m\u001b[0;34m\u001b[0m\u001b[0m\n\u001b[0;32m--> 871\u001b[0;31m             \u001b[0;32mreturn\u001b[0m \u001b[0mself\u001b[0m\u001b[0;34m.\u001b[0m\u001b[0m_sslobj\u001b[0m\u001b[0;34m.\u001b[0m\u001b[0mread\u001b[0m\u001b[0;34m(\u001b[0m\u001b[0mlen\u001b[0m\u001b[0;34m,\u001b[0m \u001b[0mbuffer\u001b[0m\u001b[0;34m)\u001b[0m\u001b[0;34m\u001b[0m\u001b[0m\n\u001b[0m\u001b[1;32m    872\u001b[0m         \u001b[0;32mexcept\u001b[0m \u001b[0mSSLError\u001b[0m \u001b[0;32mas\u001b[0m \u001b[0mx\u001b[0m\u001b[0;34m:\u001b[0m\u001b[0;34m\u001b[0m\u001b[0m\n\u001b[1;32m    873\u001b[0m             \u001b[0;32mif\u001b[0m \u001b[0mx\u001b[0m\u001b[0;34m.\u001b[0m\u001b[0margs\u001b[0m\u001b[0;34m[\u001b[0m\u001b[0;36m0\u001b[0m\u001b[0;34m]\u001b[0m \u001b[0;34m==\u001b[0m \u001b[0mSSL_ERROR_EOF\u001b[0m \u001b[0;32mand\u001b[0m \u001b[0mself\u001b[0m\u001b[0;34m.\u001b[0m\u001b[0msuppress_ragged_eofs\u001b[0m\u001b[0;34m:\u001b[0m\u001b[0;34m\u001b[0m\u001b[0m\n",
      "\u001b[0;32m~/anaconda/envs/python3/lib/python3.6/ssl.py\u001b[0m in \u001b[0;36mread\u001b[0;34m(self, len, buffer)\u001b[0m\n\u001b[1;32m    629\u001b[0m         \"\"\"\n\u001b[1;32m    630\u001b[0m         \u001b[0;32mif\u001b[0m \u001b[0mbuffer\u001b[0m \u001b[0;32mis\u001b[0m \u001b[0;32mnot\u001b[0m \u001b[0;32mNone\u001b[0m\u001b[0;34m:\u001b[0m\u001b[0;34m\u001b[0m\u001b[0m\n\u001b[0;32m--> 631\u001b[0;31m             \u001b[0mv\u001b[0m \u001b[0;34m=\u001b[0m \u001b[0mself\u001b[0m\u001b[0;34m.\u001b[0m\u001b[0m_sslobj\u001b[0m\u001b[0;34m.\u001b[0m\u001b[0mread\u001b[0m\u001b[0;34m(\u001b[0m\u001b[0mlen\u001b[0m\u001b[0;34m,\u001b[0m \u001b[0mbuffer\u001b[0m\u001b[0;34m)\u001b[0m\u001b[0;34m\u001b[0m\u001b[0m\n\u001b[0m\u001b[1;32m    632\u001b[0m         \u001b[0;32melse\u001b[0m\u001b[0;34m:\u001b[0m\u001b[0;34m\u001b[0m\u001b[0m\n\u001b[1;32m    633\u001b[0m             \u001b[0mv\u001b[0m \u001b[0;34m=\u001b[0m \u001b[0mself\u001b[0m\u001b[0;34m.\u001b[0m\u001b[0m_sslobj\u001b[0m\u001b[0;34m.\u001b[0m\u001b[0mread\u001b[0m\u001b[0;34m(\u001b[0m\u001b[0mlen\u001b[0m\u001b[0;34m)\u001b[0m\u001b[0;34m\u001b[0m\u001b[0m\n",
      "\u001b[0;31mKeyboardInterrupt\u001b[0m: "
     ]
    }
   ],
   "source": [
    "# T1\n",
    "df_t1w = get_iqms('T1w', software=None)\n",
    "df_t1w_unique = df_t1w.drop_duplicates(subset=['provenance.md5sum'])\n"
   ]
  },
  {
   "cell_type": "code",
   "execution_count": 17,
   "metadata": {},
   "outputs": [
    {
     "name": "stderr",
     "output_type": "stream",
     "text": [
      "/Users/djw/anaconda/envs/python3/lib/python3.6/site-packages/ipykernel/__main__.py:35: FutureWarning: Sorting because non-concatenation axis is not aligned. A future version\n",
      "of pandas will change to not sort by default.\n",
      "\n",
      "To accept the future behavior, pass 'sort=False'.\n",
      "\n",
      "To retain the current behavior and silence the warning, pass 'sort=True'.\n",
      "\n"
     ]
    }
   ],
   "source": [
    "# BOLD\n",
    "df_bold = get_iqms('bold')\n",
    "df_bold_unique = df_bold.drop_duplicates(subset=['provenance.md5sum'])\n"
   ]
  },
  {
   "cell_type": "markdown",
   "metadata": {
    "heading_collapsed": true
   },
   "source": [
    "### Chris Filo"
   ]
  },
  {
   "cell_type": "code",
   "execution_count": 4,
   "metadata": {
    "collapsed": true,
    "hidden": true
   },
   "outputs": [],
   "source": [
    "url_root = 'https://mriqc.nimh.nih.gov/api/v1/bold'\n",
    "software = 'mriqc'\n",
    "version = '0.9.6'\n",
    "\n",
    "page = 1\n",
    "dfs = []\n",
    "while True:\n",
    "    page_url = url_root + \\\n",
    "      '?where={\"provenance.software\":\"%s\",\"provenance.version\":\"%s\"}'%(software,version) + \\\n",
    "      '&page=%d'%page\n",
    "    with urllib.request.urlopen(page_url) as url:\n",
    "        data = json.loads(url.read().decode())\n",
    "        dfs.append(json_normalize(data['_items']))\n",
    "        if 'next' not in data['_links'].keys():\n",
    "            break\n",
    "        else:\n",
    "            page += 1"
   ]
  },
  {
   "cell_type": "code",
   "execution_count": 5,
   "metadata": {
    "hidden": true
   },
   "outputs": [
    {
     "name": "stderr",
     "output_type": "stream",
     "text": [
      "/Users/djw/anaconda/envs/python3/lib/python3.6/site-packages/ipykernel/__main__.py:1: FutureWarning: Sorting because non-concatenation axis is not aligned. A future version\n",
      "of pandas will change to not sort by default.\n",
      "\n",
      "To accept the future behavior, pass 'sort=False'.\n",
      "\n",
      "To retain the current behavior and silence the warning, pass 'sort=True'.\n",
      "\n",
      "  if __name__ == '__main__':\n"
     ]
    },
    {
     "data": {
      "text/html": [
       "<div>\n",
       "<style scoped>\n",
       "    .dataframe tbody tr th:only-of-type {\n",
       "        vertical-align: middle;\n",
       "    }\n",
       "\n",
       "    .dataframe tbody tr th {\n",
       "        vertical-align: top;\n",
       "    }\n",
       "\n",
       "    .dataframe thead th {\n",
       "        text-align: right;\n",
       "    }\n",
       "</style>\n",
       "<table border=\"1\" class=\"dataframe\">\n",
       "  <thead>\n",
       "    <tr style=\"text-align: right;\">\n",
       "      <th></th>\n",
       "      <th>aor</th>\n",
       "      <th>aqi</th>\n",
       "      <th>bids_meta.EchoTime</th>\n",
       "      <th>bids_meta.EchoTrainLength</th>\n",
       "      <th>bids_meta.EffectiveEchoSpacing</th>\n",
       "      <th>bids_meta.FlipAngle</th>\n",
       "      <th>bids_meta.ImagingFrequency</th>\n",
       "      <th>bids_meta.InversionTime</th>\n",
       "      <th>bids_meta.MagneticFieldStrength</th>\n",
       "      <th>bids_meta.MultibandAccelerationFactor</th>\n",
       "      <th>...</th>\n",
       "      <th>summary_bg_stdv</th>\n",
       "      <th>summary_fg_k</th>\n",
       "      <th>summary_fg_mad</th>\n",
       "      <th>summary_fg_mean</th>\n",
       "      <th>summary_fg_median</th>\n",
       "      <th>summary_fg_n</th>\n",
       "      <th>summary_fg_p05</th>\n",
       "      <th>summary_fg_p95</th>\n",
       "      <th>summary_fg_stdv</th>\n",
       "      <th>tsnr</th>\n",
       "    </tr>\n",
       "  </thead>\n",
       "  <tbody>\n",
       "    <tr>\n",
       "      <th>count</th>\n",
       "      <td>12255.000000</td>\n",
       "      <td>12255.000000</td>\n",
       "      <td>11135.000000</td>\n",
       "      <td>1076.000000</td>\n",
       "      <td>8329.000000</td>\n",
       "      <td>11003.000000</td>\n",
       "      <td>144.0</td>\n",
       "      <td>144.0</td>\n",
       "      <td>8104.000000</td>\n",
       "      <td>460.000000</td>\n",
       "      <td>...</td>\n",
       "      <td>12255.000000</td>\n",
       "      <td>12255.000000</td>\n",
       "      <td>12255.000000</td>\n",
       "      <td>12255.000000</td>\n",
       "      <td>12255.000000</td>\n",
       "      <td>12255.000000</td>\n",
       "      <td>12255.000000</td>\n",
       "      <td>1.225500e+04</td>\n",
       "      <td>12255.000000</td>\n",
       "      <td>12255.000000</td>\n",
       "    </tr>\n",
       "    <tr>\n",
       "      <th>mean</th>\n",
       "      <td>0.004077</td>\n",
       "      <td>0.008763</td>\n",
       "      <td>0.030391</td>\n",
       "      <td>27.576208</td>\n",
       "      <td>0.000424</td>\n",
       "      <td>80.041534</td>\n",
       "      <td>123.0</td>\n",
       "      <td>0.0</td>\n",
       "      <td>2.987167</td>\n",
       "      <td>3.454348</td>\n",
       "      <td>...</td>\n",
       "      <td>491.496053</td>\n",
       "      <td>2.686660</td>\n",
       "      <td>1468.343666</td>\n",
       "      <td>8538.771778</td>\n",
       "      <td>8567.603592</td>\n",
       "      <td>46728.045451</td>\n",
       "      <td>5577.212722</td>\n",
       "      <td>1.134637e+04</td>\n",
       "      <td>1791.423833</td>\n",
       "      <td>56.699011</td>\n",
       "    </tr>\n",
       "    <tr>\n",
       "      <th>std</th>\n",
       "      <td>0.005713</td>\n",
       "      <td>0.010857</td>\n",
       "      <td>0.026336</td>\n",
       "      <td>11.839813</td>\n",
       "      <td>0.000166</td>\n",
       "      <td>11.343259</td>\n",
       "      <td>0.0</td>\n",
       "      <td>0.0</td>\n",
       "      <td>0.159702</td>\n",
       "      <td>0.498454</td>\n",
       "      <td>...</td>\n",
       "      <td>3814.158304</td>\n",
       "      <td>1.432926</td>\n",
       "      <td>11909.593958</td>\n",
       "      <td>73863.113441</td>\n",
       "      <td>74389.583089</td>\n",
       "      <td>43293.603770</td>\n",
       "      <td>49322.126820</td>\n",
       "      <td>9.630666e+04</td>\n",
       "      <td>14602.221695</td>\n",
       "      <td>18.065464</td>\n",
       "    </tr>\n",
       "    <tr>\n",
       "      <th>min</th>\n",
       "      <td>0.000193</td>\n",
       "      <td>0.000852</td>\n",
       "      <td>0.003500</td>\n",
       "      <td>1.000000</td>\n",
       "      <td>0.000042</td>\n",
       "      <td>7.000000</td>\n",
       "      <td>123.0</td>\n",
       "      <td>0.0</td>\n",
       "      <td>1.000000</td>\n",
       "      <td>3.000000</td>\n",
       "      <td>...</td>\n",
       "      <td>6.518906</td>\n",
       "      <td>-0.945427</td>\n",
       "      <td>19.791393</td>\n",
       "      <td>134.614075</td>\n",
       "      <td>136.134552</td>\n",
       "      <td>14446.000000</td>\n",
       "      <td>72.217881</td>\n",
       "      <td>1.741673e+02</td>\n",
       "      <td>27.285780</td>\n",
       "      <td>0.195811</td>\n",
       "    </tr>\n",
       "    <tr>\n",
       "      <th>25%</th>\n",
       "      <td>0.001127</td>\n",
       "      <td>0.004503</td>\n",
       "      <td>0.027000</td>\n",
       "      <td>31.000000</td>\n",
       "      <td>0.000265</td>\n",
       "      <td>78.000000</td>\n",
       "      <td>123.0</td>\n",
       "      <td>0.0</td>\n",
       "      <td>3.000000</td>\n",
       "      <td>3.000000</td>\n",
       "      <td>...</td>\n",
       "      <td>46.713867</td>\n",
       "      <td>1.672910</td>\n",
       "      <td>100.010044</td>\n",
       "      <td>612.806458</td>\n",
       "      <td>597.986023</td>\n",
       "      <td>26054.000000</td>\n",
       "      <td>344.977314</td>\n",
       "      <td>8.478581e+02</td>\n",
       "      <td>140.039185</td>\n",
       "      <td>44.477839</td>\n",
       "    </tr>\n",
       "    <tr>\n",
       "      <th>50%</th>\n",
       "      <td>0.002272</td>\n",
       "      <td>0.006799</td>\n",
       "      <td>0.030000</td>\n",
       "      <td>31.000000</td>\n",
       "      <td>0.000470</td>\n",
       "      <td>78.000000</td>\n",
       "      <td>123.0</td>\n",
       "      <td>0.0</td>\n",
       "      <td>3.000000</td>\n",
       "      <td>3.000000</td>\n",
       "      <td>...</td>\n",
       "      <td>61.091854</td>\n",
       "      <td>2.461779</td>\n",
       "      <td>147.709457</td>\n",
       "      <td>774.391968</td>\n",
       "      <td>770.898193</td>\n",
       "      <td>32189.000000</td>\n",
       "      <td>476.081323</td>\n",
       "      <td>1.087751e+03</td>\n",
       "      <td>187.288010</td>\n",
       "      <td>55.896187</td>\n",
       "    </tr>\n",
       "    <tr>\n",
       "      <th>75%</th>\n",
       "      <td>0.004633</td>\n",
       "      <td>0.010443</td>\n",
       "      <td>0.030000</td>\n",
       "      <td>31.000000</td>\n",
       "      <td>0.000510</td>\n",
       "      <td>90.000000</td>\n",
       "      <td>123.0</td>\n",
       "      <td>0.0</td>\n",
       "      <td>3.000000</td>\n",
       "      <td>4.000000</td>\n",
       "      <td>...</td>\n",
       "      <td>80.454231</td>\n",
       "      <td>3.654854</td>\n",
       "      <td>207.087158</td>\n",
       "      <td>888.819214</td>\n",
       "      <td>892.201630</td>\n",
       "      <td>41472.000000</td>\n",
       "      <td>569.190887</td>\n",
       "      <td>1.254494e+03</td>\n",
       "      <td>248.717461</td>\n",
       "      <td>67.829697</td>\n",
       "    </tr>\n",
       "    <tr>\n",
       "      <th>max</th>\n",
       "      <td>0.146135</td>\n",
       "      <td>0.875518</td>\n",
       "      <td>0.400000</td>\n",
       "      <td>84.000000</td>\n",
       "      <td>0.000730</td>\n",
       "      <td>90.000000</td>\n",
       "      <td>123.0</td>\n",
       "      <td>0.0</td>\n",
       "      <td>3.000000</td>\n",
       "      <td>4.000000</td>\n",
       "      <td>...</td>\n",
       "      <td>51126.781250</td>\n",
       "      <td>12.063769</td>\n",
       "      <td>144198.171875</td>\n",
       "      <td>924981.437500</td>\n",
       "      <td>927293.625000</td>\n",
       "      <td>496934.000000</td>\n",
       "      <td>659703.012500</td>\n",
       "      <td>1.183218e+06</td>\n",
       "      <td>175338.796875</td>\n",
       "      <td>127.314201</td>\n",
       "    </tr>\n",
       "  </tbody>\n",
       "</table>\n",
       "<p>8 rows × 61 columns</p>\n",
       "</div>"
      ],
      "text/plain": [
       "                aor           aqi  bids_meta.EchoTime  \\\n",
       "count  12255.000000  12255.000000        11135.000000   \n",
       "mean       0.004077      0.008763            0.030391   \n",
       "std        0.005713      0.010857            0.026336   \n",
       "min        0.000193      0.000852            0.003500   \n",
       "25%        0.001127      0.004503            0.027000   \n",
       "50%        0.002272      0.006799            0.030000   \n",
       "75%        0.004633      0.010443            0.030000   \n",
       "max        0.146135      0.875518            0.400000   \n",
       "\n",
       "       bids_meta.EchoTrainLength  bids_meta.EffectiveEchoSpacing  \\\n",
       "count                1076.000000                     8329.000000   \n",
       "mean                   27.576208                        0.000424   \n",
       "std                    11.839813                        0.000166   \n",
       "min                     1.000000                        0.000042   \n",
       "25%                    31.000000                        0.000265   \n",
       "50%                    31.000000                        0.000470   \n",
       "75%                    31.000000                        0.000510   \n",
       "max                    84.000000                        0.000730   \n",
       "\n",
       "       bids_meta.FlipAngle  bids_meta.ImagingFrequency  \\\n",
       "count         11003.000000                       144.0   \n",
       "mean             80.041534                       123.0   \n",
       "std              11.343259                         0.0   \n",
       "min               7.000000                       123.0   \n",
       "25%              78.000000                       123.0   \n",
       "50%              78.000000                       123.0   \n",
       "75%              90.000000                       123.0   \n",
       "max              90.000000                       123.0   \n",
       "\n",
       "       bids_meta.InversionTime  bids_meta.MagneticFieldStrength  \\\n",
       "count                    144.0                      8104.000000   \n",
       "mean                       0.0                         2.987167   \n",
       "std                        0.0                         0.159702   \n",
       "min                        0.0                         1.000000   \n",
       "25%                        0.0                         3.000000   \n",
       "50%                        0.0                         3.000000   \n",
       "75%                        0.0                         3.000000   \n",
       "max                        0.0                         3.000000   \n",
       "\n",
       "       bids_meta.MultibandAccelerationFactor      ...       summary_bg_stdv  \\\n",
       "count                             460.000000      ...          12255.000000   \n",
       "mean                                3.454348      ...            491.496053   \n",
       "std                                 0.498454      ...           3814.158304   \n",
       "min                                 3.000000      ...              6.518906   \n",
       "25%                                 3.000000      ...             46.713867   \n",
       "50%                                 3.000000      ...             61.091854   \n",
       "75%                                 4.000000      ...             80.454231   \n",
       "max                                 4.000000      ...          51126.781250   \n",
       "\n",
       "       summary_fg_k  summary_fg_mad  summary_fg_mean  summary_fg_median  \\\n",
       "count  12255.000000    12255.000000     12255.000000       12255.000000   \n",
       "mean       2.686660     1468.343666      8538.771778        8567.603592   \n",
       "std        1.432926    11909.593958     73863.113441       74389.583089   \n",
       "min       -0.945427       19.791393       134.614075         136.134552   \n",
       "25%        1.672910      100.010044       612.806458         597.986023   \n",
       "50%        2.461779      147.709457       774.391968         770.898193   \n",
       "75%        3.654854      207.087158       888.819214         892.201630   \n",
       "max       12.063769   144198.171875    924981.437500      927293.625000   \n",
       "\n",
       "        summary_fg_n  summary_fg_p05  summary_fg_p95  summary_fg_stdv  \\\n",
       "count   12255.000000    12255.000000    1.225500e+04     12255.000000   \n",
       "mean    46728.045451     5577.212722    1.134637e+04      1791.423833   \n",
       "std     43293.603770    49322.126820    9.630666e+04     14602.221695   \n",
       "min     14446.000000       72.217881    1.741673e+02        27.285780   \n",
       "25%     26054.000000      344.977314    8.478581e+02       140.039185   \n",
       "50%     32189.000000      476.081323    1.087751e+03       187.288010   \n",
       "75%     41472.000000      569.190887    1.254494e+03       248.717461   \n",
       "max    496934.000000   659703.012500    1.183218e+06    175338.796875   \n",
       "\n",
       "               tsnr  \n",
       "count  12255.000000  \n",
       "mean      56.699011  \n",
       "std       18.065464  \n",
       "min        0.195811  \n",
       "25%       44.477839  \n",
       "50%       55.896187  \n",
       "75%       67.829697  \n",
       "max      127.314201  \n",
       "\n",
       "[8 rows x 61 columns]"
      ]
     },
     "execution_count": 5,
     "metadata": {},
     "output_type": "execute_result"
    }
   ],
   "source": [
    "df = pd.concat(dfs, ignore_index=True)\n",
    "df.describe()"
   ]
  },
  {
   "cell_type": "code",
   "execution_count": 6,
   "metadata": {
    "hidden": true
   },
   "outputs": [
    {
     "data": {
      "text/html": [
       "<div>\n",
       "<style scoped>\n",
       "    .dataframe tbody tr th:only-of-type {\n",
       "        vertical-align: middle;\n",
       "    }\n",
       "\n",
       "    .dataframe tbody tr th {\n",
       "        vertical-align: top;\n",
       "    }\n",
       "\n",
       "    .dataframe thead th {\n",
       "        text-align: right;\n",
       "    }\n",
       "</style>\n",
       "<table border=\"1\" class=\"dataframe\">\n",
       "  <thead>\n",
       "    <tr style=\"text-align: right;\">\n",
       "      <th></th>\n",
       "      <th>aor</th>\n",
       "      <th>aqi</th>\n",
       "      <th>bids_meta.EchoTime</th>\n",
       "      <th>bids_meta.EchoTrainLength</th>\n",
       "      <th>bids_meta.EffectiveEchoSpacing</th>\n",
       "      <th>bids_meta.FlipAngle</th>\n",
       "      <th>bids_meta.ImagingFrequency</th>\n",
       "      <th>bids_meta.InversionTime</th>\n",
       "      <th>bids_meta.MagneticFieldStrength</th>\n",
       "      <th>bids_meta.MultibandAccelerationFactor</th>\n",
       "      <th>...</th>\n",
       "      <th>summary_bg_stdv</th>\n",
       "      <th>summary_fg_k</th>\n",
       "      <th>summary_fg_mad</th>\n",
       "      <th>summary_fg_mean</th>\n",
       "      <th>summary_fg_median</th>\n",
       "      <th>summary_fg_n</th>\n",
       "      <th>summary_fg_p05</th>\n",
       "      <th>summary_fg_p95</th>\n",
       "      <th>summary_fg_stdv</th>\n",
       "      <th>tsnr</th>\n",
       "    </tr>\n",
       "  </thead>\n",
       "  <tbody>\n",
       "    <tr>\n",
       "      <th>count</th>\n",
       "      <td>10733.000000</td>\n",
       "      <td>10733.000000</td>\n",
       "      <td>9911.000000</td>\n",
       "      <td>932.000000</td>\n",
       "      <td>7926.000000</td>\n",
       "      <td>9781.000000</td>\n",
       "      <td>144.0</td>\n",
       "      <td>144.0</td>\n",
       "      <td>7023.000000</td>\n",
       "      <td>402.000000</td>\n",
       "      <td>...</td>\n",
       "      <td>10733.000000</td>\n",
       "      <td>10733.000000</td>\n",
       "      <td>10733.000000</td>\n",
       "      <td>10733.000000</td>\n",
       "      <td>10733.000000</td>\n",
       "      <td>10733.000000</td>\n",
       "      <td>10733.000000</td>\n",
       "      <td>1.073300e+04</td>\n",
       "      <td>10733.000000</td>\n",
       "      <td>10733.000000</td>\n",
       "    </tr>\n",
       "    <tr>\n",
       "      <th>mean</th>\n",
       "      <td>0.004131</td>\n",
       "      <td>0.008665</td>\n",
       "      <td>0.030283</td>\n",
       "      <td>26.706009</td>\n",
       "      <td>0.000429</td>\n",
       "      <td>80.601268</td>\n",
       "      <td>123.0</td>\n",
       "      <td>0.0</td>\n",
       "      <td>2.985192</td>\n",
       "      <td>3.390547</td>\n",
       "      <td>...</td>\n",
       "      <td>550.519957</td>\n",
       "      <td>2.667194</td>\n",
       "      <td>1650.095460</td>\n",
       "      <td>9618.162530</td>\n",
       "      <td>9651.399650</td>\n",
       "      <td>48333.512997</td>\n",
       "      <td>6288.429882</td>\n",
       "      <td>1.277230e+04</td>\n",
       "      <td>2013.170054</td>\n",
       "      <td>56.880906</td>\n",
       "    </tr>\n",
       "    <tr>\n",
       "      <th>std</th>\n",
       "      <td>0.005874</td>\n",
       "      <td>0.011298</td>\n",
       "      <td>0.027815</td>\n",
       "      <td>11.783467</td>\n",
       "      <td>0.000167</td>\n",
       "      <td>10.463008</td>\n",
       "      <td>0.0</td>\n",
       "      <td>0.0</td>\n",
       "      <td>0.171470</td>\n",
       "      <td>0.488481</td>\n",
       "      <td>...</td>\n",
       "      <td>4072.003524</td>\n",
       "      <td>1.434170</td>\n",
       "      <td>12714.949008</td>\n",
       "      <td>78866.907905</td>\n",
       "      <td>79429.498236</td>\n",
       "      <td>45625.127486</td>\n",
       "      <td>52664.720013</td>\n",
       "      <td>1.028280e+05</td>\n",
       "      <td>15590.012918</td>\n",
       "      <td>18.432748</td>\n",
       "    </tr>\n",
       "    <tr>\n",
       "      <th>min</th>\n",
       "      <td>0.000193</td>\n",
       "      <td>0.000852</td>\n",
       "      <td>0.003500</td>\n",
       "      <td>1.000000</td>\n",
       "      <td>0.000042</td>\n",
       "      <td>7.000000</td>\n",
       "      <td>123.0</td>\n",
       "      <td>0.0</td>\n",
       "      <td>1.000000</td>\n",
       "      <td>3.000000</td>\n",
       "      <td>...</td>\n",
       "      <td>6.518906</td>\n",
       "      <td>-0.945427</td>\n",
       "      <td>19.791393</td>\n",
       "      <td>134.614075</td>\n",
       "      <td>136.134552</td>\n",
       "      <td>14446.000000</td>\n",
       "      <td>72.217881</td>\n",
       "      <td>1.741673e+02</td>\n",
       "      <td>27.285780</td>\n",
       "      <td>0.195811</td>\n",
       "    </tr>\n",
       "    <tr>\n",
       "      <th>25%</th>\n",
       "      <td>0.001152</td>\n",
       "      <td>0.004326</td>\n",
       "      <td>0.027000</td>\n",
       "      <td>31.000000</td>\n",
       "      <td>0.000265</td>\n",
       "      <td>78.000000</td>\n",
       "      <td>123.0</td>\n",
       "      <td>0.0</td>\n",
       "      <td>3.000000</td>\n",
       "      <td>3.000000</td>\n",
       "      <td>...</td>\n",
       "      <td>46.901699</td>\n",
       "      <td>1.628888</td>\n",
       "      <td>100.239799</td>\n",
       "      <td>608.344788</td>\n",
       "      <td>592.881470</td>\n",
       "      <td>26027.000000</td>\n",
       "      <td>337.643221</td>\n",
       "      <td>8.490420e+02</td>\n",
       "      <td>140.262436</td>\n",
       "      <td>44.241425</td>\n",
       "    </tr>\n",
       "    <tr>\n",
       "      <th>50%</th>\n",
       "      <td>0.002304</td>\n",
       "      <td>0.006685</td>\n",
       "      <td>0.030000</td>\n",
       "      <td>31.000000</td>\n",
       "      <td>0.000500</td>\n",
       "      <td>78.000000</td>\n",
       "      <td>123.0</td>\n",
       "      <td>0.0</td>\n",
       "      <td>3.000000</td>\n",
       "      <td>3.000000</td>\n",
       "      <td>...</td>\n",
       "      <td>61.348839</td>\n",
       "      <td>2.462290</td>\n",
       "      <td>147.910660</td>\n",
       "      <td>763.391479</td>\n",
       "      <td>757.787903</td>\n",
       "      <td>31887.000000</td>\n",
       "      <td>460.748070</td>\n",
       "      <td>1.085735e+03</td>\n",
       "      <td>188.763672</td>\n",
       "      <td>56.257191</td>\n",
       "    </tr>\n",
       "    <tr>\n",
       "      <th>75%</th>\n",
       "      <td>0.004635</td>\n",
       "      <td>0.010329</td>\n",
       "      <td>0.030000</td>\n",
       "      <td>31.000000</td>\n",
       "      <td>0.000510</td>\n",
       "      <td>90.000000</td>\n",
       "      <td>123.0</td>\n",
       "      <td>0.0</td>\n",
       "      <td>3.000000</td>\n",
       "      <td>4.000000</td>\n",
       "      <td>...</td>\n",
       "      <td>81.478172</td>\n",
       "      <td>3.640882</td>\n",
       "      <td>213.698242</td>\n",
       "      <td>892.266418</td>\n",
       "      <td>894.774963</td>\n",
       "      <td>42996.000000</td>\n",
       "      <td>574.496985</td>\n",
       "      <td>1.269062e+03</td>\n",
       "      <td>256.526215</td>\n",
       "      <td>68.507706</td>\n",
       "    </tr>\n",
       "    <tr>\n",
       "      <th>max</th>\n",
       "      <td>0.146135</td>\n",
       "      <td>0.875518</td>\n",
       "      <td>0.400000</td>\n",
       "      <td>84.000000</td>\n",
       "      <td>0.000730</td>\n",
       "      <td>90.000000</td>\n",
       "      <td>123.0</td>\n",
       "      <td>0.0</td>\n",
       "      <td>3.000000</td>\n",
       "      <td>4.000000</td>\n",
       "      <td>...</td>\n",
       "      <td>51126.781250</td>\n",
       "      <td>12.063769</td>\n",
       "      <td>144198.171875</td>\n",
       "      <td>924981.437500</td>\n",
       "      <td>927293.625000</td>\n",
       "      <td>496934.000000</td>\n",
       "      <td>659703.012500</td>\n",
       "      <td>1.183218e+06</td>\n",
       "      <td>175338.796875</td>\n",
       "      <td>127.314201</td>\n",
       "    </tr>\n",
       "  </tbody>\n",
       "</table>\n",
       "<p>8 rows × 61 columns</p>\n",
       "</div>"
      ],
      "text/plain": [
       "                aor           aqi  bids_meta.EchoTime  \\\n",
       "count  10733.000000  10733.000000         9911.000000   \n",
       "mean       0.004131      0.008665            0.030283   \n",
       "std        0.005874      0.011298            0.027815   \n",
       "min        0.000193      0.000852            0.003500   \n",
       "25%        0.001152      0.004326            0.027000   \n",
       "50%        0.002304      0.006685            0.030000   \n",
       "75%        0.004635      0.010329            0.030000   \n",
       "max        0.146135      0.875518            0.400000   \n",
       "\n",
       "       bids_meta.EchoTrainLength  bids_meta.EffectiveEchoSpacing  \\\n",
       "count                 932.000000                     7926.000000   \n",
       "mean                   26.706009                        0.000429   \n",
       "std                    11.783467                        0.000167   \n",
       "min                     1.000000                        0.000042   \n",
       "25%                    31.000000                        0.000265   \n",
       "50%                    31.000000                        0.000500   \n",
       "75%                    31.000000                        0.000510   \n",
       "max                    84.000000                        0.000730   \n",
       "\n",
       "       bids_meta.FlipAngle  bids_meta.ImagingFrequency  \\\n",
       "count          9781.000000                       144.0   \n",
       "mean             80.601268                       123.0   \n",
       "std              10.463008                         0.0   \n",
       "min               7.000000                       123.0   \n",
       "25%              78.000000                       123.0   \n",
       "50%              78.000000                       123.0   \n",
       "75%              90.000000                       123.0   \n",
       "max              90.000000                       123.0   \n",
       "\n",
       "       bids_meta.InversionTime  bids_meta.MagneticFieldStrength  \\\n",
       "count                    144.0                      7023.000000   \n",
       "mean                       0.0                         2.985192   \n",
       "std                        0.0                         0.171470   \n",
       "min                        0.0                         1.000000   \n",
       "25%                        0.0                         3.000000   \n",
       "50%                        0.0                         3.000000   \n",
       "75%                        0.0                         3.000000   \n",
       "max                        0.0                         3.000000   \n",
       "\n",
       "       bids_meta.MultibandAccelerationFactor      ...       summary_bg_stdv  \\\n",
       "count                             402.000000      ...          10733.000000   \n",
       "mean                                3.390547      ...            550.519957   \n",
       "std                                 0.488481      ...           4072.003524   \n",
       "min                                 3.000000      ...              6.518906   \n",
       "25%                                 3.000000      ...             46.901699   \n",
       "50%                                 3.000000      ...             61.348839   \n",
       "75%                                 4.000000      ...             81.478172   \n",
       "max                                 4.000000      ...          51126.781250   \n",
       "\n",
       "       summary_fg_k  summary_fg_mad  summary_fg_mean  summary_fg_median  \\\n",
       "count  10733.000000    10733.000000     10733.000000       10733.000000   \n",
       "mean       2.667194     1650.095460      9618.162530        9651.399650   \n",
       "std        1.434170    12714.949008     78866.907905       79429.498236   \n",
       "min       -0.945427       19.791393       134.614075         136.134552   \n",
       "25%        1.628888      100.239799       608.344788         592.881470   \n",
       "50%        2.462290      147.910660       763.391479         757.787903   \n",
       "75%        3.640882      213.698242       892.266418         894.774963   \n",
       "max       12.063769   144198.171875    924981.437500      927293.625000   \n",
       "\n",
       "        summary_fg_n  summary_fg_p05  summary_fg_p95  summary_fg_stdv  \\\n",
       "count   10733.000000    10733.000000    1.073300e+04     10733.000000   \n",
       "mean    48333.512997     6288.429882    1.277230e+04      2013.170054   \n",
       "std     45625.127486    52664.720013    1.028280e+05     15590.012918   \n",
       "min     14446.000000       72.217881    1.741673e+02        27.285780   \n",
       "25%     26027.000000      337.643221    8.490420e+02       140.262436   \n",
       "50%     31887.000000      460.748070    1.085735e+03       188.763672   \n",
       "75%     42996.000000      574.496985    1.269062e+03       256.526215   \n",
       "max    496934.000000   659703.012500    1.183218e+06    175338.796875   \n",
       "\n",
       "               tsnr  \n",
       "count  10733.000000  \n",
       "mean      56.880906  \n",
       "std       18.432748  \n",
       "min        0.195811  \n",
       "25%       44.241425  \n",
       "50%       56.257191  \n",
       "75%       68.507706  \n",
       "max      127.314201  \n",
       "\n",
       "[8 rows x 61 columns]"
      ]
     },
     "execution_count": 6,
     "metadata": {},
     "output_type": "execute_result"
    }
   ],
   "source": [
    "df.drop_duplicates(subset=['provenance.md5sum'], inplace=True)\n",
    "df.describe()"
   ]
  },
  {
   "cell_type": "code",
   "execution_count": 7,
   "metadata": {
    "hidden": true
   },
   "outputs": [
    {
     "name": "stderr",
     "output_type": "stream",
     "text": [
      "/Users/djw/anaconda/envs/python3/lib/python3.6/site-packages/scipy/stats/stats.py:1713: FutureWarning: Using a non-tuple sequence for multidimensional indexing is deprecated; use `arr[tuple(seq)]` instead of `arr[seq]`. In the future this will be interpreted as an array index, `arr[np.array(seq)]`, which will result either in an error or a different result.\n",
      "  return np.add.reduce(sorted[indexer] * weights, axis=axis) / sumval\n"
     ]
    },
    {
     "data": {
      "text/plain": [
       "Text(0.5,0,'Mean Framewise Displacement [mm]')"
      ]
     },
     "execution_count": 7,
     "metadata": {},
     "output_type": "execute_result"
    },
    {
     "data": {
      "image/png": "[encoded data removed]",
      "text/plain": [
       "<Figure size 432x288 with 1 Axes>"
      ]
     },
     "metadata": {
      "needs_background": "light"
     },
     "output_type": "display_data"
    }
   ],
   "source": [
    "sns.distplot(df.fd_mean)\n",
    "plt.xlabel(\"Mean Framewise Displacement [mm]\")"
   ]
  },
  {
   "cell_type": "markdown",
   "metadata": {},
   "source": [
    "## Evolution of IQMs submission\n",
    "\n",
    "This code generates Figure 3A of the abstract"
   ]
  },
  {
   "cell_type": "code",
   "execution_count": null,
   "metadata": {},
   "outputs": [],
   "source": [
    "import datetime\n",
    "from dateutil import parser\n",
    "import matplotlib.dates as mdates\n",
    "\n",
    "dates_t1w = [parser.parse(d) for d in df_t1w['_created'].values]\n",
    "dates_t1w.sort()\n",
    "\n",
    "dates_t1w_u = [parser.parse(d) for d in df_t1w_unique['_created'].values]\n",
    "dates_t1w_u.sort()\n",
    "# mindate = dates_t1w[0]\n",
    "ax = plt.subplot(111)\n",
    "ax.plot(dates_t1w, list(range(1, len(dates_t1w) + 1)), label='total')\n",
    "ax.plot(dates_t1w_u, list(range(1, len(dates_t1w_u) + 1)), label='unique')\n",
    "ax.set_title('Number of T1w records in database')\n",
    "ax.legend()\n",
    "\n",
    "plt.savefig(\"fig03a-0.svg\", bbox_inches='tight', transparent=False, pad_inches=0)"
   ]
  },
  {
   "cell_type": "code",
   "execution_count": 19,
   "metadata": {},
   "outputs": [
    {
     "data": {
      "image/png": "[encoded data removed]",
      "text/plain": [
       "<Figure size 432x288 with 1 Axes>"
      ]
     },
     "metadata": {
      "needs_background": "light"
     },
     "output_type": "display_data"
    }
   ],
   "source": [
    "import datetime\n",
    "from dateutil import parser\n",
    "import matplotlib.dates as mdates\n",
    "\n",
    "dates_bold = [parser.parse(d) for d in df_bold['_created'].values]\n",
    "dates_bold.sort()\n",
    "dates_bold_u = [parser.parse(d) for d in df_bold_unique['_created'].values]\n",
    "dates_bold_u.sort()\n",
    "# mindate = dates_t1w[0]\n",
    "ax = plt.subplot(111)\n",
    "ax.plot(dates_bold, list(range(1, len(dates_bold) + 1)), label='total')\n",
    "ax.plot(dates_bold_u, list(range(1, len(dates_bold_u) + 1)), label='unique')\n",
    "ax.set_title('Number of BOLD records in database')\n",
    "ax.legend()\n",
    "plt.savefig(\"fig03a-1.svg\", bbox_inches='tight', transparent=False, pad_inches=0)\n",
    "\n"
   ]
  },
  {
   "cell_type": "markdown",
   "metadata": {},
   "source": [
    "## Playing with T1w IQMs\n",
    "\n",
    "Let's plot some of the IQMs for the T1w modality. First, let's check the names of the IQMs. These measures are explained in the documentation (http://mriqc.readthedocs.io/en/stable/iqms/t1w.html)"
   ]
  },
  {
   "cell_type": "code",
   "execution_count": 20,
   "metadata": {},
   "outputs": [
    {
     "ename": "NameError",
     "evalue": "name 'df_t1w' is not defined",
     "output_type": "error",
     "traceback": [
      "\u001b[0;31m---------------------------------------------------------------------------\u001b[0m",
      "\u001b[0;31mNameError\u001b[0m                                 Traceback (most recent call last)",
      "\u001b[0;32m<ipython-input-20-6a9f91b8e7c7>\u001b[0m in \u001b[0;36m<module>\u001b[0;34m()\u001b[0m\n\u001b[0;32m----> 1\u001b[0;31m print(','.join([l for l in df_t1w.columns \n\u001b[0m\u001b[1;32m      2\u001b[0m                 if not l.startswith('_') and not l.startswith('bids_meta') and not l.startswith('provenance')]))\n",
      "\u001b[0;31mNameError\u001b[0m: name 'df_t1w' is not defined"
     ]
    }
   ],
   "source": [
    "print(','.join([l for l in df_t1w.columns \n",
    "                if not l.startswith('_') and not l.startswith('bids_meta') and not l.startswith('provenance')]))\n",
    "\n"
   ]
  },
  {
   "cell_type": "code",
   "execution_count": null,
   "metadata": {},
   "outputs": [],
   "source": [
    "f, ax = plt.subplots(1, 5, figsize=(25,5))\n",
    "plot_measure(df_t1w_unique.cjv, xlabel='Coefficient of joint variation (CJV)', ax=ax[0])\n",
    "plot_measure(df_t1w_unique.cnr, xlabel='Contrast-to-noise ratio (CNR)', ax=ax[1])\n",
    "plot_measure(df_t1w_unique.snr_wm, xlabel='Signal-to-noise ratio estimated on the white-matter (SNR)', ax=ax[2])\n",
    "plot_measure(df_t1w_unique.fwhm_avg, xlabel='Smoothness (FWHM)', ax=ax[3])\n",
    "plot_measure(df_t1w_unique.wm2max, xlabel='WM-to-max intensity ratio (WM2MAX)', ax=ax[4])\n",
    "plt.suptitle('Distributions of some IQMs extracted from T1-weighted MRI')\n",
    "plt.savefig(\"fig03b-0.svg\", bbox_inches='tight', transparent=False, pad_inches=0)"
   ]
  },
  {
   "cell_type": "markdown",
   "metadata": {},
   "source": [
    "## Playing with BOLD IQMs\n",
    "\n",
    "Let's plot some of the IQMs for the BOLD modality. First, let's check the names of the IQMs. These measures are explained in the documentation (http://mriqc.readthedocs.io/en/stable/iqms/bold.html)"
   ]
  },
  {
   "cell_type": "code",
   "execution_count": 21,
   "metadata": {},
   "outputs": [
    {
     "name": "stdout",
     "output_type": "stream",
     "text": [
      "aor,aqi,dummy_trs,dvars_nstd,dvars_std,dvars_vstd,efc,fber,fd_mean,fd_num,fd_perc,fwhm_avg,fwhm_x,fwhm_y,fwhm_z,gcor,gsr_x,gsr_y,size_t,size_x,size_y,size_z,snr,spacing_tr,spacing_x,spacing_y,spacing_z,summary_bg_k,summary_bg_mad,summary_bg_mean,summary_bg_median,summary_bg_n,summary_bg_p05,summary_bg_p95,summary_bg_stdv,summary_fg_k,summary_fg_mad,summary_fg_mean,summary_fg_median,summary_fg_n,summary_fg_p05,summary_fg_p95,summary_fg_stdv,tsnr\n"
     ]
    }
   ],
   "source": [
    "print(','.join([l for l in df_bold.columns \n",
    "                if not l.startswith('_') and not l.startswith('bids_meta') and not l.startswith('provenance')]))\n",
    "\n"
   ]
  },
  {
   "cell_type": "code",
   "execution_count": 27,
   "metadata": {},
   "outputs": [
    {
     "name": "stderr",
     "output_type": "stream",
     "text": [
      "/Users/djw/anaconda/envs/python3/lib/python3.6/site-packages/scipy/stats/stats.py:1713: FutureWarning: Using a non-tuple sequence for multidimensional indexing is deprecated; use `arr[tuple(seq)]` instead of `arr[seq]`. In the future this will be interpreted as an array index, `arr[np.array(seq)]`, which will result either in an error or a different result.\n",
      "  return np.add.reduce(sorted[indexer] * weights, axis=axis) / sumval\n"
     ]
    },
    {
     "data": {
      "image/png": "[encoded data removed]",
      "text/plain": [
       "<Figure size 1800x360 with 5 Axes>"
      ]
     },
     "metadata": {
      "needs_background": "light"
     },
     "output_type": "display_data"
    }
   ],
   "source": [
    "f, ax = plt.subplots(1, 5, figsize=(25,5))\n",
    "plot_measure(df_bold_unique[df_bold_unique.fd_mean < 10].fd_mean, xlabel='Framewise Displacement (mm)', max=2, ax=ax[0])\n",
    "plot_measure(df_bold_unique[df_bold_unique.dvars_nstd < 100].dvars_nstd, xlabel='DVARS', ax=ax[1])\n",
    "plot_measure(df_bold_unique.gcor, xlabel='Global correlation', ax=ax[2])\n",
    "#plot_measure(df_bold_unique.gsr_x, label='x-axis', ax=ax[3])\n",
    "#plot_measure(df_bold_unique.gsr_y, xlabel='Ghost-to-signal ratio (GSR)', label='y-axis', ax=ax[3])\n",
    "#ax[3].legend()\n",
    "plot_measure(df_bold_unique.tsnr, xlabel='Temporal SNR (tSNR)', ax=ax[4])\n",
    "plt.suptitle('Distributions of some IQMs extracted from BOLD fMRI')\n",
    "plt.savefig(\"fig03b-1.png\", bbox_inches='tight', transparent=False, pad_inches=0, facecolor='white')\n"
   ]
  },
  {
   "cell_type": "code",
   "execution_count": 32,
   "metadata": {
    "collapsed": true
   },
   "outputs": [],
   "source": [
    "import pickle\n",
    "\n",
    "df_bold_unique.to_pickle('my_df.pickle')"
   ]
  },
  {
   "cell_type": "code",
   "execution_count": 33,
   "metadata": {
    "collapsed": true
   },
   "outputs": [],
   "source": [
    "df_bold_unique1 = pd.read_pickle('my_df.pickle')"
   ]
  },
  {
   "cell_type": "code",
   "execution_count": null,
   "metadata": {
    "collapsed": true
   },
   "outputs": [],
   "source": [
    "f, ax = plt.subplots(1, 5, figsize=(25,5))\n",
    "plot_measure(df_bold_unique[df_bold_unique.fd_mean < 10].fd_mean, xlabel='Framewise Displacement (mm)', max=2, ax=ax[0])\n",
    "plot_measure(df_bold_unique[df_bold_unique.dvars_nstd < 100].dvars_nstd, xlabel='DVARS', ax=ax[1])\n",
    "plot_measure(df_bold_unique.gcor, xlabel='Global correlation', ax=ax[2])\n",
    "#plot_measure(df_bold_unique.gsr_x, label='x-axis', ax=ax[3])\n",
    "#plot_measure(df_bold_unique.gsr_y, xlabel='Ghost-to-signal ratio (GSR)', label='y-axis', ax=ax[3])\n",
    "#ax[3].legend()\n",
    "plot_measure(df_bold_unique.tsnr, xlabel='Temporal SNR (tSNR)', ax=ax[4])\n",
    "plt.suptitle('Distributions of some IQMs extracted from BOLD fMRI')\n",
    "plt.savefig(\"fig03b-1.png\", bbox_inches='tight', transparent=False, pad_inches=0, facecolor='white')\n"
   ]
  },
  {
   "cell_type": "code",
   "execution_count": 38,
   "metadata": {},
   "outputs": [
    {
     "data": {
      "text/plain": [
       "['_created',\n",
       " '_etag',\n",
       " '_id',\n",
       " '_links.self.href',\n",
       " '_links.self.title',\n",
       " '_updated',\n",
       " 'aor',\n",
       " 'aqi',\n",
       " 'bids_meta.AccelNumReferenceLines',\n",
       " 'bids_meta.AccelerationFactorPE',\n",
       " 'bids_meta.AcquisitionMatrix',\n",
       " 'bids_meta.CogAtlasID',\n",
       " 'bids_meta.CogPOID',\n",
       " 'bids_meta.ConversionSoftware',\n",
       " 'bids_meta.ConversionSoftwareVersion',\n",
       " 'bids_meta.DelayTime',\n",
       " 'bids_meta.DeviceSerialNumber',\n",
       " 'bids_meta.EchoTime',\n",
       " 'bids_meta.EchoTrainLength',\n",
       " 'bids_meta.EffectiveEchoSpacing',\n",
       " 'bids_meta.FlipAngle',\n",
       " 'bids_meta.HardcopyDeviceSoftwareVersion',\n",
       " 'bids_meta.ImageType',\n",
       " 'bids_meta.ImagingFrequency',\n",
       " 'bids_meta.InPlanePhaseEncodingDirection',\n",
       " 'bids_meta.InstitutionAddress',\n",
       " 'bids_meta.InstitutionName',\n",
       " 'bids_meta.Instructions',\n",
       " 'bids_meta.InversionTime',\n",
       " 'bids_meta.MRAcquisitionType',\n",
       " 'bids_meta.MagneticFieldStrength',\n",
       " 'bids_meta.Manufacturer',\n",
       " 'bids_meta.ManufacturersModelName',\n",
       " 'bids_meta.MultibandAccelerationFactor',\n",
       " 'bids_meta.NumberOfAverages',\n",
       " 'bids_meta.NumberOfPhaseEncodingSteps',\n",
       " 'bids_meta.NumberOfVolumesDiscardedByScanner',\n",
       " 'bids_meta.NumberOfVolumesDiscardedByUser',\n",
       " 'bids_meta.NumberShots',\n",
       " 'bids_meta.ParallelAcquisitionTechnique',\n",
       " 'bids_meta.ParallelReductionFactorInPlane',\n",
       " 'bids_meta.PartialFourier',\n",
       " 'bids_meta.PatientPosition',\n",
       " 'bids_meta.PercentPhaseFieldOfView',\n",
       " 'bids_meta.PercentSampling',\n",
       " 'bids_meta.PhaseEncodingDirection',\n",
       " 'bids_meta.PixelBandwidth',\n",
       " 'bids_meta.ProtocolName',\n",
       " 'bids_meta.PulseSequenceDetails',\n",
       " 'bids_meta.PulseSequenceType',\n",
       " 'bids_meta.ReceiveCoilName',\n",
       " 'bids_meta.RepetitionTime',\n",
       " 'bids_meta.ScanOptions',\n",
       " 'bids_meta.ScanningSequence',\n",
       " 'bids_meta.SequenceName',\n",
       " 'bids_meta.SequenceVariant',\n",
       " 'bids_meta.SliceEncodingDirection',\n",
       " 'bids_meta.SoftwareVersions',\n",
       " 'bids_meta.TaskDescription',\n",
       " 'bids_meta.TaskName',\n",
       " 'bids_meta.TotalReadoutTime',\n",
       " 'bids_meta.TotalScanTimeSec',\n",
       " 'bids_meta.TransmitCoilName',\n",
       " 'bids_meta.VariableFlipAngleFlag',\n",
       " 'bids_meta.acq_id',\n",
       " 'bids_meta.modality',\n",
       " 'bids_meta.run_id',\n",
       " 'bids_meta.session_id',\n",
       " 'bids_meta.subject_id',\n",
       " 'bids_meta.task_id',\n",
       " 'dummy_trs',\n",
       " 'dvars_nstd',\n",
       " 'dvars_std',\n",
       " 'dvars_vstd',\n",
       " 'efc',\n",
       " 'fber',\n",
       " 'fd_mean',\n",
       " 'fd_num',\n",
       " 'fd_perc',\n",
       " 'fwhm_avg',\n",
       " 'fwhm_x',\n",
       " 'fwhm_y',\n",
       " 'fwhm_z',\n",
       " 'gcor',\n",
       " 'gsr_x',\n",
       " 'gsr_y',\n",
       " 'provenance.email',\n",
       " 'provenance.md5sum',\n",
       " 'provenance.settings.fd_thres',\n",
       " 'provenance.settings.hmc_fsl',\n",
       " 'provenance.software',\n",
       " 'provenance.version',\n",
       " 'size_t',\n",
       " 'size_x',\n",
       " 'size_y',\n",
       " 'size_z',\n",
       " 'snr',\n",
       " 'spacing_tr',\n",
       " 'spacing_x',\n",
       " 'spacing_y',\n",
       " 'spacing_z',\n",
       " 'summary_bg_k',\n",
       " 'summary_bg_mad',\n",
       " 'summary_bg_mean',\n",
       " 'summary_bg_median',\n",
       " 'summary_bg_n',\n",
       " 'summary_bg_p05',\n",
       " 'summary_bg_p95',\n",
       " 'summary_bg_stdv',\n",
       " 'summary_fg_k',\n",
       " 'summary_fg_mad',\n",
       " 'summary_fg_mean',\n",
       " 'summary_fg_median',\n",
       " 'summary_fg_n',\n",
       " 'summary_fg_p05',\n",
       " 'summary_fg_p95',\n",
       " 'summary_fg_stdv',\n",
       " 'tsnr']"
      ]
     },
     "execution_count": 38,
     "metadata": {},
     "output_type": "execute_result"
    }
   ],
   "source": [
    "list(df_bold_unique1)"
   ]
  },
  {
   "cell_type": "code",
   "execution_count": 49,
   "metadata": {},
   "outputs": [
    {
     "name": "stderr",
     "output_type": "stream",
     "text": [
      "/Users/djw/anaconda/envs/python3/lib/python3.6/site-packages/scipy/stats/stats.py:1713: FutureWarning: Using a non-tuple sequence for multidimensional indexing is deprecated; use `arr[tuple(seq)]` instead of `arr[seq]`. In the future this will be interpreted as an array index, `arr[np.array(seq)]`, which will result either in an error or a different result.\n",
      "  return np.add.reduce(sorted[indexer] * weights, axis=axis) / sumval\n"
     ]
    },
    {
     "data": {
      "image/png": "[encoded data removed]",
      "text/plain": [
       "<Figure size 1800x360 with 5 Axes>"
      ]
     },
     "metadata": {
      "needs_background": "light"
     },
     "output_type": "display_data"
    }
   ],
   "source": [
    "f, ax = plt.subplots(1, 5, figsize=(25,5))\n",
    "plot_measure(df_bold_unique[df_bold_unique.fd_mean < 10].fd_mean, xlabel='Framewise Displacement (mm)', max=2, ax=ax[0])\n",
    "plot_measure(df_bold_unique[df_bold_unique.fd_perc < 90].fd_perc, xlabel='Framewise Displacement (%)', max=90, ax=ax[1])\n",
    "plot_measure(df_bold_unique[df_bold_unique.dvars_nstd < 100].dvars_nstd, xlabel='DVARS', ax=ax[2])\n",
    "plot_measure(df_bold_unique.gcor, xlabel='Global correlation', ax=ax[3])\n",
    "plot_measure(df_bold_unique.tsnr, xlabel='Temporal SNR (tSNR)', ax=ax[4])\n",
    "plt.suptitle('Distributions of some IQMs extracted from BOLD fMRI')\n",
    "plt.savefig(\"fig03b-1.png\", bbox_inches='tight', transparent=False, pad_inches=0, facecolor='white')\n"
   ]
  },
  {
   "cell_type": "code",
   "execution_count": 47,
   "metadata": {},
   "outputs": [
    {
     "data": {
      "text/plain": [
       "25.01833261800544"
      ]
     },
     "execution_count": 47,
     "metadata": {},
     "output_type": "execute_result"
    }
   ],
   "source": [
    "df_bold_unique.fd_perc.mean()"
   ]
  },
  {
   "cell_type": "markdown",
   "metadata": {},
   "source": [
    "Sort/bin into most commone fd_perc amounts..."
   ]
  },
  {
   "cell_type": "code",
   "execution_count": 70,
   "metadata": {
    "scrolled": true
   },
   "outputs": [
    {
     "data": {
      "text/plain": [
       "(-0.1009, 0.999]    7552\n",
       "(0.999, 1.998]      3341\n",
       "(1.998, 2.997]      2747\n",
       "(2.997, 3.996]      2264\n",
       "(3.996, 4.995]      2037\n",
       "Name: fd_perc, dtype: int64"
      ]
     },
     "execution_count": 70,
     "metadata": {},
     "output_type": "execute_result"
    }
   ],
   "source": [
    "df_bold_unique.fd_perc.value_counts(sort=True, bins=100, dropna=True).head()"
   ]
  },
  {
   "cell_type": "code",
   "execution_count": 106,
   "metadata": {},
   "outputs": [
    {
     "name": "stdout",
     "output_type": "stream",
     "text": [
      "test\n"
     ]
    }
   ],
   "source": [
    "print(\"test\")"
   ]
  },
  {
   "cell_type": "code",
   "execution_count": 114,
   "metadata": {
    "collapsed": true
   },
   "outputs": [],
   "source": [
    "expdata_file_name = \"/Users/djw/Documents/pCloud Synced/PhD/PROJECTS/2017_MADE/03_CODE/MADE_niagara/data/made_v2/fixations.csv\""
   ]
  },
  {
   "cell_type": "code",
   "execution_count": 108,
   "metadata": {},
   "outputs": [
    {
     "name": "stderr",
     "output_type": "stream",
     "text": [
      "/Users/djw/anaconda/envs/python3/lib/python3.6/site-packages/ipykernel/__main__.py:1: FutureWarning: from_csv is deprecated. Please use read_csv(...) instead. Note that some of the default arguments are different, so please refer to the documentation for from_csv when changing your function calls\n",
      "  if __name__ == '__main__':\n"
     ]
    }
   ],
   "source": [
    "dfx = pd.DataFrame.from_csv(fixations, header=0, sep=\",\", index_col=None)"
   ]
  },
  {
   "cell_type": "code",
   "execution_count": 109,
   "metadata": {},
   "outputs": [
    {
     "data": {
      "text/html": [
       "<div>\n",
       "<style scoped>\n",
       "    .dataframe tbody tr th:only-of-type {\n",
       "        vertical-align: middle;\n",
       "    }\n",
       "\n",
       "    .dataframe tbody tr th {\n",
       "        vertical-align: top;\n",
       "    }\n",
       "\n",
       "    .dataframe thead th {\n",
       "        text-align: right;\n",
       "    }\n",
       "</style>\n",
       "<table border=\"1\" class=\"dataframe\">\n",
       "  <thead>\n",
       "    <tr style=\"text-align: right;\">\n",
       "      <th></th>\n",
       "      <th>parcode</th>\n",
       "      <th>trial</th>\n",
       "      <th>rt</th>\n",
       "      <th>choice</th>\n",
       "      <th>item_left</th>\n",
       "      <th>item_right</th>\n",
       "      <th>item_left_val</th>\n",
       "      <th>item_right_val</th>\n",
       "    </tr>\n",
       "  </thead>\n",
       "  <tbody>\n",
       "    <tr>\n",
       "      <th>0</th>\n",
       "      <td>1</td>\n",
       "      <td>1</td>\n",
       "      <td>8883.308377</td>\n",
       "      <td>1</td>\n",
       "      <td>1.32</td>\n",
       "      <td>1.72</td>\n",
       "      <td>1.63</td>\n",
       "      <td>1.69</td>\n",
       "    </tr>\n",
       "    <tr>\n",
       "      <th>1</th>\n",
       "      <td>1</td>\n",
       "      <td>2</td>\n",
       "      <td>4550.171639</td>\n",
       "      <td>1</td>\n",
       "      <td>0.38</td>\n",
       "      <td>-0.52</td>\n",
       "      <td>0.41</td>\n",
       "      <td>-0.39</td>\n",
       "    </tr>\n",
       "    <tr>\n",
       "      <th>2</th>\n",
       "      <td>1</td>\n",
       "      <td>3</td>\n",
       "      <td>3716.686491</td>\n",
       "      <td>1</td>\n",
       "      <td>0.96</td>\n",
       "      <td>-0.68</td>\n",
       "      <td>0.89</td>\n",
       "      <td>-0.66</td>\n",
       "    </tr>\n",
       "    <tr>\n",
       "      <th>3</th>\n",
       "      <td>1</td>\n",
       "      <td>4</td>\n",
       "      <td>4516.825782</td>\n",
       "      <td>-1</td>\n",
       "      <td>-0.94</td>\n",
       "      <td>0.42</td>\n",
       "      <td>-0.89</td>\n",
       "      <td>0.42</td>\n",
       "    </tr>\n",
       "    <tr>\n",
       "      <th>4</th>\n",
       "      <td>1</td>\n",
       "      <td>5</td>\n",
       "      <td>2966.836687</td>\n",
       "      <td>1</td>\n",
       "      <td>-0.24</td>\n",
       "      <td>0.28</td>\n",
       "      <td>-0.37</td>\n",
       "      <td>0.42</td>\n",
       "    </tr>\n",
       "  </tbody>\n",
       "</table>\n",
       "</div>"
      ],
      "text/plain": [
       "   parcode  trial           rt  choice  item_left  item_right  item_left_val  \\\n",
       "0        1      1  8883.308377       1       1.32        1.72           1.63   \n",
       "1        1      2  4550.171639       1       0.38       -0.52           0.41   \n",
       "2        1      3  3716.686491       1       0.96       -0.68           0.89   \n",
       "3        1      4  4516.825782      -1      -0.94        0.42          -0.89   \n",
       "4        1      5  2966.836687       1      -0.24        0.28          -0.37   \n",
       "\n",
       "   item_right_val  \n",
       "0            1.69  \n",
       "1           -0.39  \n",
       "2           -0.66  \n",
       "3            0.42  \n",
       "4            0.42  "
      ]
     },
     "execution_count": 109,
     "metadata": {},
     "output_type": "execute_result"
    }
   ],
   "source": [
    "dfx.head()"
   ]
  },
  {
   "cell_type": "code",
   "execution_count": 111,
   "metadata": {},
   "outputs": [],
   "source": [
    "dfx2 = pd.read_csv(fixations, header=0, sep=\",\", index_col=None)"
   ]
  },
  {
   "cell_type": "code",
   "execution_count": 112,
   "metadata": {},
   "outputs": [
    {
     "data": {
      "text/html": [
       "<div>\n",
       "<style scoped>\n",
       "    .dataframe tbody tr th:only-of-type {\n",
       "        vertical-align: middle;\n",
       "    }\n",
       "\n",
       "    .dataframe tbody tr th {\n",
       "        vertical-align: top;\n",
       "    }\n",
       "\n",
       "    .dataframe thead th {\n",
       "        text-align: right;\n",
       "    }\n",
       "</style>\n",
       "<table border=\"1\" class=\"dataframe\">\n",
       "  <thead>\n",
       "    <tr style=\"text-align: right;\">\n",
       "      <th></th>\n",
       "      <th>parcode</th>\n",
       "      <th>trial</th>\n",
       "      <th>rt</th>\n",
       "      <th>choice</th>\n",
       "      <th>item_left</th>\n",
       "      <th>item_right</th>\n",
       "      <th>item_left_val</th>\n",
       "      <th>item_right_val</th>\n",
       "    </tr>\n",
       "  </thead>\n",
       "  <tbody>\n",
       "    <tr>\n",
       "      <th>0</th>\n",
       "      <td>1</td>\n",
       "      <td>1</td>\n",
       "      <td>8883.308377</td>\n",
       "      <td>1</td>\n",
       "      <td>1.32</td>\n",
       "      <td>1.72</td>\n",
       "      <td>1.63</td>\n",
       "      <td>1.69</td>\n",
       "    </tr>\n",
       "    <tr>\n",
       "      <th>1</th>\n",
       "      <td>1</td>\n",
       "      <td>2</td>\n",
       "      <td>4550.171639</td>\n",
       "      <td>1</td>\n",
       "      <td>0.38</td>\n",
       "      <td>-0.52</td>\n",
       "      <td>0.41</td>\n",
       "      <td>-0.39</td>\n",
       "    </tr>\n",
       "    <tr>\n",
       "      <th>2</th>\n",
       "      <td>1</td>\n",
       "      <td>3</td>\n",
       "      <td>3716.686491</td>\n",
       "      <td>1</td>\n",
       "      <td>0.96</td>\n",
       "      <td>-0.68</td>\n",
       "      <td>0.89</td>\n",
       "      <td>-0.66</td>\n",
       "    </tr>\n",
       "    <tr>\n",
       "      <th>3</th>\n",
       "      <td>1</td>\n",
       "      <td>4</td>\n",
       "      <td>4516.825782</td>\n",
       "      <td>-1</td>\n",
       "      <td>-0.94</td>\n",
       "      <td>0.42</td>\n",
       "      <td>-0.89</td>\n",
       "      <td>0.42</td>\n",
       "    </tr>\n",
       "    <tr>\n",
       "      <th>4</th>\n",
       "      <td>1</td>\n",
       "      <td>5</td>\n",
       "      <td>2966.836687</td>\n",
       "      <td>1</td>\n",
       "      <td>-0.24</td>\n",
       "      <td>0.28</td>\n",
       "      <td>-0.37</td>\n",
       "      <td>0.42</td>\n",
       "    </tr>\n",
       "  </tbody>\n",
       "</table>\n",
       "</div>"
      ],
      "text/plain": [
       "   parcode  trial           rt  choice  item_left  item_right  item_left_val  \\\n",
       "0        1      1  8883.308377       1       1.32        1.72           1.63   \n",
       "1        1      2  4550.171639       1       0.38       -0.52           0.41   \n",
       "2        1      3  3716.686491       1       0.96       -0.68           0.89   \n",
       "3        1      4  4516.825782      -1      -0.94        0.42          -0.89   \n",
       "4        1      5  2966.836687       1      -0.24        0.28          -0.37   \n",
       "\n",
       "   item_right_val  \n",
       "0            1.69  \n",
       "1           -0.39  \n",
       "2           -0.66  \n",
       "3            0.42  \n",
       "4            0.42  "
      ]
     },
     "execution_count": 112,
     "metadata": {},
     "output_type": "execute_result"
    }
   ],
   "source": [
    "dfx2.head()"
   ]
  },
  {
   "cell_type": "code",
   "execution_count": 118,
   "metadata": {},
   "outputs": [
    {
     "name": "stderr",
     "output_type": "stream",
     "text": [
      "/Users/djw/anaconda/envs/python3/lib/python3.6/site-packages/ipykernel/__main__.py:1: FutureWarning: from_csv is deprecated. Please use read_csv(...) instead. Note that some of the default arguments are different, so please refer to the documentation for from_csv when changing your function calls\n",
      "  if __name__ == '__main__':\n"
     ]
    },
    {
     "data": {
      "text/html": [
       "<div>\n",
       "<style scoped>\n",
       "    .dataframe tbody tr th:only-of-type {\n",
       "        vertical-align: middle;\n",
       "    }\n",
       "\n",
       "    .dataframe tbody tr th {\n",
       "        vertical-align: top;\n",
       "    }\n",
       "\n",
       "    .dataframe thead th {\n",
       "        text-align: right;\n",
       "    }\n",
       "</style>\n",
       "<table border=\"1\" class=\"dataframe\">\n",
       "  <thead>\n",
       "    <tr style=\"text-align: right;\">\n",
       "      <th></th>\n",
       "      <th>Unnamed: 0</th>\n",
       "      <th>parcode</th>\n",
       "      <th>trial</th>\n",
       "      <th>fix_item</th>\n",
       "      <th>fix_time</th>\n",
       "      <th>fix_num</th>\n",
       "      <th>rev_fix_num</th>\n",
       "    </tr>\n",
       "  </thead>\n",
       "  <tbody>\n",
       "    <tr>\n",
       "      <th>0</th>\n",
       "      <td>0</td>\n",
       "      <td>1</td>\n",
       "      <td>1</td>\n",
       "      <td>2</td>\n",
       "      <td>2850.349235</td>\n",
       "      <td>1</td>\n",
       "      <td>6</td>\n",
       "    </tr>\n",
       "    <tr>\n",
       "      <th>1</th>\n",
       "      <td>1</td>\n",
       "      <td>1</td>\n",
       "      <td>1</td>\n",
       "      <td>1</td>\n",
       "      <td>1233.176509</td>\n",
       "      <td>2</td>\n",
       "      <td>5</td>\n",
       "    </tr>\n",
       "    <tr>\n",
       "      <th>2</th>\n",
       "      <td>2</td>\n",
       "      <td>1</td>\n",
       "      <td>1</td>\n",
       "      <td>2</td>\n",
       "      <td>433.403406</td>\n",
       "      <td>3</td>\n",
       "      <td>4</td>\n",
       "    </tr>\n",
       "    <tr>\n",
       "      <th>3</th>\n",
       "      <td>3</td>\n",
       "      <td>1</td>\n",
       "      <td>1</td>\n",
       "      <td>1</td>\n",
       "      <td>433.219029</td>\n",
       "      <td>4</td>\n",
       "      <td>3</td>\n",
       "    </tr>\n",
       "    <tr>\n",
       "      <th>4</th>\n",
       "      <td>4</td>\n",
       "      <td>1</td>\n",
       "      <td>1</td>\n",
       "      <td>2</td>\n",
       "      <td>1233.325697</td>\n",
       "      <td>5</td>\n",
       "      <td>2</td>\n",
       "    </tr>\n",
       "  </tbody>\n",
       "</table>\n",
       "</div>"
      ],
      "text/plain": [
       "   Unnamed: 0  parcode  trial  fix_item     fix_time  fix_num  rev_fix_num\n",
       "0           0        1      1         2  2850.349235        1            6\n",
       "1           1        1      1         1  1233.176509        2            5\n",
       "2           2        1      1         2   433.403406        3            4\n",
       "3           3        1      1         1   433.219029        4            3\n",
       "4           4        1      1         2  1233.325697        5            2"
      ]
     },
     "execution_count": 118,
     "metadata": {},
     "output_type": "execute_result"
    }
   ],
   "source": [
    "dfx = pd.DataFrame.from_csv(expdata_file_name, header=0, sep=\",\", index_col=None)\n",
    "dfx.head()"
   ]
  },
  {
   "cell_type": "code",
   "execution_count": 119,
   "metadata": {
    "collapsed": true
   },
   "outputs": [],
   "source": [
    "start = time.time()"
   ]
  },
  {
   "cell_type": "code",
   "execution_count": 127,
   "metadata": {},
   "outputs": [
    {
     "data": {
      "text/plain": [
       "167.95845890045166"
      ]
     },
     "execution_count": 127,
     "metadata": {},
     "output_type": "execute_result"
    }
   ],
   "source": [
    "end = time.time()\n",
    "run_duration = end - start\n",
    "run_duration"
   ]
  },
  {
   "cell_type": "code",
   "execution_count": 124,
   "metadata": {
    "collapsed": true
   },
   "outputs": [],
   "source": [
    "import datetime"
   ]
  },
  {
   "cell_type": "code",
   "execution_count": 128,
   "metadata": {},
   "outputs": [],
   "source": [
    "run_duration = datetime.timedelta(seconds=run_duration)"
   ]
  },
  {
   "cell_type": "code",
   "execution_count": 129,
   "metadata": {},
   "outputs": [
    {
     "data": {
      "text/plain": [
       "'0:02:47.958459'"
      ]
     },
     "execution_count": 129,
     "metadata": {},
     "output_type": "execute_result"
    }
   ],
   "source": [
    "str(run_duration)"
   ]
  },
  {
   "cell_type": "code",
   "execution_count": null,
   "metadata": {
    "collapsed": true
   },
   "outputs": [],
   "source": [
    "f = open(\"runtime.txt\", 'w')\n",
    "f.write(\"Run time = \" + str(run_duration))\n",
    "f.write(\"You ran\" + str(sims_per_val) + \"simulations for each value. Num sims variable = \" + str(num_sims) +\n",
    "        \". Maybe total number of simulations: \" + str(values_array.shape[0]) + \".\")\n",
    "f.close()"
   ]
  }
 ],
 "metadata": {
  "kernelspec": {
   "display_name": "Python [conda env:python3]",
   "language": "python",
   "name": "conda-env-python3-py"
  },
  "language_info": {
   "codemirror_mode": {
    "name": "ipython",
    "version": 3
   },
   "file_extension": ".py",
   "mimetype": "text/x-python",
   "name": "python",
   "nbconvert_exporter": "python",
   "pygments_lexer": "ipython3",
   "version": "3.6.6"
  },
  "toc": {
   "nav_menu": {},
   "number_sections": true,
   "sideBar": true,
   "skip_h1_title": false,
   "title_cell": "Table of Contents",
   "title_sidebar": "Contents",
   "toc_cell": true,
   "toc_position": {},
   "toc_section_display": true,
   "toc_window_display": true
  }
 },
 "nbformat": 4,
 "nbformat_minor": 2
}
